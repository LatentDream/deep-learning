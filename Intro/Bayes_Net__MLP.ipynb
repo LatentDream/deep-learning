{
 "cells": [
  {
   "cell_type": "markdown",
   "metadata": {
    "id": "OAHWMYJv4xuc"
   },
   "source": [
    "# INF8225 TP1 H22 (v0.1)"
   ]
  },
  {
   "attachments": {},
   "cell_type": "markdown",
   "metadata": {
    "id": "qV-6EDgXO-S9"
   },
   "source": [
    "Guillaume - THIBAULT / 1948612\n",
    "\n",
    "Partie 3 réalisée avec: Pierre-Luc - BOIVIN / 1956183\n",
    "\n",
    "Date limite : 8h30 le 28 février 2022\n",
    "\n",
    "Remettez votre fichier Colab sur Moodle en 2 formats: **.pdf** ET **.ipynb**"
   ]
  },
  {
   "cell_type": "markdown",
   "metadata": {
    "id": "pCGh-NNm47Tk"
   },
   "source": [
    "# Partie 1 (10 points)\n",
    "\n"
   ]
  },
  {
   "cell_type": "markdown",
   "metadata": {
    "id": "r7tkIgu75Ccd"
   },
   "source": [
    "## Objectif\n",
    "L’objectif de la Partie 1 du travail pratique est de permettre à l’étudiant de se familiariser avec les réseaux Bayésiens et la librairie Numpy."
   ]
  },
  {
   "cell_type": "markdown",
   "metadata": {
    "id": "iongVT7XRegv"
   },
   "source": [
    "## Problème\n"
   ]
  },
  {
   "cell_type": "markdown",
   "metadata": {
    "id": "mAPVItwwbiiG"
   },
   "source": [
    "<img src=\"https://drive.google.com/uc?id=1UhYF6_QGTHGpR5VBg-RKvr8jJWJPN12A\" alt=\"bayes_net\" width=\"600\"/>\n",
    "\n",
    "\n",
    "Voici les tables de probabilités conditionnelles fournies:\n",
    "\n",
    "* La probabilité qu'il est Nuageux: $Pr(N=1)=0.2$\n",
    "* La probabilité que l'arroseur a été utilisé sachant qu'il est nuageux ou non: $Pr(A=1|N=1)=0.1$, $Pr(A=1|N=0)=0.3$ \n",
    "* La probabilité qu'il ait plu, étant donné que le temps est nuageux: $Pr(P=1|N=1)=0.4$, $Pr(P=1|N=0)=0.1$\n",
    "* La probabilité que le gazon de Watson soit mouillé...\n",
    "  * ... sachant qu'il a plu est $Pr(W=1|P=1)=1$\n",
    "  *... sachant qu'il n'a $\\textbf{pas}$ plu: $Pr(W=1|P=0)=0.2$\n",
    "* La probabilité que Holmes remarque que son gazon est mouillé...\n",
    "  * ... sachant que l’arroseur a fonctionné et qu'il n'a $\\textbf{pas}$ plu: $Pr(H=1|P=0, A=1)=0.9$\n",
    "  * ... sachant que l’arroseur n'a $\\textbf{pas}$ fonctionné et qu'il n'a $\\textbf{pas}$ plu: $Pr(H=1|P=0, A=0) = 0$\n",
    "  * ... sachant qu'il a plu, et que l'arroseur ait ou pas fonctionné: $Pr(H=1|P=1, A={0,1})=1$"
   ]
  },
  {
   "cell_type": "markdown",
   "metadata": {
    "id": "Twz4slZ9DY6n"
   },
   "source": [
    "## Trucs et astuces\n",
    "Nous utiliserons des vecteurs multidimensionnels `5d-arrays` dont les `axes` représentent:\n",
    "```\n",
    "axe 0 : temps nuageux (N)\n",
    "axe 1 : pluie (P)\n",
    "axe 2 : arroseur (A)\n",
    "axe 3 : gazon de watson (W)\n",
    "axe 4 : gazon de holmes (H)\n",
    "```\n",
    "Chaque `axe` serait de dimension `2`:\n",
    "```\n",
    "0 : faux\n",
    "1 : vrai\n",
    "```\n",
    "Quelques point à garder en tête:\n",
    "- Utiliser la jointe comme point de départ pour vos calculs (ne pas développer tous les termes à la main).\n",
    "- Attention à l'effet du do-operator sur le graphe.\n",
    "- L'argument \"keepdims=True\" de \"np.sum()\" vous permet conserver les mêmes indices.\n",
    "- Pour un rappel sur les probabilités conditionelles, voir: https://www.probabilitycourse.com/chapter1/1_4_0_conditional_probability.php"
   ]
  },
  {
   "cell_type": "markdown",
   "metadata": {
    "id": "EUjUNqVcTEXP"
   },
   "source": [
    "## 1. Complétez les tables de probabilités ci-dessous"
   ]
  },
  {
   "cell_type": "code",
   "execution_count": 1,
   "metadata": {
    "colab": {
     "base_uri": "https://localhost:8080/"
    },
    "id": "D-rxnQmCCCPa",
    "outputId": "938d8159-3f19-45b5-f71c-5ecb1c231ee2"
   },
   "outputs": [
    {
     "name": "stdout",
     "output_type": "stream",
     "text": [
      "Pr(N)=\n",
      "[0.8 0.2]\n",
      "\n",
      "Pr(P|N)=\n",
      "[[0.9 0.1]\n",
      " [0.6 0.4]]\n",
      "\n",
      "Pr(A|N)=\n",
      "[[0.7 0.3]\n",
      " [0.9 0.1]]\n",
      "\n",
      "Pr(W|P)=\n",
      "[[0.8 0.2]\n",
      " [0.  1. ]]\n",
      "\n",
      "Pr(H|P,A)=\n",
      "[[[1.  0. ]\n",
      "  [0.1 0.9]]\n",
      "\n",
      " [[0.  1. ]\n",
      "  [0.  1. ]]]\n",
      "\n"
     ]
    }
   ],
   "source": [
    "import numpy as np\n",
    "\n",
    "# Les tableaux sont bâtis avec les dimensions (N, P, A, W, H)\n",
    "# et chaque dimension est (False, True)\n",
    "\n",
    "Pr_N = np.array([0.8, 0.2]).reshape(2, 1, 1, 1, 1)\n",
    "Pr_P_given_N = np.array([0.9, 0.1, 0.6, 0.4]).reshape(2, 2, 1, 1, 1)\n",
    "Pr_A_given_N = np.array([0.7, 0.3, 0.9, 0.1]).reshape(2, 1, 2, 1, 1)\n",
    "Pr_W_given_P = np.array([0.8, 0.2, 0, 1]).reshape(1,2,1,2,1)\n",
    "Pr_H_given_PA = np.array([1, 0, 0.1, 0.9, 0, 1, 0, 1]).reshape(1, 2, 2, 1, 2)\n",
    "\n",
    "\n",
    "print (f\"Pr(N)=\\n{np.squeeze(Pr_N)}\\n\")\n",
    "print (f\"Pr(P|N)=\\n{np.squeeze(Pr_P_given_N)}\\n\")\n",
    "print (f\"Pr(A|N)=\\n{np.squeeze(Pr_A_given_N)}\\n\")\n",
    "print (f\"Pr(W|P)=\\n{np.squeeze(Pr_W_given_P)}\\n\")\n",
    "print (f\"Pr(H|P,A)=\\n{np.squeeze(Pr_H_given_PA)}\\n\")"
   ]
  },
  {
   "cell_type": "markdown",
   "metadata": {
    "id": "PHD6DX-nS6Qt"
   },
   "source": [
    "## 2. À l'aide de ces tables de probabilité conditionnelles, calculez les requêtes ci-dessous."
   ]
  },
  {
   "cell_type": "markdown",
   "metadata": {
    "id": "f-vXI0O279sX"
   },
   "source": [
    "a) $Pr(H=1)$\n",
    "\n",
    "$Pr(H=1)$ = $\\sum_{N} \\sum_{P} \\sum_{A} \\sum_{W} Pr(n) * Pr(p|n) * Pr(a|n) * P(w|p) * P(H|p, a)$"
   ]
  },
  {
   "cell_type": "code",
   "execution_count": 2,
   "metadata": {
    "colab": {
     "base_uri": "https://localhost:8080/"
    },
    "id": "lXWtZDsv791d",
    "outputId": "d4331cbf-3b52-43d0-9602-6dede313c404"
   },
   "outputs": [
    {
     "name": "stdout",
     "output_type": "stream",
     "text": [
      "Pr(H=1)=0.36520\n"
     ]
    }
   ],
   "source": [
    "answer = np.sum(Pr_N * Pr_P_given_N * Pr_A_given_N * Pr_W_given_P * Pr_H_given_PA, axis= (0,1,2,3), keepdims=True) [0,0,0,0,1]\n",
    "print(f\"Pr(H=1)={answer:.5f}\")"
   ]
  },
  {
   "cell_type": "markdown",
   "metadata": {
    "id": "k7fla36P79_G"
   },
   "source": [
    "b) $Pr(H=1|A=1)$\n",
    "\n",
    "$Pr(H=1|A=1)$ = $\\sum_{N} \\sum_{P} \\sum_{W} Pr(n,p,a,w,h)/Pr(a)$\n",
    "\n",
    "$Pr(H=1|A=1)$ = $\\sum_{N} \\sum_{P} \\sum_{W} [Pr(n) * Pr(p|n) * Pr(a|n) * P(w|p) * P(H|p, a)] / Pr(A=1)$"
   ]
  },
  {
   "cell_type": "code",
   "execution_count": 3,
   "metadata": {
    "colab": {
     "base_uri": "https://localhost:8080/"
    },
    "id": "1Jp2AGLa7-H_",
    "outputId": "531fa76e-e260-468d-ddc1-ffc700efcc58"
   },
   "outputs": [
    {
     "name": "stdout",
     "output_type": "stream",
     "text": [
      "Pr(H=1|A=1)=0.91231\n"
     ]
    }
   ],
   "source": [
    "Pr_A = np.sum(Pr_N * Pr_P_given_N * Pr_A_given_N * Pr_W_given_P * Pr_H_given_PA, axis= (0,1,3,4), keepdims=True) [0,0,1,0,0]\n",
    "answer = np.sum( (Pr_N * Pr_P_given_N * Pr_A_given_N * Pr_W_given_P * Pr_H_given_PA) / Pr_A, axis= (0,1,3), keepdims=True) [0,0,1,0,1]\n",
    "print(f\"Pr(H=1|A=1)={answer:.5f}\")"
   ]
  },
  {
   "cell_type": "markdown",
   "metadata": {
    "id": "O8mt03aX7-WC"
   },
   "source": [
    "c) $Pr(H=1|do(A=1))$\n",
    "\n",
    "Sachant: \n",
    "$Pr(N,P,W,H| do(A=1)) = Pr(N) * Pr(P|N) * P(w|p) * P(H|p, do(A=1))$\n",
    "\n",
    "$Pr(H=1| do(A=1))$ = $\\sum_{N} \\sum_{P} \\sum_{W} Pr(N,P,W,H| do(A=1))$\n",
    "\n",
    "** Ici $Pr(w|p)$ n'est pas observé et alros il pourra etre enlevé"
   ]
  },
  {
   "cell_type": "code",
   "execution_count": 4,
   "metadata": {
    "colab": {
     "base_uri": "https://localhost:8080/"
    },
    "id": "CCxSweb67-dx",
    "outputId": "7b94f347-2463-4d09-caef-2bb2ad74861f"
   },
   "outputs": [
    {
     "name": "stdout",
     "output_type": "stream",
     "text": [
      "Pr(H=1|do(A=1))=0.91600\n"
     ]
    }
   ],
   "source": [
    "answer = np.sum(Pr_N * Pr_P_given_N * Pr_W_given_P * Pr_H_given_PA, axis= (0,1,3), keepdims=True)[0,0,1,0,1]\n",
    "print(f\"Pr(H=1|do(A=1))={answer:.5f}\")"
   ]
  },
  {
   "cell_type": "markdown",
   "metadata": {
    "id": "dSK8ulij7-m0"
   },
   "source": [
    "d) $Pr(H=1|W=1)$\n",
    "\n",
    "$Pr(H=1|W=1)$ = $\\sum_{N} \\sum_{P} \\sum_{A} Pr(n,p,a,w,h)/Pr(w)$\n",
    "\n",
    "$Pr(H=1|W=1)$ = $\\sum_{N} \\sum_{P} \\sum_{A} [Pr(n) * Pr(p|n) * Pr(a|n) * P(w|p) * P(H|p, a)] / Pr(W=1)$"
   ]
  },
  {
   "cell_type": "code",
   "execution_count": 5,
   "metadata": {
    "colab": {
     "base_uri": "https://localhost:8080/"
    },
    "id": "cliFsd8f7-vC",
    "outputId": "3c562149-5e9a-47cb-f000-e24243138665"
   },
   "outputs": [
    {
     "name": "stdout",
     "output_type": "stream",
     "text": [
      "Pr(H=1|W=1)=0.61293\n"
     ]
    }
   ],
   "source": [
    "Pr_W_1 = np.sum(Pr_N * Pr_P_given_N * Pr_A_given_N * Pr_W_given_P * Pr_H_given_PA, axis= (0,1,2,4), keepdims=True) [0,0,0,1,0]\n",
    "answer = np.sum( (Pr_N * Pr_P_given_N * Pr_A_given_N * Pr_W_given_P * Pr_H_given_PA) / Pr_W_1, axis= (0,1,2), keepdims=True) [0,0,0,1,1]\n",
    "print(f\"Pr(H=1|W=1)={answer:.5f}\")"
   ]
  },
  {
   "cell_type": "markdown",
   "metadata": {
    "id": "zffAAOW67-5I"
   },
   "source": [
    "e) $Pr(H=1|do(W=1))$\n",
    "\n",
    "Sachant: \n",
    "\n",
    "$Pr(N,P,A,H| do(W=w)) = Pr(N) * Pr(P|N) * Pr(A|N) * P(H|P, A)$\n",
    "\n",
    "On trouve que:\n",
    "\n",
    "$Pr(H=1| do(AW1))$ = $\\sum_{N} \\sum_{P} \\sum_{A} Pr(N,P,W,H| do(W=1))$"
   ]
  },
  {
   "cell_type": "code",
   "execution_count": 6,
   "metadata": {
    "colab": {
     "base_uri": "https://localhost:8080/"
    },
    "id": "9zyt7TeB7_CD",
    "outputId": "2a3c7796-7f9b-4bf5-9e15-db60ac478bb7"
   },
   "outputs": [
    {
     "name": "stdout",
     "output_type": "stream",
     "text": [
      "Pr(H=1|do(W=1))=0.36520\n"
     ]
    }
   ],
   "source": [
    "answer = np.sum(Pr_N * Pr_P_given_N * Pr_A_given_N * Pr_H_given_PA, axis=(0,1,2))[0][1]\n",
    "print(f\"Pr(H=1|do(W=1))={answer:.5f}\")"
   ]
  },
  {
   "cell_type": "markdown",
   "metadata": {
    "id": "PeIkZjn47_LZ"
   },
   "source": [
    "f) $Pr(W=1|P=1)$\n",
    "\n",
    "On observe le seul parent de W alors W est independant de N, A et H\n",
    "\n",
    "(Each variable is cond. indep. of tis non-descendent given its parents -> No descent)"
   ]
  },
  {
   "cell_type": "code",
   "execution_count": 7,
   "metadata": {
    "colab": {
     "base_uri": "https://localhost:8080/"
    },
    "id": "Yscy5bf27_Sq",
    "outputId": "bcd13cf2-850c-4017-9fc7-c150bda80a21"
   },
   "outputs": [
    {
     "name": "stdout",
     "output_type": "stream",
     "text": [
      "1.0\n",
      "Pr(W=1|P=1)=1.00000\n"
     ]
    }
   ],
   "source": [
    "answer = Pr_W_given_P[0,1,0,1,0]\n",
    "print(answer)\n",
    "print(f\"Pr(W=1|P=1)={answer:.5f}\")"
   ]
  },
  {
   "cell_type": "markdown",
   "metadata": {
    "id": "XbV8cFjU8TxQ"
   },
   "source": [
    "g) $Pr(W=1|do(P=1))$\n",
    "\n",
    "Le parent de W est fixe, alors W devient independant de N, A et H\n",
    "\n",
    "(Removing the node P -> W is not connected to the rest of the graph)"
   ]
  },
  {
   "cell_type": "code",
   "execution_count": 8,
   "metadata": {
    "colab": {
     "base_uri": "https://localhost:8080/"
    },
    "id": "7jBgoNDz8T6z",
    "outputId": "d0300aa6-5af9-43ea-a995-3773b017b6ae"
   },
   "outputs": [
    {
     "name": "stdout",
     "output_type": "stream",
     "text": [
      "Pr(W=1|do(P=1))=1.00000\n"
     ]
    }
   ],
   "source": [
    "answer = Pr_W_given_P[0,1,0,1,0]\n",
    "print(f\"Pr(W=1|do(P=1))={answer:.5f}\")"
   ]
  },
  {
   "cell_type": "markdown",
   "metadata": {
    "id": "05xm-VaW8UQh"
   },
   "source": [
    "h) $Pr(H=1|P=1)$ \n",
    "\n",
    "En observant P, H devient independant de W\n",
    "\n",
    "$P(N,A,P,H)$ = $Pr(N) * Pr(P|N) * Pr(A|N) * Pr(H|A,P)$\n",
    "\n",
    "$Pr(H=1|P=1)$ = $\\sum_{N} \\sum_{A} $P(N,A,P,H) / Pr(P=1)$"
   ]
  },
  {
   "cell_type": "code",
   "execution_count": 9,
   "metadata": {
    "colab": {
     "base_uri": "https://localhost:8080/"
    },
    "id": "shjD8GIL8UZV",
    "outputId": "261565d5-0ce5-4a92-efbf-a0dab40424a9"
   },
   "outputs": [
    {
     "name": "stdout",
     "output_type": "stream",
     "text": [
      "Pr(H=1|P=1)=1.00000\n"
     ]
    }
   ],
   "source": [
    "Pr_P_1 = np.sum(Pr_N * Pr_P_given_N * Pr_A_given_N * Pr_W_given_P * Pr_H_given_PA, axis= (0,2,3,4), keepdims=True) [0,1,0,0,0]\n",
    "answer = np.sum( (Pr_N * Pr_P_given_N * Pr_A_given_N * Pr_H_given_PA) / Pr_P_1, axis=(0, 2), keepdims=True) [0,1,0,0,1]\n",
    "print(f\"Pr(H=1|P=1)={answer:.5f}\")"
   ]
  },
  {
   "cell_type": "markdown",
   "metadata": {
    "id": "9i2ahKAj8Umu"
   },
   "source": [
    "i) $Pr(H=1|do(P=1))$\n",
    "\n",
    "Équivaut à h), cette fois si en do(P), on propage la Pr et H devient cond. indep. de W"
   ]
  },
  {
   "cell_type": "code",
   "execution_count": 10,
   "metadata": {
    "colab": {
     "base_uri": "https://localhost:8080/"
    },
    "id": "2nLKd4c18UuA",
    "outputId": "e6bf2b44-a1cc-4a86-83cc-16970a790301"
   },
   "outputs": [
    {
     "name": "stdout",
     "output_type": "stream",
     "text": [
      "Pr(H=1|do(P=1))=1.00000\n"
     ]
    }
   ],
   "source": [
    "Pr_P_1 = np.sum(Pr_N * Pr_P_given_N * Pr_A_given_N * Pr_W_given_P * Pr_H_given_PA, axis= (0,2,3,4), keepdims=True) [0,1,0,0,0]\n",
    "answer = np.sum( (Pr_N * Pr_P_given_N * Pr_A_given_N * Pr_H_given_PA) / Pr_P_1, axis=(0, 2), keepdims=True) [0,1,0,0,1]\n",
    "print(f\"Pr(H=1|do(P=1))={answer:.5f}\")"
   ]
  },
  {
   "cell_type": "markdown",
   "metadata": {
    "id": "iUc0EpO18eA-"
   },
   "source": [
    "j) $Pr(P=1|W=1,H=1,N=1)$\n",
    "\n",
    "$P(P=1|W=1, H=1, N=1) = \\frac{\\sum_{a=0}^1 P(P=1, W=1, H=1, N=1)}{\\sum_{p=0}^1 \\sum_{a=0}^1 P(W=1, H=1, N=1)}$"
   ]
  },
  {
   "cell_type": "code",
   "execution_count": 11,
   "metadata": {
    "colab": {
     "base_uri": "https://localhost:8080/"
    },
    "id": "mgDLu0nJ8eM2",
    "outputId": "dc130e57-324a-4d14-9b81-eb3eb57f79a1"
   },
   "outputs": [
    {
     "name": "stdout",
     "output_type": "stream",
     "text": [
      "Pr(P=1|W=1,H=1,N=1)=0.97371\n"
     ]
    }
   ],
   "source": [
    "Pr_P_W_H_N = np.sum(Pr_N * Pr_P_given_N * Pr_A_given_N * Pr_W_given_P * Pr_H_given_PA, axis=(2), keepdims=True) [1,1,0,1,1]\n",
    "Pr_W_H_N = np.sum(Pr_N * Pr_P_given_N * Pr_A_given_N * Pr_W_given_P * Pr_H_given_PA, axis=(1,2), keepdims=True) [1,0,0,1,1]\n",
    "\n",
    "answer = Pr_P_W_H_N / Pr_W_H_N\n",
    "print(f\"Pr(P=1|W=1,H=1,N=1)={answer:.5f}\")"
   ]
  },
  {
   "cell_type": "markdown",
   "metadata": {
    "id": "WTRdYkHfGqDu"
   },
   "source": [
    "## 3. Répondez aux questions suivantes et expliquez\n",
    "\n",
    "### a) Vrai ou Faux:\n",
    "\n",
    "#### i) $H \\perp\\!\\!\\!\\perp N \\, | \\, P \\quad$ ?\n",
    "\n",
    "#### ii) $H \\perp\\!\\!\\!\\perp N \\, | \\, A \\quad$ ?\n",
    "\n",
    "#### iii) $W \\perp\\!\\!\\!\\perp H \\, | \\, P \\quad$ ?\n",
    "\n",
    "#### iv) $P \\perp\\!\\!\\!\\perp A \\, | \\, N \\quad$ ?\n",
    "\n",
    "#### v) $P \\perp\\!\\!\\!\\perp A \\, | \\, N, H \\quad$ ?\n",
    "\n",
    "#### vi) $H \\perp\\!\\!\\!\\perp N \\, | \\, A \\quad$ ?"
   ]
  },
  {
   "cell_type": "markdown",
   "metadata": {
    "id": "cpoOrxiaHV43"
   },
   "source": [
    "**Réponse:**\n",
    "\n",
    "i)   Faux\n",
    "\n",
    "ii)  Faux\n",
    "\n",
    "iii) Vrai\n",
    "\n",
    "iv)  Faux\n",
    "\n",
    "v)   Vrai\n",
    "\n",
    "vi)  Faux"
   ]
  },
  {
   "cell_type": "markdown",
   "metadata": {
    "id": "upu-oX3L-ObO"
   },
   "source": [
    "### b) Expliquez:\n",
    "\n",
    "#### i) Pourquoi est-ce que $Pr(W|P)=Pr(W|do(P))$ ?\n",
    "\n",
    "#### ii) Pourquoi est-ce que $Pr(H|A)\\neq Pr(H|do(A))$ ?"
   ]
  },
  {
   "cell_type": "markdown",
   "metadata": {
    "id": "N8Xe81T4-OtR"
   },
   "source": [
    "**Réponse:**\n",
    "\n",
    "i) \n",
    "* $Pr(W|P)$: W est indépendant de tout ses non déscendants étant donné tous ses parents. Ici W à seulement P comme parent et la probabilité de W découle alors seulement de P.\n",
    "* $Pr(W|do(P))$ équivaut à enlever P du réseau Bayésien. La probabilité de W est alors découlé de P directement. \n",
    "\n",
    "    Alors les deux expression on la même probabilité \n",
    "\n",
    "ii)\n",
    "* Pour $Pr(H|A)$\n",
    "\n",
    "    $Pr(H=1|A=1)$ = $\\sum_{N} \\sum_{P} \\sum_{W} Pr(n,p,a,w,h)/Pr(a)$\n",
    "\n",
    "    $Pr(H=1|A=1)$ = $\\sum_{N} \\sum_{P} \\sum_{W} [Pr(n) * Pr(p|n) * Pr(a|n) * P(w|p) * P(H|p, a)] / Pr(A=1)$\n",
    "\n",
    "* Pour $Pr(H|do(A))$\n",
    "\n",
    "    $Pr(N,P,W,H| do(A=1)) = Pr(N) * Pr(P|N) * P(w|p) * P(H|p, do(A=1))$\n",
    "\n",
    "    $Pr(H=1| do(A=1))$ = $\\sum_{N} \\sum_{P} \\sum_{W} Pr(N,P,W,H| do(A=1))$\n",
    "\n",
    "    Avec les équations précédente, on voit la différence vient du fait que en activant A par nous même, on n'a plus besoin de tenir en compte la probabilité que A parte et le lien entre A et N"
   ]
  },
  {
   "cell_type": "markdown",
   "metadata": {
    "id": "fqfqhDoL5CfA"
   },
   "source": [
    "# Partie 2 (20 points)"
   ]
  },
  {
   "cell_type": "markdown",
   "metadata": {
    "id": "ZjIVlyRq5CjA"
   },
   "source": [
    "## Objectif\n",
    "\n",
    "L’objectif de la partie 2 du travail pratique est de permettre à l’étudiant de se familiariser avec l’apprentissage automatique via la régression logistique. Nous allons donc résoudre un problème de classification d'images en utilisant l’approche de descente du gradient (gradient descent) pour optimiser la log-vraisemblance négative (negative log-likelihood) comme fonction de perte.\n",
    "\n",
    "L'algorithme à implémenter est une variation de descente de gradient qui s’appelle l’algorithme de descente de gradient stochastique par mini-ensemble (mini-batch stochastic gradient descent).  Votre objectif est d’écrire un programme en Python pour optimiser les paramètres d’un modèle étant donné un ensemble de données d’apprentissage, en utilisant un ensemble de validation pour déterminer quand arrêter l'optimisation, et finalement de montrer la performance sur l’ensemble du test."
   ]
  },
  {
   "cell_type": "markdown",
   "metadata": {
    "id": "vFxYYRQJ5Cnb"
   },
   "source": [
    "## Théorie: la régression logistique et le calcul du gradient\n",
    "Il est possible d’encoder l’information concernant l’étiquetage avec des vecteurs multinomiaux (one-hot vectors), c.-à-d. un vecteur de zéros avec un seul 1 pour indiquer quand la classe $C=k$ dans la dimension $k$. Par exemple, le vecteur $\\mathbf{y}=[0, 1, 0, \\cdots, 0]^T$ représente la deuxième classe. Les caractéristiques (features) sont données par des vecteurs $\\mathbf{x}_i \\in \\mathbb{R}^{D}$. En définissant les paramètres de notre modèle comme : $\\mathbf{W}=[\\mathbf{w}_1, \\cdots, \\mathbf{w}_K]^T$ et $\\mathbf{b}=[b_1, b_2, \\cdots  b_K]^T$ et la fonction softmax comme fonction de sortie, on peut exprimer notre modèle sous la forme :\n",
    "\\begin{eqnarray}\n",
    "    p(\\mathbf{y}|\\mathbf{x}) \n",
    "    &=& \\frac{\\exp(\\mathbf{y}^T \\mathbf{W} \\mathbf{x} + \\mathbf{y}^T \\mathbf{b})}{\\sum_{\\mathbf{y}_k \\in \\mathcal{Y}} \\exp(\\mathbf{y}_k^T \\mathbf{W} \\mathbf{x} + \\mathbf{y}_k^T \\mathbf{b})} \n",
    "\\end{eqnarray}\n",
    "L'ensemble de données consiste de $n$ paires (label, input) de la forme $\\mathcal{D}:=(\\mathbf{\\tilde{y}}_i, \\mathbf{\\tilde{x}}_i)_{i=1}^n$, où nous utilisons l'astuce de redéfinir $\\mathbf{\\tilde{x}}_i = [\\mathbf{\\tilde{x}}_i^T 1]^T$ et nous redéfinissions la matrice de paramètres $\\boldsymbol{\\theta} \\in \\mathbb{R}^{K\\times(D+1)}$ (voir des notes de cours pour la relation entre $\\boldsymbol{\\theta}$ et $\\mathbf{W}$). Notre fonction de perte, la log-vraisemblance négative des données selon notre modèle est définie comme:\n",
    "\\begin{equation}\n",
    "    \\mathcal{L}\\big( \\boldsymbol{\\theta}, \\mathcal{D} \\big) := -\\log \\prod_{i=1}^N P(\\mathbf{\\tilde{y}}_i|\\mathbf{\\tilde{x}}_i; \\boldsymbol{\\theta})\n",
    "\\end{equation}\n",
    "Pour cette partie du TP, nous avons calculé pour vous le gradient de la fonction de perte par rapport par rapport aux paramètres du modèle:\n",
    "\\begin{eqnarray}\n",
    "    \\frac{\\partial}{\\partial \\boldsymbol{\\theta}} \\mathcal{L}\\big( \\boldsymbol{\\theta}, \\mathcal{D} \\big) \n",
    "    &=& -\\sum_{i=1}^N \\frac{\\partial}{\\partial \\boldsymbol{\\theta}} \\Bigg\\{\\log \\Bigg(\\frac{\\exp(\\mathbf{\\tilde{y}}_i^T \\boldsymbol{\\theta} \\mathbf{\\tilde{x}}_i)}{\\sum_{\\mathbf{y}_k \\in \\mathcal{Y}} \\exp(\\mathbf{y}_k^T \\boldsymbol{\\theta} \\mathbf{\\tilde{x}}_i)} \\Bigg) \\Bigg\\} \\\\\n",
    "    &=& -\\sum_{i=1}^N \\left(\\mathbf{\\tilde{y}}_i \\mathbf{\\tilde{x}}^T_i- \\sum_{\\mathbf{y}_k \\in \\mathcal{Y}} P(\\mathbf{y}_k|\\mathbf{\\tilde{x}}_i,\\boldsymbol{\\theta}) \\mathbf{y}_k \\mathbf{\\tilde{x}}^T_i \\right) \\\\\n",
    "    &=& \\sum_{i=1}^N \\mathbf{\\hat{p}}_i \\mathbf{\\tilde{x}}^T_i - \\sum_{i=1}^N \\mathbf{\\tilde{y}}_i \\mathbf{\\tilde{x}}^T_i\n",
    "\\end{eqnarray}\n",
    "où $\\mathbf{\\hat{p}}_i$ est un vecteur de probabilités produit par le modèle pour l'exemple $\\mathbf{\\tilde{x}}_i$ et $\\mathbf{\\tilde{y}}_i$ est le vrai *label* pour ce même exemple.\n",
    "\n",
    "Finalement, il reste à discuter de l'évaluation du modèle. Pour la tâche d'intérêt, qui est une instance du problème de classification, il existe plusieurs métriques pour mesurer les performances du modèle la précision de classification, l'erreur de classification, le taux de faux/vrai positifs/négatifs, etc. Habituellement dans le contexte de l'apprentissage automatique, la précision est la plus commune.\n",
    "\n",
    "La précision est définie comme le rapport du nombre d'échantillons bien classés sur le nombre total d'échantillons à classer:\n",
    "$$\n",
    "\\tau_{acc} := \\frac{|\\mathcal{C}|}{|\\mathcal{D}|} \n",
    "$$\n",
    "où l'ensemble des échantillons bien classés $\\mathcal{C}$ est:\n",
    "$$\n",
    "\\mathcal{C} := \\lbrace (\\mathbf{x}, \\mathbf{y}) \\in \\mathcal{D} \\, | \\, \\underset{k}{\\arg\\max} \\, \\, P(\\cdot|\\mathbf{\\tilde{x}}_i; \\boldsymbol{\\theta})_k = \\underset{k}{\\arg\\max} \\, \\, \\tilde{y}_{i,k} \\rbrace\n",
    "$$ \n",
    "En mots, il s'agit du sous-ensemble d'échantillons pour lesquels la classe la plus probable selon notre modèle correspond à la vraie classe."
   ]
  },
  {
   "cell_type": "markdown",
   "metadata": {
    "id": "x3wjjnIDGHZj"
   },
   "source": [
    "## Description des tâches\n",
    "\n",
    "#### 1. Code à compléter\n",
    "\n",
    "On vous demande de compléter l'extrait de code ci-dessous pour résoudre ce problème. Vous devez utiliser la librairie PyTorch cette partie du TP: https://pytorch.org/docs/stable/index.html. Mettez à jour les paramètres de votre modèle avec la descente par *mini-batch*. Exécutez des expériences avec trois différents ensembles: un ensemble d’apprentissages avec 90\\% des exemples (choisis au hasard), un ensemble de validation avec 10\\%. Utilisez uniquement l'ensemble de test pour obtenir votre meilleur résultat une fois que vous pensez avoir obtenu votre meilleure stratégie pour entraîner le modèle.\n",
    "\n",
    "#### 2. Rapport à rédiger\n",
    "\n",
    "Présentez vos résultats dans un rapport. Ce rapport devrait inclure:\n",
    "\n",
    "- **Recherche d'hyperparamètres:** Faites une recherche d'hyperparamètres pour différents taux d'apprentissage, e.g. 0.1, 0.01, 0.001, et différentes tailles de mini-batch, e.g. 1, 20, 200, 1000 pour des modèles entrainés avec SGD. Présentez dans un tableau la précision finale du modèle, sur l'*ensemble de validation*, pour ces différentes combinaisons d'hyperparamètres.\n",
    "\n",
    "- **Analyse du meilleur modèle:** Pour votre meilleur modèle, présentez deux figures montrant la progression de son apprentissage sur l'*ensembe d'entrainement et l'ensemble de validation*. La première figure montrant les courbes de log-vraisemblance négative moyenne après chaque epoch, la deuxième montrant la précision du modèle après chaque epoch. Finalement donnez la précision finale sur l'ensemble de test.\n",
    "\n",
    "- Lire l'article de recherche -\n",
    "Adam: a method for stochastic optimization. Kingma, D., \\& Ba, J. (2015). International Conference on Learning Representation (ICLR). \n",
    "https://arxiv.org/pdf/1412.6980.pdf. Implémentez Adam, répétez les deux étapes précédentes (recherche d'hyperparamètres et analyse du meilleur modèle) cette fois en utilisat Adam, et comparez les performances finales avec votre meilleur modèle SGD.\n",
    "\n",
    "**IMPORTANT**\n",
    "\n",
    "L'objectif du TP est de vous faire implémenter la rétropropagation à la main. **Il est donc interdit d'utiliser les capacités de construction de modèles ou de différentiation automatique de pytorch -- par exemple, aucun appels à torch.nn, torch.autograd ou à la méthode .backward().** L'objectif est d'implémenter un modèle de classification logistique ainsi que son entainement en utilisant uniquement des opérations matricielles de base fournies par PyTorch e.g. torch.sum(), torch.matmul(), etc."
   ]
  },
  {
   "cell_type": "markdown",
   "metadata": {
    "id": "oQq0nDgZuMfs"
   },
   "source": [
    "## Fonctions fournies"
   ]
  },
  {
   "cell_type": "code",
   "execution_count": 12,
   "metadata": {
    "colab": {
     "base_uri": "https://localhost:8080/"
    },
    "id": "-U_jhXT_0Cbs",
    "outputId": "869a4041-1c8f-4964-97a1-c1d9bb2cb449"
   },
   "outputs": [
    {
     "name": "stderr",
     "output_type": "stream",
     "text": [
      "/usr/local/lib/python3.7/dist-packages/torch/utils/data/dataloader.py:481: UserWarning: This DataLoader will create 4 worker processes in total. Our suggested max number of worker in current system is 2, which is smaller than what this DataLoader is going to create. Please be aware that excessive worker creation might get DataLoader running slow or even freeze, lower the worker number to avoid potential slowness/freeze if necessary.\n",
      "  cpuset_checked))\n"
     ]
    }
   ],
   "source": [
    "# fonctions pour charger les ensembles de donnees\n",
    "from torchvision.datasets import FashionMNIST\n",
    "from torchvision import transforms\n",
    "import torch\n",
    "from torch.utils.data import DataLoader, random_split\n",
    "from tqdm import tqdm\n",
    "import matplotlib.pyplot as plt\n",
    "\n",
    "def get_fashion_mnist_dataloaders(val_percentage=0.1, batch_size=1):\n",
    "  dataset = FashionMNIST(\"./dataset\", train=True,  download=True, transform=transforms.Compose([transforms.ToTensor()]))\n",
    "  dataset_test = FashionMNIST(\"./dataset\", train=False,  download=True, transform=transforms.Compose([transforms.ToTensor()]))\n",
    "  len_train = int(len(dataset) * (1.-val_percentage))\n",
    "  len_val = len(dataset) - len_train\n",
    "  dataset_train, dataset_val = random_split(dataset, [len_train, len_val])\n",
    "  data_loader_train = DataLoader(dataset_train, batch_size=batch_size,shuffle=True,num_workers=4)\n",
    "  data_loader_val   = DataLoader(dataset_val, batch_size=batch_size,shuffle=True,num_workers=4)\n",
    "  data_loader_test  = DataLoader(dataset_test, batch_size=batch_size,shuffle=True,num_workers=4)\n",
    "  return data_loader_train, data_loader_val, data_loader_test\n",
    "\n",
    "def reshape_input(x, y):\n",
    "    x = x.view(-1, 784)\n",
    "    y = torch.FloatTensor(len(y), 10).zero_().scatter_(1,y.view(-1,1),1)\n",
    "    return x, y\n",
    "    \n",
    "\n",
    "# call this once first to download the datasets\n",
    "_ = get_fashion_mnist_dataloaders()"
   ]
  },
  {
   "cell_type": "code",
   "execution_count": 13,
   "metadata": {
    "id": "9H5BnbgAOpio"
   },
   "outputs": [],
   "source": [
    "# simple logger to track progress during training\n",
    "class Logger:\n",
    "    def __init__(self):\n",
    "        self.losses_train = []\n",
    "        self.losses_valid = []\n",
    "        self.accuracies_train = []\n",
    "        self.accuracies_valid = []\n",
    "\n",
    "    def log(self, accuracy_train=0, loss_train=0, accuracy_valid=0, loss_valid=0):\n",
    "        self.losses_train.append(loss_train)\n",
    "        self.accuracies_train.append(accuracy_train)\n",
    "        self.losses_valid.append(loss_valid)\n",
    "        self.accuracies_valid.append(accuracy_valid)\n",
    "\n",
    "    def plot_loss_and_accuracy(self, train=True, valid=True):\n",
    "\n",
    "        assert train and valid, \"Cannot plot accuracy because neither train nor valid.\"\n",
    "\n",
    "        figure, (ax1, ax2) = plt.subplots(nrows=1, ncols=2,\n",
    "                                            figsize=(12, 6))\n",
    "        \n",
    "        if train:\n",
    "            ax1.plot(self.losses_train, label=\"Training\")\n",
    "            ax2.plot(self.accuracies_train, label=\"Training\")\n",
    "        if valid:\n",
    "            ax1.plot(self.losses_valid, label=\"Validation\")\n",
    "            ax1.set_title(\"CrossEntropy Loss\")\n",
    "            ax2.plot(self.accuracies_valid, label=\"Validation\")\n",
    "            ax2.set_title(\"Accuracy\")\n",
    "        \n",
    "        for ax in figure.axes:\n",
    "            ax.set_xlabel(\"Epoch\")\n",
    "            ax.legend(loc='best')\n",
    "            ax.set_axisbelow(True)\n",
    "            ax.minorticks_on()\n",
    "            ax.grid(True, which=\"major\", linestyle='-')\n",
    "            ax.grid(True, which=\"minor\", linestyle='--', color='lightgrey', alpha=.4)            \n",
    "  \n",
    "    def print_last(self):\n",
    "        print(f\"Epoch {len(self.losses_train):2d}, \\\n",
    "                Train:loss={self.losses_train[-1]:.3f}, accuracy={self.accuracies_train[-1]*100:.1f}%, \\\n",
    "                Valid: loss={self.losses_valid[-1]:.3f}, accuracy={self.losses_valid[-1]*100:.1f}%\", flush=True)"
   ]
  },
  {
   "cell_type": "markdown",
   "metadata": {
    "id": "vAJ5iiRUZw3f"
   },
   "source": [
    "## Aperçu de l'ensemble de données FashionMnist"
   ]
  },
  {
   "cell_type": "code",
   "execution_count": 14,
   "metadata": {
    "colab": {
     "base_uri": "https://localhost:8080/",
     "height": 333
    },
    "id": "fK-eNmc8Zv2d",
    "outputId": "4c7a39b3-345d-497c-e277-84414b744fe6"
   },
   "outputs": [
    {
     "name": "stderr",
     "output_type": "stream",
     "text": [
      "/usr/local/lib/python3.7/dist-packages/torch/utils/data/dataloader.py:481: UserWarning: This DataLoader will create 4 worker processes in total. Our suggested max number of worker in current system is 2, which is smaller than what this DataLoader is going to create. Please be aware that excessive worker creation might get DataLoader running slow or even freeze, lower the worker number to avoid potential slowness/freeze if necessary.\n",
      "  cpuset_checked))\n"
     ]
    },
    {
     "data": {
      "image/png": "[encoded data removed]",
      "text/plain": [
       "<Figure size 540x288 with 10 Axes>"
      ]
     },
     "metadata": {
      "needs_background": "light"
     },
     "output_type": "display_data"
    }
   ],
   "source": [
    "def plot_samples():\n",
    "  a, _, _ = get_fashion_mnist_dataloaders()\n",
    "  num_row = 2\n",
    "  num_col = 5# plot images\n",
    "  num_images = num_row * num_col\n",
    "  fig, axes = plt.subplots(num_row, num_col, figsize=(1.5*num_col,2*num_row))\n",
    "  for i, (x,y) in enumerate(a):\n",
    "      if i >= num_images:\n",
    "        break\n",
    "      ax = axes[i//num_col, i%num_col]\n",
    "      x = (x.numpy().squeeze() * 255).astype(int)\n",
    "      y = y.numpy()[0]\n",
    "      ax.imshow(x, cmap='gray')\n",
    "      ax.set_title(f\"Label: {y}\")\n",
    "      \n",
    "  plt.tight_layout()\n",
    "  plt.show()\n",
    "plot_samples()"
   ]
  },
  {
   "cell_type": "markdown",
   "metadata": {
    "id": "EpZ8NK8_CAqW"
   },
   "source": [
    "## Fonctions à compléter"
   ]
  },
  {
   "cell_type": "code",
   "execution_count": 37,
   "metadata": {
    "id": "VSc19WnyQsFv"
   },
   "outputs": [],
   "source": [
    "def accuracy(y, y_pred) :\n",
    "    # Nombre d'éléments à classifier.\n",
    "    card_D = y.shape[0]\n",
    "\n",
    "    # Calcul du nombre d'éléments bien classifiés.\n",
    "    y_pred_argmax = torch.argmax(y_pred, dim=1)\n",
    "    y_argmax = torch.argmax(y, dim=1)\n",
    "\n",
    "    card_C = (y_pred_argmax == y_argmax).sum()\n",
    "\n",
    "    # Calcul de la précision de classification.\n",
    "    acc = torch.div(card_C, card_D)\n",
    "\n",
    "    return acc, (card_C, card_D)\n",
    "\n",
    "\n",
    "def accuracy_and_loss_whole_dataset(data_loader, model):\n",
    "    cardinal = 0\n",
    "    loss     = 0.\n",
    "    n_accurate_preds  = 0.\n",
    "\n",
    "    for x, y in data_loader:\n",
    "        x, y                  = reshape_input(x, y)\n",
    "        y_pred                = model.forward(x)\n",
    "        xentrp                = cross_entropy(y, y_pred)\n",
    "        _, (n_acc, n_samples) = accuracy(y, y_pred)\n",
    "\n",
    "        cardinal = cardinal + n_samples\n",
    "        loss     = loss + xentrp\n",
    "        n_accurate_preds  = n_accurate_preds + n_acc\n",
    "\n",
    "    loss = loss / float(cardinal)\n",
    "    acc  = n_accurate_preds / float(cardinal)\n",
    "\n",
    "    return acc, loss\n",
    "\n",
    "\n",
    "def cross_entropy(y, y_pred): \n",
    "    loss = - torch.sum(y * torch.log(torch.clip(y_pred, min=1e-5)))\n",
    "    \n",
    "    return loss\n",
    "\n",
    "\n",
    "def softmax(x, axis=-1):\n",
    "    max, index = torch.max(x, dim=1)\n",
    "    exp_x = torch.exp(x - max[:,None])\n",
    "    sum = torch.sum(exp_x, dim=axis, keepdim=True)\n",
    "    values = torch.div(exp_x, sum)\n",
    "\n",
    "    return values\n",
    "\n",
    "\n",
    "def inputs_tilde(x, axis=-1):\n",
    "    one_vec = torch.ones(x.shape[0], 1)\n",
    "    x_tilde = torch.cat([x, one_vec], dim=1)\n",
    "\n",
    "    return x_tilde"
   ]
  },
  {
   "cell_type": "code",
   "execution_count": 38,
   "metadata": {
    "id": "ya7J-i89GHnp"
   },
   "outputs": [],
   "source": [
    "class LinearModel:\n",
    "    def __init__(self, num_features, num_classes):\n",
    "      self.params = torch.normal(0, 0.01, (num_features + 1, num_classes))\n",
    "      self.t = 0 \n",
    "      self.m_t = 0 \n",
    "      self.v_t = 0\n",
    "      self.beta_1 = 0.9\n",
    "      self.beta_2 = 0.999\n",
    "      self.epsilon = 10e-8\n",
    "\n",
    "        \n",
    "    def forward(self, x):\n",
    "      inputs = inputs_tilde(x)\n",
    "      outputs = softmax(torch.matmul(inputs, self.params))\n",
    "\n",
    "      return outputs\n",
    "\n",
    "\n",
    "    def get_grads(self, y, y_pred, X): \n",
    "      x = inputs_tilde(X)\n",
    "      grads = torch.matmul(x.T, y_pred) - torch.matmul(x.T, y)\n",
    "\n",
    "      return grads\n",
    "\n",
    "\n",
    "    def sgd_update(self, lr, grads):\n",
    "      self.params = self.params - lr * grads\n",
    "    \n",
    "\n",
    "    def adam_update(self, lr, grads):\n",
    "      self.t += 1\n",
    "      self.m_t = self.beta_1 * self.m_t + (1 - self.beta_1) * grads\n",
    "      self.v_t = self.beta_2 * self.v_t + (1 - self.beta_2) * torch.pow(grads, 2)\n",
    "      m_hat_t = self.m_t / (1 - self.beta_1 ** self.t)\n",
    "      v_hat_t = self.v_t / (1 - self.beta_2 ** self.t)\n",
    "      self.params = self.params - lr * m_hat_t / (torch.sqrt(v_hat_t) + self.epsilon)\n",
    "\n",
    "\n",
    "def train(model, lr=0.1, nb_epochs=10, sgd=True, data_loader_train=None, data_loader_val=None):\n",
    "    best_model = None\n",
    "    best_val_accuracy = 0\n",
    "    best_params = None\n",
    "    best_accuracy = 0\n",
    "    logger = Logger()\n",
    "\n",
    "    for epoch in range(nb_epochs+1):\n",
    "        # at epoch 0 evaluate random initial model\n",
    "        #   then for subsequent epochs, do optimize before evaluation.\n",
    "        if epoch > 0:\n",
    "          for x, y in data_loader_train:\n",
    "              x, y = reshape_input(x, y)\n",
    "              y_pred = model.forward(x)\n",
    "              loss = cross_entropy(y, y_pred)\n",
    "              grads = model.get_grads(y, y_pred, x)\n",
    "              if sgd:\n",
    "                model.sgd_update(lr, grads)\n",
    "              else:\n",
    "                model.adam_update(lr, grads)\n",
    "        \n",
    "        accuracy_train, loss_train = accuracy_and_loss_whole_dataset(data_loader_train, model)\n",
    "        accuracy_val, loss_val = accuracy_and_loss_whole_dataset(data_loader_val, model)\n",
    "        \n",
    "        if accuracy_val > best_accuracy:\n",
    "          best_accuracy = accuracy_val\n",
    "          best_params = model.params\n",
    "          best_model = model\n",
    "\n",
    "        logger.log(accuracy_train, loss_train, accuracy_val, loss_val)\n",
    "        if epoch % 1 == 0: # prints every 5 epochs, you can change it to % 1 for example to print each epoch\n",
    "          print(f\"Epoch {epoch:2d}, \\\n",
    "                  Train: loss={loss_train.item():.3f}, accuracy={accuracy_train.item()*100:.1f}%, \\\n",
    "                  Valid: loss={loss_val.item():.3f}, accuracy={accuracy_val.item()*100:.1f}%\", flush=True)\n",
    "\n",
    "    return best_model, best_accuracy, logger\n"
   ]
  },
  {
   "cell_type": "markdown",
   "metadata": {
    "id": "_zUGBmtf9pcA"
   },
   "source": [
    "## Évaluation"
   ]
  },
  {
   "cell_type": "markdown",
   "metadata": {
    "id": "eUuU5n979pcD"
   },
   "source": [
    "### SGD: Recherche d'hyperparamètres"
   ]
  },
  {
   "cell_type": "code",
   "execution_count": 22,
   "metadata": {
    "colab": {
     "base_uri": "https://localhost:8080/"
    },
    "id": "4R_6Rxgq9pcE",
    "outputId": "7aa864fb-184a-48e2-e0e1-5aad21a37b84"
   },
   "outputs": [
    {
     "name": "stdout",
     "output_type": "stream",
     "text": [
      "------------------------------------------------------------------\n",
      "Training model with a learning rate of 0.001 and a batch size of 64\n"
     ]
    },
    {
     "name": "stderr",
     "output_type": "stream",
     "text": [
      "/usr/local/lib/python3.7/dist-packages/torch/utils/data/dataloader.py:481: UserWarning: This DataLoader will create 4 worker processes in total. Our suggested max number of worker in current system is 2, which is smaller than what this DataLoader is going to create. Please be aware that excessive worker creation might get DataLoader running slow or even freeze, lower the worker number to avoid potential slowness/freeze if necessary.\n",
      "  cpuset_checked))\n"
     ]
    },
    {
     "name": "stdout",
     "output_type": "stream",
     "text": [
      "Epoch  0,                   Train: loss=2.311, accuracy=11.8%,                   Valid: loss=2.309, accuracy=11.6%\n",
      "Epoch  1,                   Train: loss=0.531, accuracy=82.5%,                   Valid: loss=0.532, accuracy=82.3%\n",
      "Epoch  2,                   Train: loss=0.494, accuracy=83.1%,                   Valid: loss=0.489, accuracy=83.5%\n",
      "Epoch  3,                   Train: loss=0.462, accuracy=84.4%,                   Valid: loss=0.458, accuracy=84.2%\n",
      "Epoch  4,                   Train: loss=0.445, accuracy=84.9%,                   Valid: loss=0.444, accuracy=84.6%\n",
      "Epoch  5,                   Train: loss=0.442, accuracy=84.9%,                   Valid: loss=0.444, accuracy=84.5%\n",
      "validation accuracy = 84.567\n",
      "------------------------------------------------------------------\n",
      "Training model with a learning rate of 0.001 and a batch size of 256\n",
      "Epoch  0,                   Train: loss=2.322, accuracy=10.1%,                   Valid: loss=2.319, accuracy=9.6%\n",
      "Epoch  1,                   Train: loss=0.728, accuracy=76.7%,                   Valid: loss=0.752, accuracy=76.2%\n",
      "Epoch  2,                   Train: loss=0.588, accuracy=79.6%,                   Valid: loss=0.608, accuracy=79.6%\n",
      "Epoch  3,                   Train: loss=0.516, accuracy=81.9%,                   Valid: loss=0.544, accuracy=81.2%\n",
      "Epoch  4,                   Train: loss=0.450, accuracy=84.5%,                   Valid: loss=0.484, accuracy=83.8%\n",
      "Epoch  5,                   Train: loss=0.447, accuracy=85.0%,                   Valid: loss=0.483, accuracy=84.0%\n",
      "validation accuracy = 83.983\n",
      "------------------------------------------------------------------\n",
      "Training model with a learning rate of 0.001 and a batch size of 512\n",
      "Epoch  0,                   Train: loss=2.290, accuracy=15.8%,                   Valid: loss=2.287, accuracy=16.2%\n",
      "Epoch  1,                   Train: loss=0.712, accuracy=79.9%,                   Valid: loss=0.714, accuracy=79.4%\n",
      "Epoch  2,                   Train: loss=0.740, accuracy=80.8%,                   Valid: loss=0.745, accuracy=80.3%\n",
      "Epoch  3,                   Train: loss=0.647, accuracy=81.1%,                   Valid: loss=0.649, accuracy=81.0%\n",
      "Epoch  4,                   Train: loss=0.515, accuracy=84.5%,                   Valid: loss=0.509, accuracy=83.9%\n",
      "Epoch  5,                   Train: loss=0.775, accuracy=81.1%,                   Valid: loss=0.779, accuracy=80.8%\n",
      "validation accuracy = 83.900\n",
      "------------------------------------------------------------------\n",
      "Training model with a learning rate of 0.0001 and a batch size of 64\n",
      "Epoch  0,                   Train: loss=2.309, accuracy=15.3%,                   Valid: loss=2.309, accuracy=15.3%\n",
      "Epoch  1,                   Train: loss=0.819, accuracy=74.7%,                   Valid: loss=0.813, accuracy=75.2%\n",
      "Epoch  2,                   Train: loss=0.701, accuracy=77.9%,                   Valid: loss=0.690, accuracy=78.8%\n",
      "Epoch  3,                   Train: loss=0.646, accuracy=79.7%,                   Valid: loss=0.634, accuracy=80.5%\n",
      "Epoch  4,                   Train: loss=0.612, accuracy=80.6%,                   Valid: loss=0.599, accuracy=81.3%\n",
      "Epoch  5,                   Train: loss=0.588, accuracy=81.2%,                   Valid: loss=0.574, accuracy=81.8%\n",
      "validation accuracy = 81.800\n",
      "------------------------------------------------------------------\n",
      "Training model with a learning rate of 0.0001 and a batch size of 256\n",
      "Epoch  0,                   Train: loss=2.345, accuracy=3.0%,                   Valid: loss=2.346, accuracy=3.2%\n",
      "Epoch  1,                   Train: loss=0.818, accuracy=74.6%,                   Valid: loss=0.820, accuracy=74.2%\n",
      "Epoch  2,                   Train: loss=0.700, accuracy=77.7%,                   Valid: loss=0.703, accuracy=77.7%\n",
      "Epoch  3,                   Train: loss=0.644, accuracy=79.6%,                   Valid: loss=0.647, accuracy=79.7%\n",
      "Epoch  4,                   Train: loss=0.611, accuracy=80.2%,                   Valid: loss=0.614, accuracy=80.4%\n",
      "Epoch  5,                   Train: loss=0.588, accuracy=81.0%,                   Valid: loss=0.592, accuracy=81.3%\n",
      "validation accuracy = 81.283\n",
      "------------------------------------------------------------------\n",
      "Training model with a learning rate of 0.0001 and a batch size of 512\n",
      "Epoch  0,                   Train: loss=2.290, accuracy=11.8%,                   Valid: loss=2.293, accuracy=11.5%\n",
      "Epoch  1,                   Train: loss=0.814, accuracy=74.9%,                   Valid: loss=0.818, accuracy=74.6%\n",
      "Epoch  2,                   Train: loss=0.698, accuracy=78.2%,                   Valid: loss=0.703, accuracy=77.9%\n",
      "Epoch  3,                   Train: loss=0.643, accuracy=79.8%,                   Valid: loss=0.650, accuracy=79.5%\n",
      "Epoch  4,                   Train: loss=0.608, accuracy=80.6%,                   Valid: loss=0.616, accuracy=80.4%\n",
      "Epoch  5,                   Train: loss=0.584, accuracy=81.3%,                   Valid: loss=0.592, accuracy=81.2%\n",
      "validation accuracy = 81.200\n",
      "------------------------------------------------------------------\n",
      "Training model with a learning rate of 1e-05 and a batch size of 64\n",
      "Epoch  0,                   Train: loss=2.345, accuracy=3.9%,                   Valid: loss=2.347, accuracy=3.9%\n",
      "Epoch  1,                   Train: loss=1.584, accuracy=66.0%,                   Valid: loss=1.586, accuracy=65.1%\n",
      "Epoch  2,                   Train: loss=1.290, accuracy=66.8%,                   Valid: loss=1.293, accuracy=65.9%\n",
      "Epoch  3,                   Train: loss=1.137, accuracy=67.5%,                   Valid: loss=1.140, accuracy=66.7%\n",
      "Epoch  4,                   Train: loss=1.043, accuracy=68.7%,                   Valid: loss=1.046, accuracy=67.9%\n",
      "Epoch  5,                   Train: loss=0.978, accuracy=69.8%,                   Valid: loss=0.982, accuracy=69.1%\n",
      "validation accuracy = 69.100\n",
      "------------------------------------------------------------------\n",
      "Training model with a learning rate of 1e-05 and a batch size of 256\n",
      "Epoch  0,                   Train: loss=2.324, accuracy=4.3%,                   Valid: loss=2.324, accuracy=4.3%\n",
      "Epoch  1,                   Train: loss=1.580, accuracy=66.1%,                   Valid: loss=1.580, accuracy=65.8%\n",
      "Epoch  2,                   Train: loss=1.288, accuracy=67.0%,                   Valid: loss=1.288, accuracy=66.8%\n",
      "Epoch  3,                   Train: loss=1.136, accuracy=67.9%,                   Valid: loss=1.137, accuracy=67.5%\n",
      "Epoch  4,                   Train: loss=1.042, accuracy=68.8%,                   Valid: loss=1.043, accuracy=68.5%\n",
      "Epoch  5,                   Train: loss=0.977, accuracy=70.3%,                   Valid: loss=0.979, accuracy=69.7%\n",
      "validation accuracy = 69.650\n",
      "------------------------------------------------------------------\n",
      "Training model with a learning rate of 1e-05 and a batch size of 512\n",
      "Epoch  0,                   Train: loss=2.333, accuracy=3.6%,                   Valid: loss=2.331, accuracy=3.7%\n",
      "Epoch  1,                   Train: loss=1.585, accuracy=65.0%,                   Valid: loss=1.587, accuracy=64.9%\n",
      "Epoch  2,                   Train: loss=1.291, accuracy=66.4%,                   Valid: loss=1.292, accuracy=66.5%\n",
      "Epoch  3,                   Train: loss=1.138, accuracy=67.7%,                   Valid: loss=1.138, accuracy=67.5%\n",
      "Epoch  4,                   Train: loss=1.043, accuracy=68.8%,                   Valid: loss=1.042, accuracy=68.7%\n",
      "Epoch  5,                   Train: loss=0.979, accuracy=70.1%,                   Valid: loss=0.976, accuracy=69.9%\n",
      "validation accuracy = 69.867\n"
     ]
    }
   ],
   "source": [
    "# SGD\n",
    "# Montrez les résultats pour différents taux d'apprentissage, e.g. 0.1, 0.01, 0.001, et différentes tailles de mini-batch, e.g. 1, 20, 200, 1000.\n",
    "batch_size_list = [64, 256, 512]   # Define ranges in a list\n",
    "lr_list = [0.001, 0.0001, 0.00001]           # Define ranges in a list\n",
    "\n",
    "with torch.no_grad():\n",
    "  for lr in lr_list:\n",
    "    for batch_size in batch_size_list:\n",
    "      print(\"------------------------------------------------------------------\")\n",
    "      print(\"Training model with a learning rate of {0} and a batch size of {1}\".format(lr, batch_size))\n",
    "      data_loader_train, data_loader_val, data_loader_test = get_fashion_mnist_dataloaders(val_percentage=0.1, batch_size=batch_size)\n",
    "      \n",
    "      model = LinearModel(num_features=784, num_classes=10)\n",
    "      _, val_accuracy, _ = train(model,lr=lr, nb_epochs=5, sgd=True, data_loader_train=data_loader_train, data_loader_val=data_loader_val)\n",
    "      print(f\"validation accuracy = {val_accuracy*100:.3f}\")"
   ]
  },
  {
   "cell_type": "markdown",
   "metadata": {
    "id": "AmvtxoLo9pcF"
   },
   "source": [
    "#### **Tableau pour la précision sur l'ensemble de validation**\n",
    "N.B. que les lignes correspondent aux valeurs du taux d'apprentisage et les colonnes correspondent au valeur du batch size. Les valeurs ci-dessous sont donné comme exemples; remplacez-les par les valeurs que vous avez utilisées pour votre recherche d'hyperparamètres.\n",
    "\n",
    "learning rate\\batch_size  | 64 | 256 | 512\n",
    "-------------------|------------------|------------------|------------------|\n",
    "**0.1**   | 84.567  | 83.983 | 83.900 |\n",
    "**0.01** | 81.800  | 81.283 | 81.200 |\n",
    "**0.001**  | 69.650  | 69.650 | 69.867 |"
   ]
  },
  {
   "cell_type": "markdown",
   "metadata": {
    "id": "8PvrqlWt9pcG"
   },
   "source": [
    "### SGD: Analyse du meilleur modèle"
   ]
  },
  {
   "cell_type": "code",
   "execution_count": 39,
   "metadata": {
    "colab": {
     "base_uri": "https://localhost:8080/",
     "height": 910
    },
    "id": "uQ8Vc8JM9pcG",
    "outputId": "44343ef4-4b3a-48e4-d464-5d41a58918de"
   },
   "outputs": [
    {
     "name": "stderr",
     "output_type": "stream",
     "text": [
      "/usr/local/lib/python3.7/dist-packages/torch/utils/data/dataloader.py:481: UserWarning: This DataLoader will create 4 worker processes in total. Our suggested max number of worker in current system is 2, which is smaller than what this DataLoader is going to create. Please be aware that excessive worker creation might get DataLoader running slow or even freeze, lower the worker number to avoid potential slowness/freeze if necessary.\n",
      "  cpuset_checked))\n"
     ]
    },
    {
     "name": "stdout",
     "output_type": "stream",
     "text": [
      "Epoch  0,                   Train: loss=2.306, accuracy=7.3%,                   Valid: loss=2.306, accuracy=7.0%\n",
      "Epoch  1,                   Train: loss=2.016, accuracy=80.2%,                   Valid: loss=2.043, accuracy=79.8%\n",
      "Epoch  2,                   Train: loss=1.572, accuracy=83.8%,                   Valid: loss=1.638, accuracy=83.1%\n",
      "Epoch  3,                   Train: loss=1.963, accuracy=80.6%,                   Valid: loss=2.021, accuracy=80.3%\n",
      "Epoch  4,                   Train: loss=1.678, accuracy=83.2%,                   Valid: loss=1.761, accuracy=82.5%\n",
      "Epoch  5,                   Train: loss=1.649, accuracy=83.5%,                   Valid: loss=1.802, accuracy=82.2%\n",
      "Epoch  6,                   Train: loss=1.564, accuracy=84.4%,                   Valid: loss=1.657, accuracy=83.3%\n",
      "Epoch  7,                   Train: loss=2.204, accuracy=78.9%,                   Valid: loss=2.210, accuracy=78.7%\n",
      "Epoch  8,                   Train: loss=1.586, accuracy=84.1%,                   Valid: loss=1.722, accuracy=83.0%\n",
      "Epoch  9,                   Train: loss=1.908, accuracy=81.2%,                   Valid: loss=2.041, accuracy=80.1%\n",
      "Epoch 10,                   Train: loss=1.604, accuracy=83.5%,                   Valid: loss=1.831, accuracy=81.5%\n",
      "Epoch 11,                   Train: loss=1.681, accuracy=83.6%,                   Valid: loss=1.799, accuracy=82.6%\n",
      "Epoch 12,                   Train: loss=1.389, accuracy=85.9%,                   Valid: loss=1.509, accuracy=85.0%\n",
      "Epoch 13,                   Train: loss=2.445, accuracy=76.8%,                   Valid: loss=2.546, accuracy=75.9%\n",
      "Epoch 14,                   Train: loss=1.783, accuracy=82.6%,                   Valid: loss=1.940, accuracy=81.4%\n",
      "Epoch 15,                   Train: loss=1.992, accuracy=80.4%,                   Valid: loss=2.230, accuracy=78.3%\n",
      "Epoch 16,                   Train: loss=1.721, accuracy=82.9%,                   Valid: loss=1.864, accuracy=81.4%\n",
      "Epoch 17,                   Train: loss=1.355, accuracy=86.1%,                   Valid: loss=1.515, accuracy=84.7%\n",
      "Epoch 18,                   Train: loss=1.599, accuracy=84.3%,                   Valid: loss=1.738, accuracy=83.1%\n",
      "Epoch 19,                   Train: loss=1.420, accuracy=85.6%,                   Valid: loss=1.544, accuracy=84.5%\n",
      "Epoch 20,                   Train: loss=1.461, accuracy=85.1%,                   Valid: loss=1.680, accuracy=83.1%\n",
      "Best validation accuracy = 84.983\n",
      "Evaluation of the best training model over test set\n",
      "------\n",
      "Loss : 1.765\n",
      "Accuracy : 82.470\n"
     ]
    },
    {
     "data": {
      "image/png": "[encoded data removed]",
      "text/plain": [
       "<Figure size 864x432 with 2 Axes>"
      ]
     },
     "metadata": {
      "needs_background": "light"
     },
     "output_type": "display_data"
    }
   ],
   "source": [
    "# SGD\n",
    "# Montrez les résultats pour la meilleure configuration trouvez ci-dessus.\n",
    "batch_size = 64 # TODO: Vous devez modifier cette valeur avec la meilleur que vous avez eu.\n",
    "lr = 0.1 # TODO: Vous devez modifier cette valeur avec la meilleur que vous avez eu.\n",
    "\n",
    "with torch.no_grad():\n",
    "  data_loader_train, data_loader_val, data_loader_test = get_fashion_mnist_dataloaders(val_percentage=0.1, batch_size=batch_size)\n",
    "\n",
    "  model = LinearModel(num_features=784, num_classes=10)\n",
    "  best_model, best_val_accuracy, logger = train(model,lr=lr, nb_epochs=20, sgd=True, data_loader_train=data_loader_train, data_loader_val=data_loader_val)\n",
    "  logger.plot_loss_and_accuracy()\n",
    "  print(f\"Best validation accuracy = {best_val_accuracy*100:.3f}\")\n",
    "\n",
    "  accuracy_test, loss_test = accuracy_and_loss_whole_dataset(data_loader_test, best_model)\n",
    "print(\"Evaluation of the best training model over test set\")\n",
    "print(\"------\")\n",
    "print(f\"Loss : {loss_test:.3f}\")\n",
    "print(f\"Accuracy : {accuracy_test*100.:.3f}\")"
   ]
  },
  {
   "cell_type": "markdown",
   "metadata": {
    "id": "BOZXfA919pcH"
   },
   "source": [
    "### Adam: Recherche d'hyperparamètres\n",
    "\n",
    "Implémentez Adam, répétez les deux étapes précédentes (recherche d'hyperparamètres et analyse du meilleur modèle) cette fois en utilisat Adam, et comparez les performances finales avec votre meilleur modèle SGD."
   ]
  },
  {
   "cell_type": "code",
   "execution_count": 23,
   "metadata": {
    "colab": {
     "base_uri": "https://localhost:8080/"
    },
    "id": "Ze9D0Zpi9pcI",
    "outputId": "ae8aeae3-0dae-4e40-a2b9-fbf7302a4328"
   },
   "outputs": [
    {
     "name": "stdout",
     "output_type": "stream",
     "text": [
      "------------------------------------------------------------------\n",
      "Training model with a learning rate of 0.01 and a batch size of 64\n"
     ]
    },
    {
     "name": "stderr",
     "output_type": "stream",
     "text": [
      "/usr/local/lib/python3.7/dist-packages/torch/utils/data/dataloader.py:481: UserWarning: This DataLoader will create 4 worker processes in total. Our suggested max number of worker in current system is 2, which is smaller than what this DataLoader is going to create. Please be aware that excessive worker creation might get DataLoader running slow or even freeze, lower the worker number to avoid potential slowness/freeze if necessary.\n",
      "  cpuset_checked))\n"
     ]
    },
    {
     "name": "stdout",
     "output_type": "stream",
     "text": [
      "Epoch  0,                   Train: loss=2.331, accuracy=6.7%,                   Valid: loss=2.331, accuracy=6.4%\n",
      "Epoch  1,                   Train: loss=0.461, accuracy=84.0%,                   Valid: loss=0.482, accuracy=83.6%\n",
      "Epoch  2,                   Train: loss=0.421, accuracy=85.9%,                   Valid: loss=0.446, accuracy=85.5%\n",
      "Epoch  3,                   Train: loss=0.514, accuracy=82.6%,                   Valid: loss=0.544, accuracy=82.3%\n",
      "Epoch  4,                   Train: loss=0.632, accuracy=80.0%,                   Valid: loss=0.664, accuracy=79.6%\n",
      "Epoch  5,                   Train: loss=0.417, accuracy=86.0%,                   Valid: loss=0.487, accuracy=84.8%\n",
      "validation accuracy = 85.467\n",
      "------------------------------------------------------------------\n",
      "Training model with a learning rate of 0.01 and a batch size of 256\n",
      "Epoch  0,                   Train: loss=2.285, accuracy=19.2%,                   Valid: loss=2.286, accuracy=18.9%\n",
      "Epoch  1,                   Train: loss=0.467, accuracy=84.0%,                   Valid: loss=0.486, accuracy=83.3%\n",
      "Epoch  2,                   Train: loss=0.432, accuracy=85.3%,                   Valid: loss=0.458, accuracy=84.0%\n",
      "Epoch  3,                   Train: loss=0.444, accuracy=84.7%,                   Valid: loss=0.472, accuracy=84.4%\n",
      "Epoch  4,                   Train: loss=0.408, accuracy=86.0%,                   Valid: loss=0.449, accuracy=84.2%\n",
      "Epoch  5,                   Train: loss=0.391, accuracy=86.5%,                   Valid: loss=0.431, accuracy=85.1%\n",
      "validation accuracy = 85.067\n",
      "------------------------------------------------------------------\n",
      "Training model with a learning rate of 0.01 and a batch size of 512\n",
      "Epoch  0,                   Train: loss=2.313, accuracy=10.1%,                   Valid: loss=2.314, accuracy=10.6%\n",
      "Epoch  1,                   Train: loss=0.495, accuracy=83.5%,                   Valid: loss=0.486, accuracy=83.4%\n",
      "Epoch  2,                   Train: loss=0.447, accuracy=84.6%,                   Valid: loss=0.443, accuracy=84.3%\n",
      "Epoch  3,                   Train: loss=0.440, accuracy=84.9%,                   Valid: loss=0.449, accuracy=84.4%\n",
      "Epoch  4,                   Train: loss=0.410, accuracy=85.9%,                   Valid: loss=0.418, accuracy=85.3%\n",
      "Epoch  5,                   Train: loss=0.437, accuracy=84.5%,                   Valid: loss=0.446, accuracy=84.3%\n",
      "validation accuracy = 85.250\n",
      "------------------------------------------------------------------\n",
      "Training model with a learning rate of 0.001 and a batch size of 64\n",
      "Epoch  0,                   Train: loss=2.333, accuracy=2.7%,                   Valid: loss=2.335, accuracy=2.3%\n",
      "Epoch  1,                   Train: loss=0.506, accuracy=83.2%,                   Valid: loss=0.526, accuracy=82.3%\n",
      "Epoch  2,                   Train: loss=0.463, accuracy=84.1%,                   Valid: loss=0.488, accuracy=83.2%\n",
      "Epoch  3,                   Train: loss=0.441, accuracy=84.9%,                   Valid: loss=0.471, accuracy=83.9%\n",
      "Epoch  4,                   Train: loss=0.427, accuracy=85.5%,                   Valid: loss=0.458, accuracy=84.1%\n",
      "Epoch  5,                   Train: loss=0.415, accuracy=85.6%,                   Valid: loss=0.445, accuracy=84.8%\n",
      "validation accuracy = 84.817\n",
      "------------------------------------------------------------------\n",
      "Training model with a learning rate of 0.001 and a batch size of 256\n",
      "Epoch  0,                   Train: loss=2.307, accuracy=9.8%,                   Valid: loss=2.306, accuracy=10.7%\n",
      "Epoch  1,                   Train: loss=0.615, accuracy=80.3%,                   Valid: loss=0.610, accuracy=80.9%\n",
      "Epoch  2,                   Train: loss=0.535, accuracy=82.4%,                   Valid: loss=0.526, accuracy=82.7%\n",
      "Epoch  3,                   Train: loss=0.507, accuracy=82.8%,                   Valid: loss=0.498, accuracy=83.2%\n",
      "Epoch  4,                   Train: loss=0.477, accuracy=84.1%,                   Valid: loss=0.473, accuracy=84.0%\n",
      "Epoch  5,                   Train: loss=0.459, accuracy=84.6%,                   Valid: loss=0.453, accuracy=84.7%\n",
      "validation accuracy = 84.683\n",
      "------------------------------------------------------------------\n",
      "Training model with a learning rate of 0.001 and a batch size of 512\n",
      "Epoch  0,                   Train: loss=2.336, accuracy=7.6%,                   Valid: loss=2.335, accuracy=7.5%\n",
      "Epoch  1,                   Train: loss=0.720, accuracy=76.7%,                   Valid: loss=0.700, accuracy=78.3%\n",
      "Epoch  2,                   Train: loss=0.604, accuracy=80.1%,                   Valid: loss=0.580, accuracy=81.4%\n",
      "Epoch  3,                   Train: loss=0.551, accuracy=82.2%,                   Valid: loss=0.529, accuracy=83.3%\n",
      "Epoch  4,                   Train: loss=0.519, accuracy=83.0%,                   Valid: loss=0.496, accuracy=83.7%\n",
      "Epoch  5,                   Train: loss=0.499, accuracy=83.4%,                   Valid: loss=0.478, accuracy=84.1%\n",
      "validation accuracy = 84.150\n",
      "------------------------------------------------------------------\n",
      "Training model with a learning rate of 0.0001 and a batch size of 64\n",
      "Epoch  0,                   Train: loss=2.309, accuracy=7.4%,                   Valid: loss=2.312, accuracy=6.9%\n",
      "Epoch  1,                   Train: loss=0.853, accuracy=73.5%,                   Valid: loss=0.839, accuracy=73.9%\n",
      "Epoch  2,                   Train: loss=0.700, accuracy=77.8%,                   Valid: loss=0.683, accuracy=78.1%\n",
      "Epoch  3,                   Train: loss=0.631, accuracy=79.8%,                   Valid: loss=0.613, accuracy=80.2%\n",
      "Epoch  4,                   Train: loss=0.588, accuracy=80.8%,                   Valid: loss=0.571, accuracy=81.3%\n",
      "Epoch  5,                   Train: loss=0.560, accuracy=81.6%,                   Valid: loss=0.543, accuracy=81.8%\n",
      "validation accuracy = 81.833\n",
      "------------------------------------------------------------------\n",
      "Training model with a learning rate of 0.0001 and a batch size of 256\n",
      "Epoch  0,                   Train: loss=2.297, accuracy=16.6%,                   Valid: loss=2.299, accuracy=16.9%\n",
      "Epoch  1,                   Train: loss=1.290, accuracy=67.0%,                   Valid: loss=1.281, accuracy=66.7%\n",
      "Epoch  2,                   Train: loss=0.998, accuracy=70.6%,                   Valid: loss=0.987, accuracy=70.3%\n",
      "Epoch  3,                   Train: loss=0.868, accuracy=73.4%,                   Valid: loss=0.856, accuracy=73.2%\n",
      "Epoch  4,                   Train: loss=0.791, accuracy=75.4%,                   Valid: loss=0.778, accuracy=75.1%\n",
      "Epoch  5,                   Train: loss=0.739, accuracy=76.6%,                   Valid: loss=0.726, accuracy=76.6%\n",
      "validation accuracy = 76.550\n",
      "------------------------------------------------------------------\n",
      "Training model with a learning rate of 0.0001 and a batch size of 512\n",
      "Epoch  0,                   Train: loss=2.330, accuracy=9.6%,                   Valid: loss=2.331, accuracy=9.4%\n",
      "Epoch  1,                   Train: loss=1.613, accuracy=64.7%,                   Valid: loss=1.620, accuracy=64.0%\n",
      "Epoch  2,                   Train: loss=1.268, accuracy=67.1%,                   Valid: loss=1.279, accuracy=66.1%\n",
      "Epoch  3,                   Train: loss=1.085, accuracy=69.4%,                   Valid: loss=1.097, accuracy=68.1%\n",
      "Epoch  4,                   Train: loss=0.974, accuracy=71.3%,                   Valid: loss=0.987, accuracy=70.5%\n",
      "Epoch  5,                   Train: loss=0.900, accuracy=73.0%,                   Valid: loss=0.912, accuracy=72.2%\n",
      "validation accuracy = 72.233\n"
     ]
    }
   ],
   "source": [
    "# ADAM\n",
    "# Montrez les résultats pour différents taux d'apprentissage, e.g. 0.1, 0.01, 0.001, et différentes tailles de mini-batch, e.g. 1, 20, 200, 1000.\n",
    "batch_size_list = [64, 256, 512]   # Define ranges in a list\n",
    "lr_list = [0.01, 0.001, 0.0001] # Define ranges in a list\n",
    "\n",
    "with torch.no_grad():\n",
    "  for lr in lr_list:\n",
    "    for batch_size in batch_size_list:\n",
    "      print(\"------------------------------------------------------------------\")\n",
    "      print(\"Training model with a learning rate of {0} and a batch size of {1}\".format(lr, batch_size))\n",
    "      data_loader_train, data_loader_val, data_loader_test = get_fashion_mnist_dataloaders(val_percentage=0.1, batch_size=batch_size)\n",
    "      \n",
    "      model = LinearModel(num_features=784, num_classes=10)\n",
    "      _, val_accuracy, _ = train(model,lr=lr, nb_epochs=5, sgd=False, data_loader_train=data_loader_train, data_loader_val=data_loader_val)\n",
    "      print(f\"validation accuracy = {val_accuracy*100:.3f}\")"
   ]
  },
  {
   "cell_type": "markdown",
   "metadata": {
    "id": "Cr9_MzpX_CvO"
   },
   "source": [
    "#### **Tableau pour la précision sur l'ensemble de validation**\n",
    "N.B. que les lignes correspondent aux valeurs du taux d'apprentisage et les colonnes correspondent au valeur du batch size. Les valeurs ci-dessous sont donné comme exemples; remplacez-les par les valeurs que vous avez utilisées pour votre recherche d'hyperparamètres.\n",
    "\n",
    "learning rate\\batch_size  | 64 | 256 | 512 \n",
    "-------------------|------------------|------------------|------------------|\n",
    "**0.01**    | 85.467  | 85.067 | 85.250 |\n",
    "**0.001**   | 84.817  | 84.683 | 84.150 |\n",
    "**0.0001**  | 81.833  | 76.550 | 72.233 |"
   ]
  },
  {
   "cell_type": "markdown",
   "metadata": {
    "id": "2Me7IOblUrYw"
   },
   "source": [
    "### Adam: Analyse du meilleur modèle"
   ]
  },
  {
   "cell_type": "code",
   "execution_count": 32,
   "metadata": {
    "colab": {
     "base_uri": "https://localhost:8080/",
     "height": 737
    },
    "id": "Ndf_GP6XPV-U",
    "outputId": "73a05d3e-739d-445c-a6f1-95dca10b3acd"
   },
   "outputs": [
    {
     "name": "stderr",
     "output_type": "stream",
     "text": [
      "/usr/local/lib/python3.7/dist-packages/torch/utils/data/dataloader.py:481: UserWarning: This DataLoader will create 4 worker processes in total. Our suggested max number of worker in current system is 2, which is smaller than what this DataLoader is going to create. Please be aware that excessive worker creation might get DataLoader running slow or even freeze, lower the worker number to avoid potential slowness/freeze if necessary.\n",
      "  cpuset_checked))\n"
     ]
    },
    {
     "name": "stdout",
     "output_type": "stream",
     "text": [
      "Epoch  0,                   Train: loss=2.301, accuracy=12.9%,                   Valid: loss=2.303, accuracy=12.6%\n",
      "Epoch  1,                   Train: loss=0.499, accuracy=83.6%,                   Valid: loss=0.514, accuracy=82.9%\n",
      "Epoch  2,                   Train: loss=0.441, accuracy=85.2%,                   Valid: loss=0.477, accuracy=84.9%\n",
      "Epoch  3,                   Train: loss=0.415, accuracy=85.7%,                   Valid: loss=0.463, accuracy=84.1%\n",
      "Epoch  4,                   Train: loss=0.420, accuracy=85.3%,                   Valid: loss=0.478, accuracy=84.0%\n",
      "Epoch  5,                   Train: loss=0.413, accuracy=85.7%,                   Valid: loss=0.466, accuracy=84.2%\n",
      "Epoch  6,                   Train: loss=0.497, accuracy=82.7%,                   Valid: loss=0.563, accuracy=81.7%\n",
      "Epoch  7,                   Train: loss=0.391, accuracy=86.9%,                   Valid: loss=0.460, accuracy=85.2%\n",
      "Epoch  8,                   Train: loss=0.447, accuracy=85.0%,                   Valid: loss=0.523, accuracy=83.3%\n",
      "Epoch  9,                   Train: loss=0.470, accuracy=84.6%,                   Valid: loss=0.563, accuracy=82.8%\n",
      "Epoch 10,                   Train: loss=0.379, accuracy=86.8%,                   Valid: loss=0.458, accuracy=84.8%\n",
      "Best validation accuracy = 85.183\n",
      "Evaluation of the best training model over test set\n",
      "------\n",
      "Loss : 0.503\n",
      "Accuracy : 83.480\n"
     ]
    },
    {
     "data": {
      "image/png": "[encoded data removed]",
      "text/plain": [
       "<Figure size 864x432 with 2 Axes>"
      ]
     },
     "metadata": {
      "needs_background": "light"
     },
     "output_type": "display_data"
    }
   ],
   "source": [
    "# ADAM\n",
    "# Montrez les résultats pour la meilleure configuration trouvez ci-dessus.\n",
    "batch_size = 64 # TODO: Vous devez modifier cette valeur avec la meilleur que vous avez eu.\n",
    "lr = 0.01         # TODO: Vous devez modifier cette valeur avec la meilleur que vous avez eu.\n",
    "\n",
    "with torch.no_grad():\n",
    "  data_loader_train, data_loader_val, data_loader_test = get_fashion_mnist_dataloaders(val_percentage=0.1, batch_size=batch_size)\n",
    "\n",
    "  model = LinearModel(num_features=784, num_classes=10)\n",
    "  best_model, best_val_accuracy, logger = train(model,lr=lr, nb_epochs=10, sgd=False, \n",
    "                                                data_loader_train=data_loader_train, data_loader_val=data_loader_val)\n",
    "  logger.plot_loss_and_accuracy()\n",
    "  print(f\"Best validation accuracy = {best_val_accuracy*100:.3f}\")\n",
    "\n",
    "  accuracy_test, loss_test = accuracy_and_loss_whole_dataset(data_loader_test, best_model)\n",
    "print(\"Evaluation of the best training model over test set\")\n",
    "print(\"------\")\n",
    "print(f\"Loss : {loss_test:.3f}\")\n",
    "print(f\"Accuracy : {accuracy_test*100.:.3f}\")"
   ]
  },
  {
   "cell_type": "markdown",
   "metadata": {
    "id": "6LRkxtUD_RVd"
   },
   "source": [
    "### Analyse des Résultats"
   ]
  },
  {
   "cell_type": "markdown",
   "metadata": {
    "id": "8NIRJe-8_fbP"
   },
   "source": [
    "### SDG\n",
    "Un modèle de régression logistique a été implémenté et plusieurs configurations de paramètres ont été testées afin de trouver le modèle faisant la meilleure prédiction. Les learning rate testé ont élé 0.1, 0.01 et 0.001 avec des batch size de 64, 128 et 512. Parmi ces différentes valeurs que ces deux paramètres pouvaient prendre, le meilleur résultat trouvé avec l'actualisation des paramètres SDG est un learning rate de 0.1 avec un batch size de 64. La précision sur l'ensemble de se modèle est de 85.5%. De plus, lorsque le nombre d'époques pour se modèle a été augmenté, le modèle avait tendance à overfitter les données. \n",
    "\n",
    "### ADAM\n",
    "Par la suite, la même recherche de paramètre a été effectuée, mais cette fois si avec la mise à jour des paramètres avec l'optimisation de Adam. Encore une fois, la meilleure configuration trouvée est un learning rate de 0.01 avec un batch size de 64. Encore une fois, l'augmentation du  nombre d'époques avec la meilleure solution trouvée n'a pas permis d'améliorer les résultats. Dans les graphiques de la section précédente sur ADAM, on remarque qu'après quelque époque, le modèle commence à overfit tranquillement."
   ]
  },
  {
   "cell_type": "markdown",
   "metadata": {
    "id": "IficnxEMMcNo"
   },
   "source": [
    "# Partie 3 (20 points)\n",
    "\n",
    "Pour cette partie, vous pouvez travailler en groupes de 2, mais il faut écrire sa propre dérivation et soumettre son propre rapport. Si vous travaillez avec un partenaire, il faut indiquer leur nom dans votre rapport."
   ]
  },
  {
   "cell_type": "markdown",
   "metadata": {
    "id": "Zmb_putke8pl"
   },
   "source": [
    "### Problème"
   ]
  },
  {
   "cell_type": "markdown",
   "metadata": {
    "id": "CRioLmIDMcP8"
   },
   "source": [
    "![picture](https://drive.google.com/uc?id=17_N7pIrf5pypQKiUh5cM7SX6raZUBcJC)\n",
    "\n",
    "Considérons maintenant un réseau de neurones avec une couche d'entrée avec $D=784$ unités, $L$ couches cachées, chacune avec 300 unités et un vecteur de sortie $\\mathbf{y}$ de dimension $K$. Vous avez $i = 1, .., N$ exemples dans un ensemble d'apprentissage, où chaque ${\\bf x}_i \\in \\mathbb{R}^{784}$ est un vecteur de caractéristiques (features). $\\mathbf{y}$ est un vecteur du type *one-hot* -- un vecteur de zéros avec un seul 1 pour indiquer que la classe $C=k$ dans la dimension $k$. Par exemple, le vecteur $\\mathbf{y}=[0, 1, 0, \\cdots, 0]^T$ représente la deuxième classe. La fonction de perte est donnée par\n",
    "\\begin{equation}\n",
    "\\mathcal{L} = -\\sum_{i=1}^{N}\\sum_{k=1}^{K}y_{k,i}\\log (f_k( {\\bf x}_i )  ) \n",
    "\\end{equation}\n",
    "\n",
    "La fonction d'activation de la couche finale a la forme  ${\\bf f} = [f_1, ..., f_K]$ donné par la fonction d'activation softmax: \n",
    "\\begin{equation}\n",
    "f_k( {\\bf a}^{(L+1)}({\\bf x}_i) ) = \\frac{\\exp(a_k^{(L+1)})}{\\sum_{c=1}^{K}\\exp(a_c^{(L+1)})}, \\;\\;\\;\\;\n",
    "\\nonumber\n",
    "\\end{equation}\n",
    "\n",
    "et les couches cachées utilisent une fonction d'activation de type ReLU:\n",
    "\\begin{equation}\n",
    "  {\\bf h}^{(l)}({\\bf a}^{(l)}({\\bf x}_i)) = \\text{ReLU}({\\bf a}^{(l)}({\\bf x}_i) = \\max\\Big(0, \\, \\, {\\bf a}^{(l)}({\\bf x}_i)\\Big)\n",
    "\\end{equation}\n",
    "\n",
    "où ${\\bf a}^{(l)}$ est le vecteur résultant du calcul de la préactivation habituelle ${\\bf a}^{(l)}={\\bf W}^{(l)}{\\bf h}^{(l-1)} + {\\bf b}^{(l)}$, qui pourrait être simplifiée à ${\\boldsymbol \\theta}^{(l)}\\tilde{\\bf h}^{(l-1)}$ en utilisant l'astuce de définir $\\tilde{\\bf h}$ comme ${\\bf h}$ avec un 1 concaténé à la fin du vecteur.\n",
    "\n"
   ]
  },
  {
   "cell_type": "markdown",
   "metadata": {
    "id": "PzMpz3Zse0t9"
   },
   "source": [
    "### Questions"
   ]
  },
  {
   "cell_type": "markdown",
   "metadata": {
    "id": "wK8gnygxMcSh"
   },
   "source": [
    "* a) (10 points) Donnez le pseudocode incluant des *calculs matriciels—vectoriels* détaillés pour l'algorithme de rétropropagation pour calculer le gradient pour les paramètres de chaque couche **étant donné un exemple d'entraînement**."
   ]
  },
  {
   "cell_type": "markdown",
   "metadata": {
    "id": "Y431_w4gMcX2"
   },
   "source": [
    "* b) (10 points) \n",
    "Implémentez l'optimisation basée sur le gradient de ce réseau en Pytorch.\n",
    "Utilisez le code squelette ci-dessous comme point de départ et implémentez les mathématiques de l'algorithme de rétropropagation que vous avez décrit à la question précédente.Utilisez encore l'ensemble de données de Fashion MNIST (voir Partie 2). **Comparez différents modèles ayant différentes largeurs (nombre d'unités) et profondeurs (nombre de couches)**. Ici encore, n'utilisez l'ensemble de test que pour votre expérience finale lorsque vous pensez avoir obtenu votre meilleur modèle.\n",
    "\n",
    "**IMPORTANT**\n",
    "\n",
    "L'objectif du TP est de vous faire implémenter la rétropropagation à la main. **Il est donc interdit d'utiliser les capacités de construction de modèles ou de différentiation automatique de pytorch -- par exemple, aucun appels à torch.nn, torch.autograd ou à la méthode .backward().** L'objectif est d'implémenter un modèle de classification logistique ainsi que son entainement en utilisant uniquement des opérations matricielles de base fournies par PyTorch e.g. torch.sum(), torch.matmul(), etc."
   ]
  },
  {
   "cell_type": "markdown",
   "metadata": {
    "id": "F1mpuG2cwER-"
   },
   "source": [
    "## Votre pseudocode:"
   ]
  },
  {
   "cell_type": "markdown",
   "metadata": {
    "id": "qY2X9goYwMDs"
   },
   "source": [
    "#### Algorithme de rétropopagation dans un réseau de neurones pour un exemple $\\tilde{x}_i$:\n",
    "\n",
    "Répéter:\n",
    "\n",
    "$\\hspace{5 mm}$ # Forward pass\n",
    "\n",
    "$\\hspace{5 mm}$ $\\pmb{h}^{(0)} = \\tilde{x}_i$\n",
    "\n",
    "$\\hspace{5 mm}$ Pour $l$ de $1 \\to L$:\n",
    "\n",
    "$\\hspace{10 mm}$ $\\pmb{a}^{(l)} = \\pmb{W}^{(l)} \\pmb{h}^{(l-1)} + \\pmb{b}$\n",
    "\n",
    "$\\hspace{10 mm}$ $\\pmb{h}^{(l)} = σ(\\pmb{a}^{(l)})$ $\\hspace{40 mm}$## Ou σ est ReLU pour $l \\not= L$ et softmax pour $l = L$\n",
    "\n",
    "$\\hspace{5 mm}$ # Backward pass\n",
    "\n",
    "$\\hspace{5 mm}$ $\\pmb{δ}^{L} = ∇_hL_x \\odot σ'(\\pmb{a}^l)$ $\\hspace{28 mm}$## Éguale à $one\\_hot_{prediction} - one\\_hot_{vrai\\_valeur}  $ dans notre cas.\n",
    "\n",
    "$\\hspace{5 mm}$ $\\frac{∂\\mathbf{L}}{∂ \\mathbf{W^L}} = \\pmb{h}^{l-1}\\pmb{δ}^{L}$\n",
    "\n",
    "$\\hspace{5 mm}$ Pour $l$ de $(L-1) \\to 1$:\n",
    "\n",
    "$\\hspace{10 mm}$ $\\pmb{δ}^{l} = ((\\pmb{W}^{(l+1)})^T \\pmb{δ}^{l+1}) ⊙ σ'(\\pmb{a}^l)$ $\\hspace{3 mm}$## σ' est la dérivé de ReLU soit 0 si $a^{l}_{i} ≤ 0$ et 1 sinon\n",
    "\n",
    "$\\hspace{10 mm}$ $\\frac{∂\\mathbf{L}}{∂ \\mathbf{W^l}} = \\pmb{h}^{l-1}\\pmb{δ}^{l}$\n"
   ]
  },
  {
   "cell_type": "markdown",
   "metadata": {
    "id": "SIQJD-TRwEdo"
   },
   "source": [
    "## Fonctions à compléter"
   ]
  },
  {
   "cell_type": "code",
   "execution_count": 34,
   "metadata": {
    "id": "JzIQ0S4qDPKJ"
   },
   "outputs": [],
   "source": [
    "''' Les fonctions dans cette cellule peuvent avoir les mêmes déclarations que celles de la partie 2''' \n",
    "def accuracy(y, y_pred):\n",
    "    # Nombre d'éléments à classifier.\n",
    "    card_D = y.shape[0]\n",
    "\n",
    "    # Calcul du nombre d'éléments bien classifiés.\n",
    "    y_pred_argmax = torch.argmax(y_pred, dim=1)\n",
    "    y_argmax = torch.argmax(y, dim=1)\n",
    "    card_C = (y_pred_argmax == y_argmax).sum()\n",
    "\n",
    "    # Calcul de la précision de classification.\n",
    "    acc = torch.div(card_C, card_D)\n",
    "\n",
    "    return acc, (card_C, card_D)\n",
    "\n",
    "\n",
    "def accuracy_and_loss_whole_dataset(data_loader, model):\n",
    "    cardinal = 0\n",
    "    loss = 0.\n",
    "    n_accurate_preds = 0.\n",
    "\n",
    "    for x, y in data_loader:\n",
    "        x, y = reshape_input(x, y)\n",
    "        y_pred = model.forward(x)\n",
    "        xentrp = cross_entropy(y, y_pred)\n",
    "        _, (n_acc, n_samples) = accuracy(y, y_pred)\n",
    "\n",
    "        cardinal = cardinal + n_samples\n",
    "        loss = loss + xentrp\n",
    "        n_accurate_preds = n_accurate_preds + n_acc\n",
    "\n",
    "    loss = loss / float(cardinal)\n",
    "    acc = n_accurate_preds / float(cardinal)\n",
    "\n",
    "    return acc, loss\n",
    "\n",
    "\n",
    "def inputs_tilde(x, axis=-1):\n",
    "    # Augments the inputs `x` with ones along `axis`\n",
    "    one_vec = torch.ones(x.size(axis-1), 1).T\n",
    "    x_tilde = torch.cat([x, one_vec], dim=axis)\n",
    "    return x_tilde\n",
    "\n",
    "\n",
    "def softmax(x, axis=-1):\n",
    "    max_value, index = torch.max(x, dim=1)\n",
    "    exp_x = torch.exp(x - max_value[:, None])\n",
    "    sum = torch.sum(exp_x, dim=axis, keepdim=True)\n",
    "    values = torch.div(exp_x, sum)\n",
    "\n",
    "    return values\n",
    "\n",
    "\n",
    "def cross_entropy(y, y_pred):\n",
    "    loss = - torch.sum(y * torch.log(torch.clip(y_pred, min=1e-5)))\n",
    "\n",
    "    return loss\n",
    "\n",
    "\n",
    "def softmax_cross_entropy_backward(y, y_pred):\n",
    "    values = y_pred - y\n",
    "    return values\n",
    "\n",
    "\n",
    "def relu_forward(x):\n",
    "    values = torch.max(torch.zeros(x.shape), x)\n",
    "\n",
    "    return values\n",
    "\n",
    "\n",
    "def relu_backward(x):\n",
    "    x[x <= 0] = 0\n",
    "    x[x >= 0] = 1\n",
    "    values = x\n",
    "    return values\n",
    "\n",
    "\n",
    "class MLPModel:\n",
    "    def __init__(self, n_features, n_hidden_features, n_hidden_layers, n_classes):\n",
    "        self.n_features = n_features\n",
    "        self.n_hidden_features = n_hidden_features\n",
    "        self.n_hidden_layers = n_hidden_layers\n",
    "        self.n_classes = n_classes\n",
    "\n",
    "        # Init params\n",
    "        if self.n_hidden_layers == 0:\n",
    "            # y: N_input + 1 bias X n_classes\n",
    "            self.params = [torch.normal(0, 0.1, (n_classes, n_features + 1))]\n",
    "        else:\n",
    "            # pour h_1: N_input + 1 bias X h_1_neurone\n",
    "            #      h_L: N_h_L-1_neurone + 1 bias X h_L_neurone  (Pour L > 1)\n",
    "            #      y: N_h_L-1_neurone + 1 bias X n_classes\n",
    "            self.params = np.array(\n",
    "                [torch.normal(0, 0.01, (n_hidden_features, n_features + 1))] +\n",
    "                [torch.normal(0, 0.01, (n_hidden_features, n_hidden_features + 1))] * (n_hidden_layers - 1) +\n",
    "                [torch.normal(0, 0.01, (n_classes, n_hidden_features + 1))]\n",
    "            )\n",
    "\n",
    "        print(f\"Teta params={[p.shape for p in self.params]}\")\n",
    "\n",
    "        self.a = []  # liste contenant le resultat des multiplications matricielles\n",
    "        self.h = []  # liste contenant le resultat des fonctions d'activations\n",
    "\n",
    "        self.t = 0\n",
    "        self.m_t = [torch.zeros(param.size()) for param in self.params]\n",
    "        self.v_t = [torch.zeros(param.size()) for param in self.params]\n",
    "        self.beta_1 = 0.9\n",
    "        self.beta_2 = 0.999\n",
    "        self.epsilon = 10e-8\n",
    "\n",
    "    def forward(self, x):\n",
    "        # print(\"~~~~~~~~~~~~~~~~ FORWARD ~~~~~~~~~~~~~~~~\")\n",
    "\n",
    "        # Clear params of previous forward\n",
    "        self.a.clear()\n",
    "        self.h.clear()\n",
    "\n",
    "        # Add the bias to the input\n",
    "        outputs = x.T\n",
    "        self.h.append(outputs)\n",
    "\n",
    "        # Forward through the NN\n",
    "        for i, params in enumerate(self.params):\n",
    "\n",
    "            # Add bias to the previous output\n",
    "            outputs = inputs_tilde(outputs, axis=0)\n",
    "\n",
    "            # a = W * x + b\n",
    "            a = torch.matmul(params, outputs)\n",
    "\n",
    "            # outputs = ReLU(a) or Softmax(a)\n",
    "            if i == len(self.params) - 1:\n",
    "                outputs = softmax(a.T)\n",
    "            else:\n",
    "                outputs = relu_forward(a)\n",
    "                self.a.append(a)\n",
    "                self.h.append(outputs)\n",
    "\n",
    "        # Return the prediction\n",
    "        return outputs\n",
    "\n",
    "    def backward(self, y, y_pred):\n",
    "        # print(\"~~~~~~~~~~~~~~~~ BACKWARD ~~~~~~~~~~~~~~~~\")\n",
    "        y = y.T\n",
    "        y_pred = y_pred.T\n",
    "\n",
    "        # List to save the gradient\n",
    "        grads = [None] * len(self.h)\n",
    "\n",
    "        # Last layer\n",
    "\n",
    "        \"\"\" delta = nabla Hadamard_product act_func_derivative(w_l * h_l-1 + b) \"\"\"\n",
    "        delta = softmax_cross_entropy_backward(y, y_pred)\n",
    "\n",
    "        \"\"\" dC/dw_l = h_l-1 * delta_l \"\"\"\n",
    "        grads[-1] = torch.matmul(delta, inputs_tilde(self.h[-1], axis=0) .T)             # Weight + bias update\n",
    "\n",
    "        # From here, we need to apply the chain rule -  Loop backward\n",
    "        for i in range(self.n_hidden_layers-1, -1, -1):\n",
    "            \"\"\" delta_l = ((w_l+1).T * delta_l+1) element_wise_mul act_func_derivative(w_l * a_l-1 + b) \"\"\"\n",
    "            relu_back = relu_backward(self.a[i])\n",
    "            # Find delta for the current layer\n",
    "            delta = torch.matmul(self.params[i+1].T, delta)\n",
    "            # Remove the bias \"node\" from the following layer\n",
    "            delta = delta[torch.arange(delta.size(0)) != delta.size(0) - 1]\n",
    "            # dx * relu_back\n",
    "            delta = delta * relu_back\n",
    "\n",
    "            \"\"\" dC/dw_l = h_l-1 * delta_l \"\"\"\n",
    "            grads[i] = torch.matmul(delta, inputs_tilde(self.h[i], axis=0).T)            # Weight + bias update\n",
    "\n",
    "        return grads\n",
    "\n",
    "    def sgd_update(self, lr, grads):\n",
    "        for i, grad in enumerate(grads):\n",
    "            self.params[i] -= lr * grad\n",
    "\n",
    "    def adam_update(self, lr, grads):\n",
    "        for i, grad in enumerate(grads):\n",
    "            self.t += 1\n",
    "            self.m_t[i] = self.beta_1 * self.m_t[i] + (1 - self.beta_1) * grad\n",
    "            self.v_t[i] = self.beta_2 * self.v_t[i] + (1 - self.beta_2) * torch.pow(grad, 2)\n",
    "            m_hat_t = self.m_t[i] / (1 - self.beta_1 ** self.t)\n",
    "            v_hat_t = self.v_t[i] / (1 - self.beta_2 ** self.t)\n",
    "            self.params[i] -= lr * m_hat_t / (torch.sqrt(v_hat_t) + self.epsilon)\n",
    "\n",
    "\n",
    "def train(model, lr=0.1, nb_epochs=10, sgd=True, data_loader_train=None, data_loader_val=None):\n",
    "    best_model = None\n",
    "    best_params = None\n",
    "    best_val_accuracy = 0\n",
    "    logger = Logger()\n",
    "\n",
    "    for epoch in range(nb_epochs + 1):\n",
    "\n",
    "        # at epoch 0 evaluate random initial model\n",
    "        #   then for subsequent epochs, do optimize before evaluation.\n",
    "        if epoch > 0:\n",
    "            for x, y in data_loader_train:\n",
    "                x, y = reshape_input(x, y)\n",
    "\n",
    "                y_pred = model.forward(x)\n",
    "                grads = model.backward(y, y_pred)\n",
    "                if sgd:\n",
    "                    model.sgd_update(lr, grads)\n",
    "                else:\n",
    "                    model.adam_update(lr, grads)\n",
    "\n",
    "        accuracy_train, loss_train = accuracy_and_loss_whole_dataset(data_loader_train, model)\n",
    "        accuracy_val, loss_val = accuracy_and_loss_whole_dataset(data_loader_val, model)\n",
    "\n",
    "        if accuracy_val > best_val_accuracy:\n",
    "            best_model = model\n",
    "            best_val_accuracy = accuracy_val\n",
    "\n",
    "        logger.log(accuracy_train, loss_train, accuracy_val, loss_val)\n",
    "        if epoch % 1 == 0:  # prints every 5 epochs, you can change it to % 1 for example to print each epoch\n",
    "            print(f\"Epoch {epoch:2d}, \\\n",
    "                  Train:loss={loss_train.item():.3f}, accuracy={accuracy_train.item() * 100:.1f}%, \\\n",
    "                  Valid: loss={loss_val.item():.3f}, accuracy={accuracy_val.item() * 100:.1f}%\", flush=True)\n",
    "\n",
    "    return best_model, best_val_accuracy, logger\n"
   ]
  },
  {
   "cell_type": "markdown",
   "metadata": {
    "id": "tIe9DFvPwuQg"
   },
   "source": [
    "## Évaluation"
   ]
  },
  {
   "cell_type": "markdown",
   "metadata": {
    "id": "ml5jUvG9AUXK"
   },
   "source": [
    "### SGD: Recherche d'hyperparamètres"
   ]
  },
  {
   "cell_type": "code",
   "execution_count": 25,
   "metadata": {
    "colab": {
     "base_uri": "https://localhost:8080/"
    },
    "id": "fe7hyN63AUXL",
    "outputId": "163eeeda-9deb-4142-b585-cc054ed65ea2"
   },
   "outputs": [
    {
     "name": "stdout",
     "output_type": "stream",
     "text": [
      "------------------------------------------------------------------\n",
      "Training model with a depth of 1 layers and a width of 10 units\n",
      "Teta params=[torch.Size([10, 785]), torch.Size([10, 11])]\n"
     ]
    },
    {
     "name": "stderr",
     "output_type": "stream",
     "text": [
      "/usr/local/lib/python3.7/dist-packages/torch/utils/data/dataloader.py:481: UserWarning: This DataLoader will create 4 worker processes in total. Our suggested max number of worker in current system is 2, which is smaller than what this DataLoader is going to create. Please be aware that excessive worker creation might get DataLoader running slow or even freeze, lower the worker number to avoid potential slowness/freeze if necessary.\n",
      "  cpuset_checked))\n",
      "/usr/local/lib/python3.7/dist-packages/ipykernel_launcher.py:96: FutureWarning: The input object of type 'Tensor' is an array-like implementing one of the corresponding protocols (`__array__`, `__array_interface__` or `__array_struct__`); but not a sequence (or 0-D). In the future, this object will be coerced as if it was first converted using `np.array(obj)`. To retain the old behaviour, you have to either modify the type 'Tensor', or assign to an empty array created with `np.empty(correct_shape, dtype=object)`.\n",
      "/usr/local/lib/python3.7/dist-packages/ipykernel_launcher.py:96: VisibleDeprecationWarning: Creating an ndarray from ragged nested sequences (which is a list-or-tuple of lists-or-tuples-or ndarrays with different lengths or shapes) is deprecated. If you meant to do this, you must specify 'dtype=object' when creating the ndarray.\n"
     ]
    },
    {
     "name": "stdout",
     "output_type": "stream",
     "text": [
      "Epoch  0,                   Train:loss=2.302, accuracy=9.8%,                   Valid: loss=2.302, accuracy=10.3%\n",
      "Epoch  1,                   Train:loss=1.822, accuracy=25.1%,                   Valid: loss=1.821, accuracy=24.9%\n",
      "Epoch  2,                   Train:loss=1.267, accuracy=52.0%,                   Valid: loss=1.251, accuracy=52.8%\n",
      "Epoch  3,                   Train:loss=1.086, accuracy=56.9%,                   Valid: loss=1.070, accuracy=56.4%\n",
      "Epoch  4,                   Train:loss=0.950, accuracy=62.9%,                   Valid: loss=0.935, accuracy=63.2%\n",
      "Epoch  5,                   Train:loss=0.861, accuracy=66.5%,                   Valid: loss=0.847, accuracy=67.2%\n",
      "validation accuracy = 67.150\n",
      "------------------------------------------------------------------\n",
      "Training model with a depth of 1 layers and a width of 100 units\n",
      "Teta params=[torch.Size([100, 785]), torch.Size([10, 101])]\n",
      "Epoch  0,                   Train:loss=2.302, accuracy=15.2%,                   Valid: loss=2.302, accuracy=15.2%\n",
      "Epoch  1,                   Train:loss=1.349, accuracy=54.7%,                   Valid: loss=1.357, accuracy=53.6%\n",
      "Epoch  2,                   Train:loss=0.913, accuracy=67.0%,                   Valid: loss=0.931, accuracy=66.1%\n",
      "Epoch  3,                   Train:loss=0.777, accuracy=71.1%,                   Valid: loss=0.804, accuracy=70.1%\n",
      "Epoch  4,                   Train:loss=0.704, accuracy=74.6%,                   Valid: loss=0.738, accuracy=73.4%\n",
      "Epoch  5,                   Train:loss=0.651, accuracy=77.5%,                   Valid: loss=0.688, accuracy=76.1%\n",
      "validation accuracy = 76.117\n",
      "------------------------------------------------------------------\n",
      "Training model with a depth of 1 layers and a width of 500 units\n",
      "Teta params=[torch.Size([500, 785]), torch.Size([10, 501])]\n",
      "Epoch  0,                   Train:loss=2.301, accuracy=15.1%,                   Valid: loss=2.301, accuracy=15.5%\n",
      "Epoch  1,                   Train:loss=1.118, accuracy=64.8%,                   Valid: loss=1.124, accuracy=64.7%\n",
      "Epoch  2,                   Train:loss=0.821, accuracy=69.8%,                   Valid: loss=0.826, accuracy=69.9%\n",
      "Epoch  3,                   Train:loss=0.718, accuracy=74.1%,                   Valid: loss=0.722, accuracy=74.5%\n",
      "Epoch  4,                   Train:loss=0.652, accuracy=77.5%,                   Valid: loss=0.655, accuracy=77.9%\n",
      "Epoch  5,                   Train:loss=0.606, accuracy=79.4%,                   Valid: loss=0.607, accuracy=79.6%\n",
      "validation accuracy = 79.583\n",
      "------------------------------------------------------------------\n",
      "Training model with a depth of 2 layers and a width of 10 units\n",
      "Teta params=[torch.Size([10, 785]), torch.Size([10, 11]), torch.Size([10, 11])]\n",
      "Epoch  0,                   Train:loss=2.303, accuracy=10.0%,                   Valid: loss=2.303, accuracy=9.7%\n",
      "Epoch  1,                   Train:loss=2.303, accuracy=10.0%,                   Valid: loss=2.303, accuracy=9.7%\n",
      "Epoch  2,                   Train:loss=2.303, accuracy=10.0%,                   Valid: loss=2.303, accuracy=9.7%\n",
      "Epoch  3,                   Train:loss=2.303, accuracy=13.9%,                   Valid: loss=2.303, accuracy=12.7%\n",
      "Epoch  4,                   Train:loss=2.303, accuracy=10.0%,                   Valid: loss=2.303, accuracy=9.7%\n",
      "Epoch  5,                   Train:loss=2.303, accuracy=10.0%,                   Valid: loss=2.303, accuracy=9.7%\n",
      "validation accuracy = 12.750\n",
      "------------------------------------------------------------------\n",
      "Training model with a depth of 2 layers and a width of 100 units\n",
      "Teta params=[torch.Size([100, 785]), torch.Size([100, 101]), torch.Size([10, 101])]\n",
      "Epoch  0,                   Train:loss=2.303, accuracy=10.0%,                   Valid: loss=2.303, accuracy=9.7%\n",
      "Epoch  1,                   Train:loss=2.301, accuracy=10.0%,                   Valid: loss=2.301, accuracy=9.7%\n",
      "Epoch  2,                   Train:loss=2.291, accuracy=11.4%,                   Valid: loss=2.291, accuracy=11.1%\n",
      "Epoch  3,                   Train:loss=1.996, accuracy=25.0%,                   Valid: loss=1.999, accuracy=24.0%\n",
      "Epoch  4,                   Train:loss=1.339, accuracy=49.2%,                   Valid: loss=1.342, accuracy=46.8%\n",
      "Epoch  5,                   Train:loss=1.062, accuracy=56.1%,                   Valid: loss=1.070, accuracy=54.7%\n",
      "validation accuracy = 54.667\n",
      "------------------------------------------------------------------\n",
      "Training model with a depth of 2 layers and a width of 500 units\n",
      "Teta params=[torch.Size([500, 785]), torch.Size([500, 501]), torch.Size([10, 501])]\n",
      "Epoch  0,                   Train:loss=2.303, accuracy=10.0%,                   Valid: loss=2.303, accuracy=10.2%\n",
      "Epoch  1,                   Train:loss=2.139, accuracy=22.4%,                   Valid: loss=2.139, accuracy=22.6%\n",
      "Epoch  2,                   Train:loss=1.230, accuracy=53.5%,                   Valid: loss=1.226, accuracy=53.6%\n",
      "Epoch  3,                   Train:loss=0.990, accuracy=59.4%,                   Valid: loss=0.981, accuracy=59.8%\n",
      "Epoch  4,                   Train:loss=0.880, accuracy=65.3%,                   Valid: loss=0.867, accuracy=66.3%\n",
      "Epoch  5,                   Train:loss=0.786, accuracy=70.2%,                   Valid: loss=0.774, accuracy=71.1%\n",
      "validation accuracy = 71.117\n",
      "------------------------------------------------------------------\n",
      "Training model with a depth of 3 layers and a width of 10 units\n",
      "Teta params=[torch.Size([10, 785]), torch.Size([10, 11]), torch.Size([10, 11]), torch.Size([10, 11])]\n",
      "Epoch  0,                   Train:loss=2.303, accuracy=10.0%,                   Valid: loss=2.303, accuracy=10.2%\n",
      "Epoch  1,                   Train:loss=2.303, accuracy=10.0%,                   Valid: loss=2.303, accuracy=10.2%\n",
      "Epoch  2,                   Train:loss=2.303, accuracy=10.0%,                   Valid: loss=2.303, accuracy=9.8%\n",
      "Epoch  3,                   Train:loss=2.303, accuracy=10.0%,                   Valid: loss=2.303, accuracy=9.8%\n",
      "Epoch  4,                   Train:loss=2.303, accuracy=10.1%,                   Valid: loss=2.303, accuracy=9.4%\n",
      "Epoch  5,                   Train:loss=2.303, accuracy=10.1%,                   Valid: loss=2.303, accuracy=9.4%\n",
      "validation accuracy = 10.167\n",
      "------------------------------------------------------------------\n",
      "Training model with a depth of 3 layers and a width of 100 units\n",
      "Teta params=[torch.Size([100, 785]), torch.Size([100, 101]), torch.Size([100, 101]), torch.Size([10, 101])]\n",
      "Epoch  0,                   Train:loss=2.303, accuracy=10.0%,                   Valid: loss=2.303, accuracy=9.7%\n",
      "Epoch  1,                   Train:loss=2.303, accuracy=10.0%,                   Valid: loss=2.303, accuracy=9.7%\n",
      "Epoch  2,                   Train:loss=2.303, accuracy=10.0%,                   Valid: loss=2.303, accuracy=9.7%\n",
      "Epoch  3,                   Train:loss=2.303, accuracy=9.0%,                   Valid: loss=2.303, accuracy=8.8%\n",
      "Epoch  4,                   Train:loss=2.303, accuracy=10.0%,                   Valid: loss=2.303, accuracy=9.7%\n",
      "Epoch  5,                   Train:loss=2.303, accuracy=10.0%,                   Valid: loss=2.303, accuracy=9.6%\n",
      "validation accuracy = 9.717\n",
      "------------------------------------------------------------------\n",
      "Training model with a depth of 3 layers and a width of 500 units\n",
      "Teta params=[torch.Size([500, 785]), torch.Size([500, 501]), torch.Size([500, 501]), torch.Size([10, 501])]\n",
      "Epoch  0,                   Train:loss=2.303, accuracy=10.0%,                   Valid: loss=2.303, accuracy=9.9%\n",
      "Epoch  1,                   Train:loss=2.302, accuracy=10.0%,                   Valid: loss=2.302, accuracy=9.9%\n",
      "Epoch  2,                   Train:loss=2.300, accuracy=28.6%,                   Valid: loss=2.300, accuracy=28.3%\n",
      "Epoch  3,                   Train:loss=2.287, accuracy=15.0%,                   Valid: loss=2.287, accuracy=14.8%\n",
      "Epoch  4,                   Train:loss=2.028, accuracy=24.3%,                   Valid: loss=2.028, accuracy=23.6%\n",
      "Epoch  5,                   Train:loss=1.165, accuracy=52.3%,                   Valid: loss=1.165, accuracy=52.9%\n",
      "validation accuracy = 52.867\n"
     ]
    }
   ],
   "source": [
    "# SGD\n",
    "# Montrez les résultats pour différents nombre de couche, e.g. 1, 3, 5, et différent nombres de neurone, e.g. 25, 100, 300, 500, 1000.\n",
    "depth_list = [1, 2, 3]   # Define ranges in a list\n",
    "width_list = [10, 100, 500]       # Define ranges in a list\n",
    "lr = 0.0001                         # Some value\n",
    "batch_size = 64                    # Some value\n",
    "\n",
    "with torch.no_grad():\n",
    "  for depth in depth_list:\n",
    "    for width in width_list:\n",
    "      print(\"------------------------------------------------------------------\")\n",
    "      print(\"Training model with a depth of {0} layers and a width of {1} units\".format(depth, width))\n",
    "      data_loader_train, data_loader_val, data_loader_test = get_fashion_mnist_dataloaders(val_percentage=0.1, batch_size=batch_size)\n",
    "      \n",
    "      MLP_model = MLPModel(n_features=784, n_hidden_features=width, n_hidden_layers=depth, n_classes=10)\n",
    "      _, val_accuracy, _ = train(MLP_model,lr=lr, nb_epochs=5, sgd=True, data_loader_train=data_loader_train, data_loader_val=data_loader_val)\n",
    "      print(f\"validation accuracy = {val_accuracy*100:.3f}\")"
   ]
  },
  {
   "cell_type": "markdown",
   "metadata": {
    "id": "QnDMqFapAUXM"
   },
   "source": [
    "#### **Tableau pour la précision sur l'ensemble de validation**\n",
    "N.B. que les lignes correspondent aux nombre de couche et les colonnes correspondent au nombre de neurone dans chaque couche. Les valeurs ci-dessous sont donné comme exemples; remplacez-les par les valeurs que vous avez utilisées pour votre recherche d'hyperparamètres.\n",
    "\n",
    "depth\\width  | 10 | 100 | 500 |\n",
    "-------------------|------------------|------------------|------------------|\n",
    "**1**   | 67.150  | 76.117 | 79.583 |\n",
    "**2**   | 12.750  | 54.667 | 76.117 |\n",
    "**3**   | 10.167  | 9.717 | 52.867 |"
   ]
  },
  {
   "cell_type": "markdown",
   "metadata": {
    "id": "2wuN-uw7AUXN"
   },
   "source": [
    "### SGD: Analyse du meilleur modèle"
   ]
  },
  {
   "cell_type": "code",
   "execution_count": 36,
   "metadata": {
    "colab": {
     "base_uri": "https://localhost:8080/",
     "height": 962
    },
    "id": "CShZ3VB0AUXN",
    "outputId": "42685bff-57ec-466f-8f8c-f662caf94454"
   },
   "outputs": [
    {
     "name": "stdout",
     "output_type": "stream",
     "text": [
      "Teta params=[torch.Size([500, 785]), torch.Size([10, 501])]\n"
     ]
    },
    {
     "name": "stderr",
     "output_type": "stream",
     "text": [
      "/usr/local/lib/python3.7/dist-packages/torch/utils/data/dataloader.py:481: UserWarning: This DataLoader will create 4 worker processes in total. Our suggested max number of worker in current system is 2, which is smaller than what this DataLoader is going to create. Please be aware that excessive worker creation might get DataLoader running slow or even freeze, lower the worker number to avoid potential slowness/freeze if necessary.\n",
      "  cpuset_checked))\n",
      "/usr/local/lib/python3.7/dist-packages/ipykernel_launcher.py:96: FutureWarning: The input object of type 'Tensor' is an array-like implementing one of the corresponding protocols (`__array__`, `__array_interface__` or `__array_struct__`); but not a sequence (or 0-D). In the future, this object will be coerced as if it was first converted using `np.array(obj)`. To retain the old behaviour, you have to either modify the type 'Tensor', or assign to an empty array created with `np.empty(correct_shape, dtype=object)`.\n",
      "/usr/local/lib/python3.7/dist-packages/ipykernel_launcher.py:96: VisibleDeprecationWarning: Creating an ndarray from ragged nested sequences (which is a list-or-tuple of lists-or-tuples-or ndarrays with different lengths or shapes) is deprecated. If you meant to do this, you must specify 'dtype=object' when creating the ndarray.\n"
     ]
    },
    {
     "name": "stdout",
     "output_type": "stream",
     "text": [
      "Epoch  0,                   Train:loss=2.301, accuracy=13.9%,                   Valid: loss=2.301, accuracy=13.5%\n",
      "Epoch  1,                   Train:loss=1.125, accuracy=64.3%,                   Valid: loss=1.122, accuracy=65.4%\n",
      "Epoch  2,                   Train:loss=0.825, accuracy=68.9%,                   Valid: loss=0.819, accuracy=69.9%\n",
      "Epoch  3,                   Train:loss=0.717, accuracy=74.8%,                   Valid: loss=0.712, accuracy=74.9%\n",
      "Epoch  4,                   Train:loss=0.651, accuracy=77.5%,                   Valid: loss=0.645, accuracy=77.2%\n",
      "Epoch  5,                   Train:loss=0.606, accuracy=79.4%,                   Valid: loss=0.601, accuracy=79.0%\n",
      "Epoch  6,                   Train:loss=0.572, accuracy=80.6%,                   Valid: loss=0.568, accuracy=80.2%\n",
      "Epoch  7,                   Train:loss=0.546, accuracy=81.6%,                   Valid: loss=0.544, accuracy=80.9%\n",
      "Epoch  8,                   Train:loss=0.527, accuracy=82.1%,                   Valid: loss=0.524, accuracy=81.7%\n",
      "Epoch  9,                   Train:loss=0.509, accuracy=82.8%,                   Valid: loss=0.508, accuracy=82.1%\n",
      "Epoch 10,                   Train:loss=0.496, accuracy=83.1%,                   Valid: loss=0.496, accuracy=82.5%\n",
      "Epoch 11,                   Train:loss=0.486, accuracy=83.4%,                   Valid: loss=0.486, accuracy=82.6%\n",
      "Epoch 12,                   Train:loss=0.477, accuracy=83.7%,                   Valid: loss=0.478, accuracy=83.1%\n",
      "Epoch 13,                   Train:loss=0.469, accuracy=83.9%,                   Valid: loss=0.472, accuracy=83.3%\n",
      "Epoch 14,                   Train:loss=0.463, accuracy=84.1%,                   Valid: loss=0.466, accuracy=83.5%\n",
      "Epoch 15,                   Train:loss=0.457, accuracy=84.2%,                   Valid: loss=0.462, accuracy=83.6%\n",
      "Epoch 16,                   Train:loss=0.457, accuracy=84.2%,                   Valid: loss=0.462, accuracy=83.6%\n",
      "Epoch 17,                   Train:loss=0.447, accuracy=84.6%,                   Valid: loss=0.452, accuracy=84.0%\n",
      "Epoch 18,                   Train:loss=0.445, accuracy=84.6%,                   Valid: loss=0.448, accuracy=83.8%\n",
      "Epoch 19,                   Train:loss=0.438, accuracy=84.9%,                   Valid: loss=0.444, accuracy=84.0%\n",
      "Epoch 20,                   Train:loss=0.433, accuracy=85.0%,                   Valid: loss=0.439, accuracy=84.4%\n",
      "Best validation accuracy = 84.400\n",
      "Evaluation of the best training model over test set\n",
      "------\n",
      "Loss : 0.469\n",
      "Accuracy : 83.540\n"
     ]
    },
    {
     "data": {
      "image/png": "[encoded data removed]",
      "text/plain": [
       "<Figure size 864x432 with 2 Axes>"
      ]
     },
     "metadata": {
      "needs_background": "light"
     },
     "output_type": "display_data"
    }
   ],
   "source": [
    "# SGD\n",
    "# Montrez les résultats pour la meilleure configuration trouvez ci-dessus.\n",
    "depth = 1     # TODO: Vous devez modifier cette valeur avec la meilleur que vous avez eu.\n",
    "width = 500    # TODO: Vous devez modifier cette valeur avec la meilleur que vous avez eu.\n",
    "lr = 0.0001           # Some value\n",
    "batch_size = 64   # Some value\n",
    "\n",
    "with torch.no_grad():\n",
    "  data_loader_train, data_loader_val, data_loader_test = get_fashion_mnist_dataloaders(val_percentage=0.1, batch_size=batch_size)\n",
    "\n",
    "  MLP_model = MLPModel(n_features=784, n_hidden_features=width, n_hidden_layers=depth, n_classes=10)\n",
    "  best_model, best_val_accuracy, logger = train(MLP_model,lr=lr, nb_epochs=20, sgd=True, \n",
    "                                                data_loader_train=data_loader_train, data_loader_val=data_loader_val)\n",
    "  logger.plot_loss_and_accuracy()\n",
    "  print(f\"Best validation accuracy = {best_val_accuracy*100:.3f}\")\n",
    "\n",
    "  accuracy_test, loss_test = accuracy_and_loss_whole_dataset(data_loader_test, best_model)\n",
    "print(\"Evaluation of the best training model over test set\")\n",
    "print(\"------\")\n",
    "print(f\"Loss : {loss_test:.3f}\")\n",
    "print(f\"Accuracy : {accuracy_test*100.:.3f}\")"
   ]
  },
  {
   "cell_type": "code",
   "execution_count": null,
   "metadata": {
    "id": "08BwcEV_kI8Q"
   },
   "outputs": [],
   "source": [
    "# Pour comparer\n",
    "# SGD\n",
    "# Montrez les résultats pour la meilleure configuration trouvez ci-dessus.\n",
    "depth = 3     # TODO: Vous devez modifier cette valeur avec la meilleur que vous avez eu.\n",
    "width = 500    # TODO: Vous devez modifier cette valeur avec la meilleur que vous avez eu.\n",
    "lr = 0.0001           # Some value\n",
    "batch_size = 64   # Some value\n",
    "\n",
    "with torch.no_grad():\n",
    "  data_loader_train, data_loader_val, data_loader_test = get_fashion_mnist_dataloaders(val_percentage=0.1, batch_size=batch_size)\n",
    "\n",
    "  MLP_model = MLPModel(n_features=784, n_hidden_features=width, n_hidden_layers=depth, n_classes=10)\n",
    "  best_model, best_val_accuracy, logger = train(MLP_model,lr=lr, nb_epochs=10, sgd=True, \n",
    "                                                data_loader_train=data_loader_train, data_loader_val=data_loader_val)\n",
    "  logger.plot_loss_and_accuracy()\n",
    "  print(f\"Best validation accuracy = {best_val_accuracy*100:.3f}\")\n",
    "\n",
    "  accuracy_test, loss_test = accuracy_and_loss_whole_dataset(data_loader_test, best_model)\n",
    "print(\"Evaluation of the best training model over test set\")\n",
    "print(\"------\")\n",
    "print(f\"Loss : {loss_test:.3f}\")\n",
    "print(f\"Accuracy : {accuracy_test*100.:.3f}\")"
   ]
  },
  {
   "cell_type": "markdown",
   "metadata": {
    "id": "_tPLgZriAUXO"
   },
   "source": [
    "### Adam: Recherche d'hyperparamètres\n",
    "\n",
    "Implémentez Adam, répétez les deux étapes précédentes (recherche d'hyperparamètres et analyse du meilleur modèle) cette fois en utilisat Adam, et comparez les performances finales avec votre meilleur modèle SGD."
   ]
  },
  {
   "cell_type": "code",
   "execution_count": 27,
   "metadata": {
    "colab": {
     "base_uri": "https://localhost:8080/"
    },
    "id": "tEVOh1r7AUXO",
    "outputId": "f539c8e6-1a7e-48bf-d19b-705dcabb739b"
   },
   "outputs": [
    {
     "name": "stdout",
     "output_type": "stream",
     "text": [
      "------------------------------------------------------------------\n",
      "Training model with a depth of 1 layers and a width of 10 units\n",
      "Teta params=[torch.Size([10, 785]), torch.Size([10, 11])]\n"
     ]
    },
    {
     "name": "stderr",
     "output_type": "stream",
     "text": [
      "/usr/local/lib/python3.7/dist-packages/torch/utils/data/dataloader.py:481: UserWarning: This DataLoader will create 4 worker processes in total. Our suggested max number of worker in current system is 2, which is smaller than what this DataLoader is going to create. Please be aware that excessive worker creation might get DataLoader running slow or even freeze, lower the worker number to avoid potential slowness/freeze if necessary.\n",
      "  cpuset_checked))\n",
      "/usr/local/lib/python3.7/dist-packages/ipykernel_launcher.py:96: FutureWarning: The input object of type 'Tensor' is an array-like implementing one of the corresponding protocols (`__array__`, `__array_interface__` or `__array_struct__`); but not a sequence (or 0-D). In the future, this object will be coerced as if it was first converted using `np.array(obj)`. To retain the old behaviour, you have to either modify the type 'Tensor', or assign to an empty array created with `np.empty(correct_shape, dtype=object)`.\n",
      "/usr/local/lib/python3.7/dist-packages/ipykernel_launcher.py:96: VisibleDeprecationWarning: Creating an ndarray from ragged nested sequences (which is a list-or-tuple of lists-or-tuples-or ndarrays with different lengths or shapes) is deprecated. If you meant to do this, you must specify 'dtype=object' when creating the ndarray.\n"
     ]
    },
    {
     "name": "stdout",
     "output_type": "stream",
     "text": [
      "Epoch  0,                   Train:loss=2.303, accuracy=7.9%,                   Valid: loss=2.303, accuracy=8.3%\n",
      "Epoch  1,                   Train:loss=0.640, accuracy=78.1%,                   Valid: loss=0.682, accuracy=76.6%\n",
      "Epoch  2,                   Train:loss=0.578, accuracy=79.9%,                   Valid: loss=0.619, accuracy=78.9%\n",
      "Epoch  3,                   Train:loss=0.564, accuracy=80.3%,                   Valid: loss=0.611, accuracy=79.0%\n",
      "Epoch  4,                   Train:loss=0.546, accuracy=81.1%,                   Valid: loss=0.594, accuracy=79.6%\n",
      "Epoch  5,                   Train:loss=0.540, accuracy=81.4%,                   Valid: loss=0.591, accuracy=79.6%\n",
      "Epoch  6,                   Train:loss=0.541, accuracy=81.5%,                   Valid: loss=0.590, accuracy=80.1%\n",
      "Epoch  7,                   Train:loss=0.541, accuracy=81.5%,                   Valid: loss=0.588, accuracy=80.3%\n",
      "Epoch  8,                   Train:loss=0.544, accuracy=81.1%,                   Valid: loss=0.592, accuracy=79.5%\n",
      "Epoch  9,                   Train:loss=0.540, accuracy=81.4%,                   Valid: loss=0.590, accuracy=79.8%\n",
      "Epoch 10,                   Train:loss=0.536, accuracy=81.4%,                   Valid: loss=0.587, accuracy=80.3%\n",
      "validation accuracy = 80.333\n",
      "------------------------------------------------------------------\n",
      "Training model with a depth of 1 layers and a width of 100 units\n",
      "Teta params=[torch.Size([100, 785]), torch.Size([10, 101])]\n",
      "Epoch  0,                   Train:loss=2.304, accuracy=10.0%,                   Valid: loss=2.303, accuracy=10.5%\n",
      "Epoch  1,                   Train:loss=0.463, accuracy=84.1%,                   Valid: loss=0.458, accuracy=83.8%\n",
      "Epoch  2,                   Train:loss=0.427, accuracy=84.9%,                   Valid: loss=0.428, accuracy=84.7%\n",
      "Epoch  3,                   Train:loss=0.406, accuracy=85.5%,                   Valid: loss=0.408, accuracy=85.2%\n",
      "Epoch  4,                   Train:loss=0.400, accuracy=85.7%,                   Valid: loss=0.401, accuracy=85.7%\n",
      "Epoch  5,                   Train:loss=0.399, accuracy=85.8%,                   Valid: loss=0.406, accuracy=85.3%\n",
      "Epoch  6,                   Train:loss=0.396, accuracy=86.0%,                   Valid: loss=0.404, accuracy=85.7%\n",
      "Epoch  7,                   Train:loss=0.382, accuracy=86.6%,                   Valid: loss=0.389, accuracy=86.4%\n",
      "Epoch  8,                   Train:loss=0.383, accuracy=86.4%,                   Valid: loss=0.390, accuracy=86.4%\n",
      "Epoch  9,                   Train:loss=0.380, accuracy=86.5%,                   Valid: loss=0.387, accuracy=86.7%\n",
      "Epoch 10,                   Train:loss=0.379, accuracy=86.6%,                   Valid: loss=0.388, accuracy=86.4%\n",
      "validation accuracy = 86.717\n",
      "------------------------------------------------------------------\n",
      "Training model with a depth of 1 layers and a width of 500 units\n",
      "Teta params=[torch.Size([500, 785]), torch.Size([10, 501])]\n",
      "Epoch  0,                   Train:loss=2.306, accuracy=6.7%,                   Valid: loss=2.306, accuracy=6.2%\n",
      "Epoch  1,                   Train:loss=0.431, accuracy=85.3%,                   Valid: loss=0.448, accuracy=84.5%\n",
      "Epoch  2,                   Train:loss=0.419, accuracy=85.1%,                   Valid: loss=0.447, accuracy=84.2%\n",
      "Epoch  3,                   Train:loss=0.391, accuracy=86.2%,                   Valid: loss=0.418, accuracy=85.3%\n",
      "Epoch  4,                   Train:loss=0.404, accuracy=85.6%,                   Valid: loss=0.434, accuracy=84.3%\n",
      "Epoch  5,                   Train:loss=0.396, accuracy=85.7%,                   Valid: loss=0.431, accuracy=84.5%\n",
      "Epoch  6,                   Train:loss=0.377, accuracy=86.7%,                   Valid: loss=0.411, accuracy=85.6%\n",
      "Epoch  7,                   Train:loss=0.373, accuracy=86.8%,                   Valid: loss=0.412, accuracy=85.4%\n",
      "Epoch  8,                   Train:loss=0.366, accuracy=86.9%,                   Valid: loss=0.410, accuracy=85.3%\n",
      "Epoch  9,                   Train:loss=0.374, accuracy=86.3%,                   Valid: loss=0.414, accuracy=84.9%\n",
      "Epoch 10,                   Train:loss=0.358, accuracy=87.2%,                   Valid: loss=0.402, accuracy=85.6%\n",
      "validation accuracy = 85.600\n",
      "------------------------------------------------------------------\n",
      "Training model with a depth of 2 layers and a width of 10 units\n",
      "Teta params=[torch.Size([10, 785]), torch.Size([10, 11]), torch.Size([10, 11])]\n",
      "Epoch  0,                   Train:loss=2.303, accuracy=10.0%,                   Valid: loss=2.303, accuracy=10.3%\n",
      "Epoch  1,                   Train:loss=0.861, accuracy=66.5%,                   Valid: loss=0.863, accuracy=67.0%\n",
      "Epoch  2,                   Train:loss=0.672, accuracy=76.3%,                   Valid: loss=0.674, accuracy=76.3%\n",
      "Epoch  3,                   Train:loss=0.618, accuracy=78.4%,                   Valid: loss=0.615, accuracy=78.3%\n",
      "Epoch  4,                   Train:loss=0.598, accuracy=79.0%,                   Valid: loss=0.599, accuracy=79.1%\n",
      "Epoch  5,                   Train:loss=0.582, accuracy=79.8%,                   Valid: loss=0.586, accuracy=79.5%\n",
      "Epoch  6,                   Train:loss=0.573, accuracy=80.1%,                   Valid: loss=0.578, accuracy=79.9%\n",
      "Epoch  7,                   Train:loss=0.558, accuracy=80.4%,                   Valid: loss=0.564, accuracy=80.4%\n",
      "Epoch  8,                   Train:loss=0.558, accuracy=80.5%,                   Valid: loss=0.560, accuracy=81.2%\n",
      "Epoch  9,                   Train:loss=0.541, accuracy=81.1%,                   Valid: loss=0.546, accuracy=81.1%\n",
      "Epoch 10,                   Train:loss=0.542, accuracy=81.4%,                   Valid: loss=0.548, accuracy=80.9%\n",
      "validation accuracy = 81.200\n",
      "------------------------------------------------------------------\n",
      "Training model with a depth of 2 layers and a width of 100 units\n",
      "Teta params=[torch.Size([100, 785]), torch.Size([100, 101]), torch.Size([10, 101])]\n",
      "Epoch  0,                   Train:loss=2.303, accuracy=10.0%,                   Valid: loss=2.303, accuracy=10.3%\n",
      "Epoch  1,                   Train:loss=0.479, accuracy=82.6%,                   Valid: loss=0.495, accuracy=81.9%\n",
      "Epoch  2,                   Train:loss=0.421, accuracy=85.1%,                   Valid: loss=0.433, accuracy=84.7%\n",
      "Epoch  3,                   Train:loss=0.413, accuracy=85.3%,                   Valid: loss=0.428, accuracy=85.2%\n",
      "Epoch  4,                   Train:loss=0.406, accuracy=85.6%,                   Valid: loss=0.424, accuracy=85.1%\n",
      "Epoch  5,                   Train:loss=0.394, accuracy=85.9%,                   Valid: loss=0.420, accuracy=84.9%\n",
      "Epoch  6,                   Train:loss=0.380, accuracy=86.6%,                   Valid: loss=0.407, accuracy=86.1%\n",
      "Epoch  7,                   Train:loss=0.382, accuracy=86.2%,                   Valid: loss=0.414, accuracy=85.5%\n",
      "Epoch  8,                   Train:loss=0.386, accuracy=86.1%,                   Valid: loss=0.425, accuracy=85.0%\n",
      "Epoch  9,                   Train:loss=0.375, accuracy=86.5%,                   Valid: loss=0.416, accuracy=85.6%\n",
      "Epoch 10,                   Train:loss=0.372, accuracy=86.5%,                   Valid: loss=0.413, accuracy=85.9%\n",
      "validation accuracy = 86.067\n",
      "------------------------------------------------------------------\n",
      "Training model with a depth of 2 layers and a width of 500 units\n",
      "Teta params=[torch.Size([500, 785]), torch.Size([500, 501]), torch.Size([10, 501])]\n",
      "Epoch  0,                   Train:loss=2.302, accuracy=6.0%,                   Valid: loss=2.302, accuracy=5.4%\n",
      "Epoch  1,                   Train:loss=0.435, accuracy=84.5%,                   Valid: loss=0.457, accuracy=84.3%\n",
      "Epoch  2,                   Train:loss=0.413, accuracy=84.8%,                   Valid: loss=0.431, accuracy=84.6%\n",
      "Epoch  3,                   Train:loss=0.430, accuracy=84.7%,                   Valid: loss=0.448, accuracy=84.3%\n",
      "Epoch  4,                   Train:loss=0.369, accuracy=86.7%,                   Valid: loss=0.391, accuracy=86.5%\n",
      "Epoch  5,                   Train:loss=0.403, accuracy=85.4%,                   Valid: loss=0.425, accuracy=85.2%\n",
      "Epoch  6,                   Train:loss=0.385, accuracy=86.0%,                   Valid: loss=0.408, accuracy=85.0%\n",
      "Epoch  7,                   Train:loss=0.364, accuracy=86.9%,                   Valid: loss=0.389, accuracy=86.4%\n",
      "Epoch  8,                   Train:loss=0.358, accuracy=87.4%,                   Valid: loss=0.386, accuracy=86.6%\n",
      "Epoch  9,                   Train:loss=0.364, accuracy=87.0%,                   Valid: loss=0.392, accuracy=86.2%\n",
      "Epoch 10,                   Train:loss=0.354, accuracy=87.4%,                   Valid: loss=0.390, accuracy=86.5%\n",
      "validation accuracy = 86.567\n",
      "------------------------------------------------------------------\n",
      "Training model with a depth of 3 layers and a width of 10 units\n",
      "Teta params=[torch.Size([10, 785]), torch.Size([10, 11]), torch.Size([10, 11]), torch.Size([10, 11])]\n",
      "Epoch  0,                   Train:loss=2.303, accuracy=10.0%,                   Valid: loss=2.303, accuracy=9.9%\n",
      "Epoch  1,                   Train:loss=1.134, accuracy=55.1%,                   Valid: loss=1.130, accuracy=55.2%\n",
      "Epoch  2,                   Train:loss=0.848, accuracy=68.4%,                   Valid: loss=0.844, accuracy=67.9%\n",
      "Epoch  3,                   Train:loss=0.742, accuracy=73.0%,                   Valid: loss=0.742, accuracy=72.3%\n",
      "Epoch  4,                   Train:loss=0.684, accuracy=75.4%,                   Valid: loss=0.688, accuracy=75.0%\n",
      "Epoch  5,                   Train:loss=0.662, accuracy=76.0%,                   Valid: loss=0.661, accuracy=75.7%\n",
      "Epoch  6,                   Train:loss=0.665, accuracy=76.1%,                   Valid: loss=0.665, accuracy=75.2%\n",
      "Epoch  7,                   Train:loss=0.624, accuracy=77.5%,                   Valid: loss=0.623, accuracy=77.4%\n",
      "Epoch  8,                   Train:loss=0.639, accuracy=76.9%,                   Valid: loss=0.637, accuracy=76.9%\n",
      "Epoch  9,                   Train:loss=0.632, accuracy=77.6%,                   Valid: loss=0.636, accuracy=77.6%\n",
      "Epoch 10,                   Train:loss=0.626, accuracy=77.0%,                   Valid: loss=0.626, accuracy=77.2%\n",
      "validation accuracy = 77.583\n",
      "------------------------------------------------------------------\n",
      "Training model with a depth of 3 layers and a width of 100 units\n",
      "Teta params=[torch.Size([100, 785]), torch.Size([100, 101]), torch.Size([100, 101]), torch.Size([10, 101])]\n",
      "Epoch  0,                   Train:loss=2.303, accuracy=10.6%,                   Valid: loss=2.303, accuracy=10.5%\n",
      "Epoch  1,                   Train:loss=0.567, accuracy=78.7%,                   Valid: loss=0.586, accuracy=78.6%\n",
      "Epoch  2,                   Train:loss=0.486, accuracy=82.7%,                   Valid: loss=0.497, accuracy=83.1%\n",
      "Epoch  3,                   Train:loss=0.449, accuracy=83.9%,                   Valid: loss=0.463, accuracy=83.5%\n",
      "Epoch  4,                   Train:loss=0.421, accuracy=85.0%,                   Valid: loss=0.439, accuracy=84.6%\n",
      "Epoch  5,                   Train:loss=0.423, accuracy=84.7%,                   Valid: loss=0.450, accuracy=84.6%\n",
      "Epoch  6,                   Train:loss=0.406, accuracy=85.6%,                   Valid: loss=0.435, accuracy=84.8%\n",
      "Epoch  7,                   Train:loss=0.406, accuracy=85.5%,                   Valid: loss=0.437, accuracy=84.5%\n",
      "Epoch  8,                   Train:loss=0.408, accuracy=85.5%,                   Valid: loss=0.447, accuracy=84.3%\n",
      "Epoch  9,                   Train:loss=0.392, accuracy=86.0%,                   Valid: loss=0.426, accuracy=84.9%\n",
      "Epoch 10,                   Train:loss=0.401, accuracy=85.9%,                   Valid: loss=0.431, accuracy=85.1%\n",
      "validation accuracy = 85.117\n",
      "------------------------------------------------------------------\n",
      "Training model with a depth of 3 layers and a width of 500 units\n",
      "Teta params=[torch.Size([500, 785]), torch.Size([500, 501]), torch.Size([500, 501]), torch.Size([10, 501])]\n",
      "Epoch  0,                   Train:loss=2.303, accuracy=10.0%,                   Valid: loss=2.303, accuracy=9.6%\n",
      "Epoch  1,                   Train:loss=0.520, accuracy=82.1%,                   Valid: loss=0.541, accuracy=80.9%\n",
      "Epoch  2,                   Train:loss=0.418, accuracy=85.4%,                   Valid: loss=0.432, accuracy=84.9%\n",
      "Epoch  3,                   Train:loss=0.453, accuracy=83.0%,                   Valid: loss=0.472, accuracy=82.2%\n",
      "Epoch  4,                   Train:loss=0.453, accuracy=84.0%,                   Valid: loss=0.479, accuracy=83.8%\n",
      "Epoch  5,                   Train:loss=0.392, accuracy=86.1%,                   Valid: loss=0.431, accuracy=85.1%\n",
      "Epoch  6,                   Train:loss=0.399, accuracy=85.6%,                   Valid: loss=0.437, accuracy=84.8%\n",
      "Epoch  7,                   Train:loss=0.396, accuracy=86.3%,                   Valid: loss=0.443, accuracy=85.3%\n",
      "Epoch  8,                   Train:loss=0.417, accuracy=85.0%,                   Valid: loss=0.469, accuracy=83.7%\n",
      "Epoch  9,                   Train:loss=0.385, accuracy=86.1%,                   Valid: loss=0.436, accuracy=85.2%\n",
      "Epoch 10,                   Train:loss=0.412, accuracy=85.4%,                   Valid: loss=0.469, accuracy=83.9%\n",
      "validation accuracy = 85.250\n"
     ]
    }
   ],
   "source": [
    "# ADAM\n",
    "# Montrez les résultats pour différents nombre de couche, e.g. 1, 3, 5, et différent nombres de neurone, e.g. 25, 100, 300, 500, 1000.\n",
    "depth_list = [1, 2, 3]            # Define ranges in a list\n",
    "width_list = [10, 100, 500]       # Define ranges in a list\n",
    "lr = 0.001                       # Some value\n",
    "batch_size = 64                   # Some value\n",
    "\n",
    "with torch.no_grad():\n",
    "  for depth in depth_list:\n",
    "    for width in width_list:\n",
    "      print(\"------------------------------------------------------------------\")\n",
    "      print(\"Training model with a depth of {0} layers and a width of {1} units\".format(depth, width))\n",
    "      data_loader_train, data_loader_val, data_loader_test = get_fashion_mnist_dataloaders(val_percentage=0.1, batch_size=batch_size)\n",
    "      \n",
    "      MLP_model = MLPModel(n_features=784, n_hidden_features=width, n_hidden_layers=depth, n_classes=10)\n",
    "      _, val_accuracy, _ = train(MLP_model, lr=lr, nb_epochs=10, sgd=False, data_loader_train=data_loader_train, data_loader_val=data_loader_val)\n",
    "      print(f\"validation accuracy = {val_accuracy*100:.3f}\")"
   ]
  },
  {
   "cell_type": "markdown",
   "metadata": {
    "id": "6LQ6q18CAUXP"
   },
   "source": [
    "#### **Tableau pour la précision sur l'ensemble de validation**\n",
    "N.B. que les lignes correspondent aux nombre de couche et les colonnes correspondent au nombre de neurone dans chaque couche. Les valeurs ci-dessous sont donné comme exemples; remplacez-les par les valeurs que vous avez utilisées pour votre recherche d'hyperparamètres.\n",
    "\n",
    "depth\\width  | 10 | 100 | 500 |\n",
    "-------------------|------------------|------------------|------------------|\n",
    "**1**   | 80.333  | 86.717 | 85.600 |\n",
    "**2**   | 81.200  | 86.067 | 86.567 |\n",
    "**3**   | 77.583  | 85.117 | 85.250 |"
   ]
  },
  {
   "cell_type": "markdown",
   "metadata": {
    "id": "df6Y9ziXAUXP"
   },
   "source": [
    "### Adam: Analyse du meilleur modèle"
   ]
  },
  {
   "cell_type": "code",
   "execution_count": 51,
   "metadata": {
    "colab": {
     "base_uri": "https://localhost:8080/",
     "height": 789
    },
    "id": "uohnWTtoAUXP",
    "outputId": "97082786-4222-4f5a-9e56-955e886f44ae"
   },
   "outputs": [
    {
     "name": "stdout",
     "output_type": "stream",
     "text": [
      "Teta params=[torch.Size([500, 785]), torch.Size([500, 501]), torch.Size([500, 501]), torch.Size([10, 501])]\n"
     ]
    },
    {
     "name": "stderr",
     "output_type": "stream",
     "text": [
      "/usr/local/lib/python3.7/dist-packages/torch/utils/data/dataloader.py:481: UserWarning: This DataLoader will create 4 worker processes in total. Our suggested max number of worker in current system is 2, which is smaller than what this DataLoader is going to create. Please be aware that excessive worker creation might get DataLoader running slow or even freeze, lower the worker number to avoid potential slowness/freeze if necessary.\n",
      "  cpuset_checked))\n",
      "/usr/local/lib/python3.7/dist-packages/ipykernel_launcher.py:96: FutureWarning: The input object of type 'Tensor' is an array-like implementing one of the corresponding protocols (`__array__`, `__array_interface__` or `__array_struct__`); but not a sequence (or 0-D). In the future, this object will be coerced as if it was first converted using `np.array(obj)`. To retain the old behaviour, you have to either modify the type 'Tensor', or assign to an empty array created with `np.empty(correct_shape, dtype=object)`.\n",
      "/usr/local/lib/python3.7/dist-packages/ipykernel_launcher.py:96: VisibleDeprecationWarning: Creating an ndarray from ragged nested sequences (which is a list-or-tuple of lists-or-tuples-or ndarrays with different lengths or shapes) is deprecated. If you meant to do this, you must specify 'dtype=object' when creating the ndarray.\n"
     ]
    },
    {
     "name": "stdout",
     "output_type": "stream",
     "text": [
      "Epoch  0,                   Train:loss=2.303, accuracy=9.9%,                   Valid: loss=2.303, accuracy=10.7%\n",
      "Epoch  1,                   Train:loss=0.577, accuracy=78.9%,                   Valid: loss=0.558, accuracy=79.8%\n",
      "Epoch  2,                   Train:loss=0.480, accuracy=82.6%,                   Valid: loss=0.470, accuracy=83.7%\n",
      "Epoch  3,                   Train:loss=0.453, accuracy=83.5%,                   Valid: loss=0.446, accuracy=84.0%\n",
      "Epoch  4,                   Train:loss=0.432, accuracy=84.1%,                   Valid: loss=0.425, accuracy=84.7%\n",
      "Epoch  5,                   Train:loss=0.413, accuracy=85.0%,                   Valid: loss=0.416, accuracy=85.0%\n",
      "Epoch  6,                   Train:loss=0.404, accuracy=85.5%,                   Valid: loss=0.407, accuracy=85.6%\n",
      "Epoch  7,                   Train:loss=0.403, accuracy=85.4%,                   Valid: loss=0.403, accuracy=85.5%\n",
      "Epoch  8,                   Train:loss=0.385, accuracy=86.0%,                   Valid: loss=0.396, accuracy=85.5%\n",
      "Epoch  9,                   Train:loss=0.369, accuracy=86.7%,                   Valid: loss=0.376, accuracy=86.6%\n",
      "Epoch 10,                   Train:loss=0.405, accuracy=85.1%,                   Valid: loss=0.410, accuracy=85.1%\n",
      "Best validation accuracy = 86.633\n",
      "Evaluation of the best training model over test set\n",
      "------\n",
      "Loss : 0.455\n",
      "Accuracy : 83.350\n"
     ]
    },
    {
     "data": {
      "image/png": "[encoded data removed]",
      "text/plain": [
       "<Figure size 864x432 with 2 Axes>"
      ]
     },
     "metadata": {
      "needs_background": "light"
     },
     "output_type": "display_data"
    }
   ],
   "source": [
    "# ADAM\n",
    "# Montrez les résultats pour la meilleure configuration trouvez ci-dessus.\n",
    "depth = 3    \n",
    "width = 500   \n",
    "lr = 0.0001          \n",
    "batch_size = 64   \n",
    "\n",
    "with torch.no_grad():\n",
    "  data_loader_train, data_loader_val, data_loader_test = get_fashion_mnist_dataloaders(val_percentage=0.1, batch_size=batch_size)\n",
    "\n",
    "  MLP_model = MLPModel(n_features=784, n_hidden_features=width, n_hidden_layers=depth, n_classes=10)\n",
    "  best_model, best_val_accuracy, logger = train(MLP_model,lr=lr, nb_epochs=10, sgd=False, \n",
    "                                                data_loader_train=data_loader_train, data_loader_val=data_loader_val)\n",
    "  logger.plot_loss_and_accuracy()\n",
    "  print(f\"Best validation accuracy = {best_val_accuracy*100:.3f}\")\n",
    "\n",
    "  accuracy_test, loss_test = accuracy_and_loss_whole_dataset(data_loader_test, best_model)\n",
    "print(\"Evaluation of the best training model over test set\")\n",
    "print(\"------\")\n",
    "print(f\"Loss : {loss_test:.3f}\")\n",
    "print(f\"Accuracy : {accuracy_test*100.:.3f}\")"
   ]
  },
  {
   "cell_type": "markdown",
   "metadata": {
    "id": "-wlDcZB-AUXP"
   },
   "source": [
    "### Analyse des Résultats"
   ]
  },
  {
   "cell_type": "markdown",
   "metadata": {
    "id": "M-Wi3CG3AUXP"
   },
   "source": [
    "Dans cette section, un réseau multicouche a été implémenté. Le réseau est composé de L couche cachée composée de D neurones par couche avec une fonction d'activation ReLU. La dernière couche du réseau comporte une fonction d'activation différente, soit Sfotmax dans le but de réaliser la classification.\n",
    "\n",
    "### SDG\n",
    "Tout d'abord, l'entrainement s'est fait avec SDG. Après plusieurs essais avec plusieurs learning rate, un learning rate plus petit que la section précédente a été choisie, car le réseau avait moins de chance d'avoir des neurones morts en atteignant le bas de la fonction ReLU. Par la suite, plusieurs configurations de couche ont été testées et la meilleure configuration trouvée a été 1 seul couche, mais avec 500 neurones. Cette architecture simple fait en sorte que le modèle est plus facile à entrainer. Pour améliorer les performances des réseaux multicouches, plusieurs améliorations peuvent être apportées comme ajouter de la régularisation, ajouter des sauts aléatoires dans le réseau pour réactiver les neurones morts (lorsque la dérivé de ReLU atteint 0, donner une petite chance de changer le 0 pour un 1), faire de l'augmentation de données et bien sûr, utiliser la mise à jour de paramètre avec l'optimisation ADAM.\n",
    "\n",
    "### ADAM\n",
    "Ensuite, le même processus a été refait avec la mise à jour des paramètres avec ADAM. Pour cette recherche, l'algorithme d'apprentissage a été roulé plus longtemps afin de voir si ce plus long apprentissage a un impact. Premièrement, on remarque que l'utilisation d'ADAM donne de bien meilleurs résultats pour lorsque le modèle atteint la même époque que SDG. De plus, l'assez rouler l'algorithme plus longtemps nous permet d'obtenir une précision de 86.717%, soit le modèle avec la meilleure performance trouvée durant se TP. \n",
    "\n",
    "Finalement, un modèle avec 3 couches cachées et 500 neurones par couche a été entrainé afin de visualiser le Loss et l'accuracy de ce modèle. On s'aperçoit que l'accuracy maximal obtenu par se modèle est de 86.6%. Plusieurs techniques mentionnées à la section précédente pourraient être utilisées pour améliorer ce résultat."
   ]
  },
  {
   "cell_type": "code",
   "execution_count": null,
   "metadata": {
    "id": "oVVYaIB3x-hz"
   },
   "outputs": [],
   "source": []
  }
 ],
 "metadata": {
  "colab": {
   "collapsed_sections": [],
   "name": "INF8225-TP1-H22_1948612.ipynb",
   "provenance": []
  },
  "kernelspec": {
   "display_name": "Python 3",
   "language": "python",
   "name": "python3"
  },
  "language_info": {
   "codemirror_mode": {
    "name": "ipython",
    "version": 3
   },
   "file_extension": ".py",
   "mimetype": "text/x-python",
   "name": "python",
   "nbconvert_exporter": "python",
   "pygments_lexer": "ipython3",
   "version": "3.7.4"
  }
 },
 "nbformat": 4,
 "nbformat_minor": 1
}
