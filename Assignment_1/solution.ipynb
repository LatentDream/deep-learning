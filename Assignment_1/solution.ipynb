{
  "nbformat": 4,
  "nbformat_minor": 0,
  "metadata": {
    "colab": {
      "provenance": [],
      "collapsed_sections": [],
      "include_colab_link": true
    },
    "kernelspec": {
      "name": "python3",
      "display_name": "Python 3"
    },
    "language_info": {
      "name": "python"
    },
    "accelerator": "GPU",
    "gpuClass": "standard"
  },
  "cells": [
    {
      "cell_type": "markdown",
      "metadata": {
        "id": "view-in-github",
        "colab_type": "text"
      },
      "source": [
        "<a href=\"https://colab.research.google.com/github/guthi1/deep-learning/blob/main/Assignment_1/solution.ipynb\" target=\"_parent\"><img src=\"https://colab.research.google.com/assets/colab-badge.svg\" alt=\"Open In Colab\"/></a>"
      ]
    },
    {
      "cell_type": "markdown",
      "source": [
        "# IFT6135-A2022\n",
        "# Assignment 1: Practical\n",
        "\n",
        "You must fill in your answers to various questions in this notebook, following which you must export this notebook to a Python file named `solution.py` and submit it on Gradescope.\n",
        "\n",
        "Only edit the functions specified in the PDF (and wherever marked – `# WRITE CODE HERE`). Do not change definitions or edit the rest of the template, else the autograder will not work."
      ],
      "metadata": {
        "id": "nWJnNLufy2Yl"
      }
    },
    {
      "cell_type": "markdown",
      "source": [
        "**Make sure you request a GPU runtime (especially for Question 3)!**"
      ],
      "metadata": {
        "id": "SYa2b_UaRdZL"
      }
    },
    {
      "cell_type": "code",
      "execution_count": 1,
      "metadata": {
        "id": "Chq23hzpyqGB"
      },
      "outputs": [],
      "source": [
        "# DO NOT MODIFY!\n",
        "import matplotlib.pyplot as plt\n",
        "import numpy as np\n",
        "import random\n",
        "\n",
        "# Fix random seed\n",
        "random.seed(0)\n",
        "np.random.seed(0)"
      ]
    },
    {
      "cell_type": "markdown",
      "source": [
        "## Question 1: Implementing MLPs with NumPy (30 points)"
      ],
      "metadata": {
        "id": "_vP6_RXx02jN"
      }
    },
    {
      "cell_type": "code",
      "source": [
        "class NN(object):\n",
        "  \"\"\"\n",
        "    Implements an MLP.\n",
        "  \"\"\"\n",
        "\n",
        "  def __init__(self,\n",
        "               dims=(784, 128, 64, 10), # h_0, h_1, h_2, h_3\n",
        "               activation=\"relu\",       # Activation function\n",
        "               epsilon=1e-6,            # Correction factor\n",
        "               lr=0.01,                 # Learning rate\n",
        "               seed=0                   # Random seed\n",
        "              ):\n",
        "    \"\"\"\n",
        "      Constructor of the NN class.\n",
        "\n",
        "      dims: list or tuple or np.array, default (784, 128, 64, 10)\n",
        "        Values of h_0 (no. of features), h_1 (hidden dim. 1), h_2 (hidden dim. 2), h_3 (no. of output classes).\n",
        "      activation: string, default \"relu\"\n",
        "        Activation function to use.\n",
        "      epsilon: float or double, default 1e-6\n",
        "        Correction factor to clip probabilities.\n",
        "      lr: float or double, default 0.01\n",
        "        Learning rate for weight updates.\n",
        "      seed: int, default 0\n",
        "        Random seed.\n",
        "    \"\"\"\n",
        "    super(NN, self).__init__()\n",
        "\n",
        "    self.dims = dims\n",
        "    self.n_hidden = len(dims) - 2\n",
        "    self.activation_str = activation\n",
        "    self.epsilon = epsilon\n",
        "    self.lr = lr\n",
        "    self.seed = seed\n",
        "    self.debug = False\n",
        "\n",
        "  def initialize_weights(self):\n",
        "    \"\"\"\n",
        "      Results: Initializes the weights of the MLP from uniform(-1/sqrt(h_0), 1/sqrt(h_0)) and the biases to zeros.\n",
        "    \"\"\"\n",
        "    if self.seed is not None:\n",
        "      np.random.seed(self.seed)\n",
        "\n",
        "    self.weights = {}\n",
        "    # self.weights is a dictionary with keys W1, b1, W2, b2, ..., Wm, Bm where m - 1 is the number of hidden layers\n",
        "    # The keys W1, W2, ..., Wm correspond to weights while b1, b2, ..., bm correspond to biases\n",
        "    for layer_n in range(1, self.n_hidden + 2):\n",
        "      \"\"\" h_0 = nb. feature input data \"\"\"\n",
        "      h_0 = self.dims[0]\n",
        "\n",
        "      \"\"\" Number of weight of a layer \"\"\"\n",
        "      n_weights = self.dims[layer_n-1] * (self.dims[layer_n])\n",
        "\n",
        "      \"\"\" Init the weight \"\"\"\n",
        "      weights = np.random.uniform(-1/np.sqrt(h_0), 1/np.sqrt(h_0), size=n_weights)\n",
        "\n",
        "      \"\"\" Reshape in the good size\n",
        "      \" | W_00  W_01 .. |\n",
        "      \" | W_10  W_11 .. |\n",
        "      \" |  ..    ..  .. | \n",
        "      \"\"\"\n",
        "      weights = np.reshape(weights, (self.dims[layer_n-1], self.dims[layer_n]))\n",
        "\n",
        "      \"\"\" Weights : matrix of shape(n_neurone{layer_i}, n_neuro{layer_i-1}) \"\"\"\n",
        "      self.weights[f\"W{layer_n}\"] = weights\n",
        "      self.weights[f\"b{layer_n}\"] = np.zeros((1, self.dims[layer_n]))\n",
        "\n",
        "  def relu(self, x, grad=False):\n",
        "    \"\"\"\n",
        "      x: np.array\n",
        "        Inputs to calculate ReLU(x) for. x may contain a batch of inputs!\n",
        "      grad: bool, default False\n",
        "        If True, return the gradient of the activation with respect to the inputs to the function.\n",
        "\n",
        "      Outputs: Implements the ReLU activation function or its gradient.\n",
        "    \"\"\"\n",
        "    if grad:\n",
        "      x[x <= 0] = 0\n",
        "      x[x > 0] = 1\n",
        "      return x\n",
        "    return np.maximum(0, x)\n",
        "\n",
        "  def sigmoid(self, x, grad=False):\n",
        "    \"\"\"\n",
        "      x: np.array\n",
        "        Inputs to calculate sigmoid(x) for. x may contain a batch of inputs!\n",
        "      grad: bool, default False\n",
        "        If True, return the gradient of the activation with respect to the inputs to the function.\n",
        "\n",
        "      Outputs: Implements the Sigmoid activation function or its gradient.\n",
        "    \"\"\"\n",
        "    def sigmoid(x):\n",
        "        return 1/(1+np.exp(-x))\n",
        "\n",
        "    if grad:\n",
        "      return sigmoid(x)*(1-sigmoid(x))\n",
        "    return sigmoid(x)\n",
        "\n",
        "  def tanh(self, x, grad=False):\n",
        "    \"\"\"\n",
        "      x: np.array\n",
        "        Inputs to calculate tanh(x) for. x may contain a batch of inputs!\n",
        "      grad: bool, default False\n",
        "        If True, return the gradient of the activation with respect to the inputs to the function.\n",
        "\n",
        "      Outputs: Implements the tanh activation function or its gradient.\n",
        "    \"\"\"\n",
        "    def tanh(x):\n",
        "        return (np.exp(x)-np.exp(-x))/(np.exp(x)+np.exp(-x))\n",
        "\n",
        "    if grad:\n",
        "      return 1-(np.power(tanh(x), 2))\n",
        "    return tanh(x)\n",
        "\n",
        "  def activation(self, x, grad=False):\n",
        "    \"\"\"\n",
        "      x: np.array\n",
        "        Inputs to calculate activation(x) for. x may contain a batch of inputs!\n",
        "      grad: bool, default False\n",
        "        If True, return the gradient of the activation with respect to the inputs to the function.\n",
        "\n",
        "      Outputs: Returns the value of the activation or the gradient.\n",
        "    \"\"\"\n",
        "    if self.activation_str == \"relu\":\n",
        "      return self.relu(x, grad=grad) \n",
        "    elif self.activation_str == \"sigmoid\":\n",
        "      return self.sigmoid(x, grad=grad)\n",
        "    elif self.activation_str == \"tanh\":\n",
        "      return self.tanh(x, grad=grad)\n",
        "    else:\n",
        "      raise Exception(\"Invalid activation\")\n",
        "    return 0\n",
        "\n",
        "  def softmax(self, x):\n",
        "    \"\"\"\n",
        "      x: np.array\n",
        "        Inputs to calculate softmax over. x may contain a batch of inputs!\n",
        "\n",
        "      Outputs: Implements the softmax function, returns the array containing softmax(x).\n",
        "    \"\"\"\n",
        "    axis = 1\n",
        "    max = np.max(x, axis=axis)\n",
        "    exp_x = np.exp(x - np.expand_dims(max, axis))\n",
        "    sum = np.sum(exp_x, axis=axis)\n",
        "    return exp_x / np.expand_dims(sum, axis)\n",
        "\n",
        "  def forward(self, x):\n",
        "    \"\"\"\n",
        "      x: np.array\n",
        "        Inputs to the MLP. Note that x may contain multiple input examples, not just one example.\n",
        "\n",
        "      Outputs: Implements the forward pass, returns cache as described below.\n",
        "    \"\"\"\n",
        "    cache = {\"Z0\": x}\n",
        "    # cache is a dictionary with keys Z0, A1, Z1, ..., Am, Zm where m - 1 is the number of hidden layers\n",
        "    # Z0 just contains the inputs x to the network\n",
        "    # Ai corresponds to the preactivation at layer i, Zi corresponds to the activation at layer i\n",
        "    if self.debug:print(\"\\nFoward ...\")\n",
        "    z = x\n",
        "\n",
        "    for layer_n in range(1, self.n_hidden + 2):\n",
        "\n",
        "        # Get the weiths\n",
        "        weights = self.weights[f\"W{layer_n}\"]\n",
        "        bias = self.weights[f\"b{layer_n}\"]\n",
        "\n",
        "        # Calcul       \n",
        "        if self.debug:print(f\"layer_{layer_n}\")\n",
        "        if self.debug:print(f\"    z_{z.shape} dot w_{weights.shape} + b_{bias.shape}\")\n",
        "        # Do calcul\n",
        "        a = z.dot(weights) + bias\n",
        "        \n",
        "        if layer_n == self.n_hidden+1:\n",
        "            z = self.softmax(a)\n",
        "        else:\n",
        "            z = self.activation(a)\n",
        "        if self.debug:print(f\"    = z_{z.shape}\")\n",
        "    \n",
        "        # Save value\n",
        "        cache[f\"A{layer_n}\"] = a\n",
        "        cache[f\"Z{layer_n}\"] = z\n",
        "    \n",
        "    return cache\n",
        "\n",
        "  def loss(self, prediction, labels):\n",
        "    \"\"\"\n",
        "      prediction: np.array\n",
        "        Predicted probabilities for each class for inputs. May contain multiple examples (a batch)!\n",
        "      labels: np.array\n",
        "        True labels corresponding to the inputs (assume they are one-hot encoded). May contain multiple examples (a batch)!\n",
        "\n",
        "      Outputs: Returns the crossentropy loss (take the mean over number of inputs).\n",
        "    \"\"\"\n",
        "    prediction[np.where(prediction < self.epsilon)] = self.epsilon\n",
        "    prediction[np.where(prediction > 1 - self.epsilon)] = 1 - self.epsilon\n",
        "    return (- np.sum(labels * np.log(prediction))) / len(prediction)\n",
        "\n",
        "  def backward(self, cache, labels):\n",
        "    \"\"\"\n",
        "      cache: np.array\n",
        "        Results of the backward pass. This may be for multiple examples (a batch).\n",
        "      labels: np.array\n",
        "        True labels corresponding to the inputs in cache. May contain multiple examples (a batch)!\n",
        "\n",
        "      Outputs: Implements the backward pass, returns grads as described below.\n",
        "    \"\"\"\n",
        "    output = cache[f\"Z{self.n_hidden + 1}\"]\n",
        "    grads = {}\n",
        "\n",
        "    # grads is a dictionary with keys dAm, dWm, dbm, dZ(m-1), dA(m-1), ..., dW1, db1\n",
        "    # Remember to account for the number of input examples!\n",
        "\n",
        "    \"\"\"\n",
        "    We need to find: dC/dw et dC/db. For that, let introduce intermediate quantity\n",
        "    delta_l: [] vector of errors associated with neuron in layer l\n",
        "        -> delta_l = dC/ da\n",
        "        -> Come from activation(a_l + little_delta)\n",
        "        -> delta_l = dC/dz_l = activation'(a_l)\n",
        "    \"\"\"\n",
        "    if self.debug:print(\"\\nBackward ...\")\n",
        "    \n",
        "    # Last layer\n",
        "    \"\"\" delta_L = nabla Hadamard_product act_func_derivative(w_L * h_L-1 + b) \"\"\"\n",
        "    delta = (output - labels) # softmax cross_entropy backward    \n",
        "    if self.debug:print(f\"      delta_{delta.shape}\")\n",
        "\n",
        "    # Save value\n",
        "    grads[f\"db{self.n_hidden + 1}\"] = np.expand_dims(np.mean(delta, axis=0), axis=0)\n",
        "    grads[f\"dA{self.n_hidden + 1}\"] = delta\n",
        "\n",
        "    \"\"\" dC/dw_L = h_L-1 * delta_L \"\"\"\n",
        "    z_in = cache[f\"Z{self.n_hidden}\"]\n",
        "    partial_derivatire = np.dot(z_in.T, delta) / z_in.shape[0]\n",
        "    # Save value\n",
        "    grads[f\"dW{self.n_hidden + 1}\"] = partial_derivatire\n",
        "\n",
        "    # From here, we need to apply the chain rule -  Loop backward\n",
        "    for layer_n in range(self.n_hidden, 0, -1):\n",
        "        \"\"\" delta_l = ((w_l+1).T * delta_l+1) element_wise_mul act_func_derivative(w_l * z_l-1 + b) \"\"\"\n",
        "        a = cache[f\"A{layer_n}\"]\n",
        "        activation_back = self.activation(a, grad=True)\n",
        "\n",
        "        # Find error (delta) for the current layer\n",
        "        weights_next = self.weights[f\"W{layer_n+1}\"]  \n",
        "        if self.debug:print(f\"      delta_pre_act = weight_{weights_next.T.shape} * delta_{delta.shape}\")  \n",
        "        delta_pre_act = np.dot(delta, weights_next.T)\n",
        "        grads[f\"dA{layer_n}\"] = delta_pre_act\n",
        "\n",
        "        # error * activation_back\n",
        "        if self.debug:print(f\"      delta_ = delta_pre_act_{delta_pre_act.shape} * activation_back_{activation_back.shape}\")\n",
        "        delta = delta_pre_act * activation_back\n",
        "        grads[f\"dZ{layer_n}\"] = delta\n",
        "\n",
        "        grads[f\"db{layer_n}\"] = np.expand_dims(np.mean(delta, axis=0), axis=0)\n",
        "\n",
        "        \"\"\" dC/dw_l = z_l-1 * delta_l \"\"\"\n",
        "        z_in = cache[f\"Z{layer_n-1}\"]\n",
        "        # partial_derivatire = z_in_(5, 64).T * delta_(5, 10)\n",
        "        partial_derivatire = np.dot(z_in.T, delta) / z_in.shape[0]\n",
        "\n",
        "        grads[f\"dW{layer_n}\"] = partial_derivatire\n",
        "\n",
        "    return grads\n",
        "\n",
        "  def update(self, grads):\n",
        "    \"\"\"\n",
        "      grads: np.dictionary\n",
        "        Gradients obtained from the backward pass.\n",
        "\n",
        "      Results: Updates the network's weights and biases.\n",
        "    \"\"\"\n",
        "    if self.debug:print(f\"\\nUpdate ... ~~~~~~~~~~~~~~~~\")\n",
        "    for layer in range(1, self.n_hidden + 2):\n",
        "        # WRITE CODE HERE\n",
        "        if self.debug:print(f\"layer_{layer}\")\n",
        "\n",
        "        grad = grads[f\"dW{layer}\"]\n",
        "        weights = self.weights[f\"W{layer}\"]\n",
        "        if self.debug:print(f\"   weights_{weights.shape} - lr * grad_{grad.shape}\")\n",
        "        weights = weights - self.lr * grad\n",
        "        self.weights[f\"W{layer}\"] = weights\n",
        "\n",
        "        bias_up = grads[f\"db{layer}\"]\n",
        "        bias = self.weights[f\"b{layer}\"]\n",
        "        if self.debug:print(f\"   weights_{bias.shape} - lr * bias_up_{bias_up.shape}\")\n",
        "        bias = bias - self.lr * bias_up\n",
        "        self.weights[f\"b{layer}\"] = bias"
      ],
      "metadata": {
        "id": "wGcNlHs101Sb"
      },
      "execution_count": 2,
      "outputs": []
    },
    {
      "cell_type": "code",
      "source": [
        "class Data_loader():\n",
        "    def __init__(self, batch_size=5):\n",
        "        self.batch_size = batch_size\n",
        "        self.data = dict()\n",
        "        for i in range(10):\n",
        "            X = np.random.normal(loc=i/2, scale=i/4, size=(30, 784))\n",
        "            labels = np.zeros(10)\n",
        "            labels[i] = 1\n",
        "            self.data[i] = (X, labels)\n",
        "\n",
        "    def next(self):\n",
        "        batch_X = []\n",
        "        batch_y = []\n",
        "        for i in range(self.batch_size):\n",
        "            k = np.random.choice(list(self.data.keys()))\n",
        "            j = np.random.choice(len(self.data[k][0]))\n",
        "            batch_X.append(self.data[k][0][j])\n",
        "            batch_y.append(self.data[k][1]) \n",
        "        return np.array(batch_X), np.array(batch_y)"
      ],
      "metadata": {
        "id": "61z_olvyCEmJ"
      },
      "execution_count": 3,
      "outputs": []
    },
    {
      "cell_type": "code",
      "source": [
        "\"\"\" Dummy exemple for testing \"\"\"\n",
        "# Param\n",
        "training_loop = 100\n",
        "batch_size = 5\n",
        "\n",
        "# Data\n",
        "data_load = Data_loader(batch_size)\n",
        "\n",
        "# MLP\n",
        "nn = NN()\n",
        "nn.debug = False\n",
        "nn.initialize_weights()\n",
        "\n",
        "for _ in range(training_loop):\n",
        "    X, y = data_load.next()\n",
        "    res = nn.forward(X)\n",
        "    output = res[\"Z3\"]\n",
        "    loss = nn.loss(output, y)\n",
        "    print(loss)\n",
        "    grads = nn.backward(res, y)\n",
        "\n",
        "    nn.update(grads)\n",
        "\n",
        "X, y = data_load.next()\n",
        "res = nn.forward(X)\n",
        "output = res[\"Z3\"]\n",
        "print(y)\n",
        "np.argmax(output, axis=1)\n"
      ],
      "metadata": {
        "colab": {
          "base_uri": "https://localhost:8080/"
        },
        "id": "OOSCMEbRKGVt",
        "outputId": "9eac5c0f-54be-4dac-edb8-e5511119c72b"
      },
      "execution_count": 4,
      "outputs": [
        {
          "output_type": "stream",
          "name": "stdout",
          "text": [
            "2.2908272414344246\n",
            "2.268255902805762\n",
            "2.3009746519694376\n",
            "2.275502496577709\n",
            "2.31179466386292\n",
            "2.2772327212067083\n",
            "2.32234764966615\n",
            "2.28784128416965\n",
            "2.2930451029077545\n",
            "2.3124080484580647\n",
            "2.2723494250557303\n",
            "2.3073098795637015\n",
            "2.27608395997915\n",
            "2.273900044673095\n",
            "2.26851157805561\n",
            "2.277956745887944\n",
            "2.271445374662251\n",
            "2.2725385848048\n",
            "2.3059788929908813\n",
            "2.2452957212575653\n",
            "2.2633332426183186\n",
            "2.247602482663675\n",
            "2.301969176719724\n",
            "2.1917290640173563\n",
            "2.224185805514165\n",
            "2.1399191684385475\n",
            "2.2644845109929994\n",
            "2.2832026506513055\n",
            "2.2944590145740333\n",
            "2.251659639357002\n",
            "2.2175193371693402\n",
            "2.1826301849296628\n",
            "2.141271458925128\n",
            "2.270107701952676\n",
            "2.345815323596416\n",
            "2.0974523664867912\n",
            "2.2400911625445104\n",
            "2.2708550885208845\n",
            "2.3565495734323583\n",
            "2.2401612437589544\n",
            "2.0714686483017006\n",
            "1.991235731004868\n",
            "2.3572550338553713\n",
            "1.9368873604921906\n",
            "2.332495529019637\n",
            "2.045138306685486\n",
            "2.018839965708838\n",
            "2.0035042210560903\n",
            "2.10733281259203\n",
            "2.38006711517105\n",
            "2.3429465561075267\n",
            "2.36459169974369\n",
            "2.058700802344566\n",
            "2.0772891234930126\n",
            "2.1335426131526978\n",
            "1.871177299270079\n",
            "2.0263705593684564\n",
            "2.2362475476893002\n",
            "2.085144130366854\n",
            "2.1200428980601553\n",
            "2.0048469572493066\n",
            "2.4450073210218304\n",
            "1.9317089095004334\n",
            "2.2621129476564783\n",
            "2.1881394060766555\n",
            "2.391101313643504\n",
            "2.069186555704047\n",
            "2.0075720391811456\n",
            "2.2219679202282316\n",
            "2.324039438960477\n",
            "1.8993377168356023\n",
            "1.8469988771874946\n",
            "1.8850530089104223\n",
            "2.403668806333495\n",
            "2.406474108219702\n",
            "2.398415023154759\n",
            "2.3610407989905675\n",
            "2.2757122012394935\n",
            "2.262738233449849\n",
            "1.848290747261505\n",
            "2.2247153474260903\n",
            "2.1676142882696676\n",
            "2.2763550460522195\n",
            "2.2489403188137773\n",
            "2.2204563340083183\n",
            "2.2163563496291845\n",
            "2.196556345169611\n",
            "2.0142082964318866\n",
            "2.1740916222366087\n",
            "2.2974226894447396\n",
            "2.288589656386956\n",
            "2.433651247962145\n",
            "2.1960218501152293\n",
            "1.9614432715345569\n",
            "2.3167890669059092\n",
            "2.0404087295323072\n",
            "2.1470363396851804\n",
            "2.028208891398668\n",
            "2.2129851875881252\n",
            "2.079612194558171\n",
            "[[0. 0. 0. 0. 0. 0. 0. 0. 0. 1.]\n",
            " [0. 0. 0. 0. 0. 0. 1. 0. 0. 0.]\n",
            " [0. 0. 0. 0. 0. 0. 1. 0. 0. 0.]\n",
            " [0. 0. 0. 0. 0. 1. 0. 0. 0. 0.]\n",
            " [0. 0. 0. 0. 0. 1. 0. 0. 0. 0.]]\n"
          ]
        },
        {
          "output_type": "execute_result",
          "data": {
            "text/plain": [
              "array([9, 9, 9, 9, 9])"
            ]
          },
          "metadata": {},
          "execution_count": 4
        }
      ]
    },
    {
      "cell_type": "code",
      "source": [
        "\"\"\" Dummy exemple for testing \"\"\"\n",
        "\n",
        "x = np.random.rand(5, 784)\n",
        "labels = np.zeros((5, 10))\n",
        "labels[:,:1] = 1\n",
        "print(labels)\n",
        "nn = NN()\n",
        "nn.debug = True\n",
        "nn.initialize_weights()\n",
        "\n",
        "for p in nn.weights.keys():\n",
        "    print(f\"{p}: {nn.weights[p].shape}\")\n",
        "res = nn.forward(x)\n",
        "output = res[\"Z3\"]\n",
        "training_loop = 1\n",
        "loss = nn.loss(output, labels)\n",
        "\n",
        "for _ in range(training_loop):\n",
        "    res = nn.forward(x)\n",
        "    output = res[\"Z3\"]\n",
        "    loss = nn.loss(output, labels)\n",
        "\n",
        "    grads = nn.backward(res, labels)\n",
        "\n",
        "    print(f\"Backprop res\")\n",
        "    for it in grads.keys():\n",
        "        print(f\"{it}: {grads[it].shape}\")\n",
        "\n",
        "    nn.update(grads)\n",
        "\n",
        "res = nn.forward(x)\n",
        "output = res[\"Z3\"]\n",
        "\n",
        "np.argmax(output, axis=1)"
      ],
      "metadata": {
        "colab": {
          "base_uri": "https://localhost:8080/"
        },
        "id": "cQ9s1cGIoHAt",
        "outputId": "11e8a3d7-6d3c-49fb-c9c9-3b5c830b7f65"
      },
      "execution_count": 5,
      "outputs": [
        {
          "output_type": "stream",
          "name": "stdout",
          "text": [
            "[[1. 0. 0. 0. 0. 0. 0. 0. 0. 0.]\n",
            " [1. 0. 0. 0. 0. 0. 0. 0. 0. 0.]\n",
            " [1. 0. 0. 0. 0. 0. 0. 0. 0. 0.]\n",
            " [1. 0. 0. 0. 0. 0. 0. 0. 0. 0.]\n",
            " [1. 0. 0. 0. 0. 0. 0. 0. 0. 0.]]\n",
            "W1: (784, 128)\n",
            "b1: (1, 128)\n",
            "W2: (128, 64)\n",
            "b2: (1, 64)\n",
            "W3: (64, 10)\n",
            "b3: (1, 10)\n",
            "\n",
            "Foward ...\n",
            "layer_1\n",
            "    z_(5, 784) dot w_(784, 128) + b_(1, 128)\n",
            "    = z_(5, 128)\n",
            "layer_2\n",
            "    z_(5, 128) dot w_(128, 64) + b_(1, 64)\n",
            "    = z_(5, 64)\n",
            "layer_3\n",
            "    z_(5, 64) dot w_(64, 10) + b_(1, 10)\n",
            "    = z_(5, 10)\n",
            "\n",
            "Foward ...\n",
            "layer_1\n",
            "    z_(5, 784) dot w_(784, 128) + b_(1, 128)\n",
            "    = z_(5, 128)\n",
            "layer_2\n",
            "    z_(5, 128) dot w_(128, 64) + b_(1, 64)\n",
            "    = z_(5, 64)\n",
            "layer_3\n",
            "    z_(5, 64) dot w_(64, 10) + b_(1, 10)\n",
            "    = z_(5, 10)\n",
            "\n",
            "Backward ...\n",
            "      delta_(5, 10)\n",
            "      delta_pre_act = weight_(10, 64) * delta_(5, 10)\n",
            "      delta_ = delta_pre_act_(5, 64) * activation_back_(5, 64)\n",
            "      delta_pre_act = weight_(64, 128) * delta_(5, 64)\n",
            "      delta_ = delta_pre_act_(5, 128) * activation_back_(5, 128)\n",
            "Backprop res\n",
            "db3: (1, 10)\n",
            "dA3: (5, 10)\n",
            "dW3: (64, 10)\n",
            "dA2: (5, 64)\n",
            "dZ2: (5, 64)\n",
            "db2: (1, 64)\n",
            "dW2: (128, 64)\n",
            "dA1: (5, 128)\n",
            "dZ1: (5, 128)\n",
            "db1: (1, 128)\n",
            "dW1: (784, 128)\n",
            "\n",
            "Update ... ~~~~~~~~~~~~~~~~\n",
            "layer_1\n",
            "   weights_(784, 128) - lr * grad_(784, 128)\n",
            "   weights_(1, 128) - lr * bias_up_(1, 128)\n",
            "layer_2\n",
            "   weights_(128, 64) - lr * grad_(128, 64)\n",
            "   weights_(1, 64) - lr * bias_up_(1, 64)\n",
            "layer_3\n",
            "   weights_(64, 10) - lr * grad_(64, 10)\n",
            "   weights_(1, 10) - lr * bias_up_(1, 10)\n",
            "\n",
            "Foward ...\n",
            "layer_1\n",
            "    z_(5, 784) dot w_(784, 128) + b_(1, 128)\n",
            "    = z_(5, 128)\n",
            "layer_2\n",
            "    z_(5, 128) dot w_(128, 64) + b_(1, 64)\n",
            "    = z_(5, 64)\n",
            "layer_3\n",
            "    z_(5, 64) dot w_(64, 10) + b_(1, 10)\n",
            "    = z_(5, 10)\n"
          ]
        },
        {
          "output_type": "execute_result",
          "data": {
            "text/plain": [
              "array([8, 8, 4, 8, 4])"
            ]
          },
          "metadata": {},
          "execution_count": 5
        }
      ]
    },
    {
      "cell_type": "markdown",
      "source": [
        "## Question 2: Implementing CNN layers with NumPy (20 points)\n",
        "Note: You may assume that there are no biases, no input padding (valid convolution) and also that convolution here refers to cross-correlation, i.e., no kernel flipping when convolving the inputs."
      ],
      "metadata": {
        "id": "bfDi9jm2nRpy"
      }
    },
    {
      "cell_type": "code",
      "source": [
        "class Convolution2dLayer(object):\n",
        "  \"\"\"\n",
        "    Implements a 2D convolution layer.\n",
        "  \"\"\"\n",
        "\n",
        "  def __init__(self, filter_size=3, stride=1, n_units=64, seed=0):\n",
        "    \"\"\"\n",
        "      Constructor of the Convolution2dLayer class.\n",
        "\n",
        "      Note: We assume that the input images have only a single channel.\n",
        "\n",
        "      filter_size: int, default 3\n",
        "        Filter size to use for convolution. We assume equal height and width.\n",
        "      stride: int, default 1\n",
        "        Stride for convolution.\n",
        "      n_units: int, default 64\n",
        "        Number of output channels, i.e., number of filters in the layer.\n",
        "      seed: int, default 0\n",
        "        Random seed.\n",
        "    \"\"\"\n",
        "    super(Convolution2dLayer, self).__init__()\n",
        "\n",
        "    self.filter_size = filter_size\n",
        "    self.stride = stride\n",
        "    self.n_units = n_units\n",
        "    self.seed = seed\n",
        "\n",
        "  def initialize_weights(self):     \n",
        "    \"\"\"\n",
        "      Results: Initializes the weights of the CNN from uniform(0, 1).\n",
        "    \"\"\"   \n",
        "    if self.seed is not None:\n",
        "      np.random.seed(self.seed)\n",
        "\n",
        "    # self.weights is an np.array of shape (n_units, filter_size, filter_size)\n",
        "    # We do not consider biases in this convolution layer implementation\n",
        "    # WRITE CODE HERE\n",
        "    self.weights = np.random.uniform(0, 1, (self.n_units, self.filter_size, self.filter_size))\n",
        "\n",
        "  def forward(self, x):\n",
        "    \"\"\"\n",
        "      x: np.array\n",
        "        Inputs to convolve. This may contain multiple input examples, not just one.\n",
        "        Note: We assume that the input images have only a single channel, e.g. (5, 1, 32, 32) where 5 is the number of\n",
        "        images, 1 channel, 32x32 image size.\n",
        "\n",
        "      Outputs: Inputs and the result of the convolution operation on the inputs stored in cache.\n",
        "\n",
        "      Note: You need not flip the kernel! You may just implement cross-correlation.\n",
        "    \"\"\"\n",
        "    cache = {}\n",
        "\n",
        "    # cache is a dictionary where cache[\"x\"] stores the inputs and cache[\"out\"] stores the outputs of the layer\n",
        "    # WRITE CODE HERE\n",
        "    cache[\"x\"] = x\n",
        "    cache[\"out\"] = None\n",
        "\n",
        "    # Fin output size\n",
        "    nb_img, channel, dim_x_img, dim_y_img = x.shape\n",
        "    dim_out = (dim_x_img-self.filter_size)//self.stride + 1\n",
        "    output = np.zeros((nb_img, self.n_units, dim_out, dim_out))\n",
        "\n",
        "    \"\"\" This oculd be speed up with matrix multiplication ... \"\"\"\n",
        "    # For each image\n",
        "    for img_idx in range(nb_img):\n",
        "        # For each filter\n",
        "        for n_idx in range(self.n_units):\n",
        "            # Apply kernel\n",
        "            img = x[img_idx, 0]\n",
        "            for i in range(0, dim_out, self.stride):\n",
        "                for j in range(0, dim_out, self.stride):\n",
        "                    # Select part of the img\n",
        "                    img_patch = img[i:i+self.filter_size, j:j+self.filter_size]\n",
        "                    # select kernel\n",
        "                    kernel = self.weights[n_idx]\n",
        "                    # Apply kernel\n",
        "                    kernel_output = np.multiply(img_patch, kernel)\n",
        "                    kernel_output = np.sum(kernel_output)\n",
        "                    # Save output\n",
        "                    output[img_idx, n_idx, i, j] = kernel_output\n",
        "    cache[\"out\"] = output\n",
        "    return cache\n",
        "\n",
        "  def backward(self, cache, grad_output):\n",
        "    \"\"\"\n",
        "      cache: dictionary\n",
        "        Contains the inputs and the result of the convolution operation applied on them.\n",
        "      grad_output: np.array\n",
        "        Gradient of the loss with respect to the outputs of the convolution layer.\n",
        "\n",
        "      Outputs: Gradient of the loss with respect to the parameters of the convolution layer.\n",
        "    \"\"\"\n",
        "    # grads is an np.array containing the gradient of the loss with respect to the parameters in the convolution layer\n",
        "    # Remember to account for the number of input examples!\n",
        "    # WRITE CODE HERE\n",
        "    grads = None\n",
        "    pass\n",
        "    return grads\n",
        "\n",
        "\n",
        "class MaxPooling2dLayer(object):\n",
        "  \"\"\"\n",
        "    Implements a 2D max-pooling layer.\n",
        "  \"\"\"\n",
        "\n",
        "  def __init__(self, filter_size=2):\n",
        "    \"\"\"\n",
        "      Constructor of the MaxPooling2dLayer class.\n",
        "\n",
        "      filter_size: int, default 2\n",
        "        Filter size to use for max-pooling. We assume equal height and width, and stride = height = width.\n",
        "    \"\"\"\n",
        "    super(MaxPooling2dLayer, self).__init__()\n",
        "  \n",
        "    self.filter_size = filter_size\n",
        "    self.stride = filter_size\n",
        "\n",
        "  def forward(self, x):\n",
        "    \"\"\"\n",
        "      x: np.array\n",
        "        Inputs to compute max-pooling for. This may contain multiple input examples, not just one.\n",
        "        Note: The input dimensions to max-pooling are the output dimensions of the convolution!\n",
        "\n",
        "      Outputs: Inputs and the result of the max-pooling operation on the inputs stored in cache.\n",
        "    \"\"\"\n",
        "    cache = {}\n",
        "\n",
        "    # cache is a dictionary where cache[\"x\"] stores the inputs and cache[\"out\"] stores the outputs of the layer\n",
        "    # WRITE CODE HERE\n",
        "    cache[\"x\"] = x\n",
        "    cache[\"out\"] = None\n",
        "\n",
        "    # Fin output size\n",
        "    nb_img, channel, dim_x_img, dim_y_img = x.shape\n",
        "    dim_out = (dim_x_img)//self.stride\n",
        "    output = np.zeros((nb_img, channel, dim_out, dim_out))\n",
        "\n",
        "    \"\"\" This could be speed up with matrix multiplication ... \"\"\"\n",
        "    # For each image\n",
        "    for img_idx in range(nb_img):\n",
        "        # For each filter\n",
        "        for channel_idx in range(channel):\n",
        "            # Apply kernel\n",
        "            img = x[img_idx, channel_idx]\n",
        "            for i in range(0, dim_out):\n",
        "                for j in range(0, dim_out):\n",
        "                    # Select part of the img\n",
        "                    loc_i = i*self.stride\n",
        "                    loc_j = j*self.stride\n",
        "                    img_patch = img[loc_i:loc_i+self.filter_size, loc_j:loc_j+self.filter_size]\n",
        "                    # Save output\n",
        "                    output[img_idx, channel_idx, i, j] = np.max(img_patch)\n",
        "    cache[\"out\"] = output\n",
        "\n",
        "    return cache\n",
        "\n",
        "  def backward(self, cache, grad_output):\n",
        "    \"\"\"\n",
        "      cache: dictionary\n",
        "        Contains the inputs and the result of the max-pooling operation applied on them.\n",
        "      grad_output: np.array\n",
        "        Gradient of the loss with respect to the outputs of the max-pooling layer.\n",
        "\n",
        "      Outputs: Gradient of the loss with respect to the inputs to the max-pooling layer.\n",
        "    \"\"\"\n",
        "    grads = None # WRITE CODE HERE (initialize grads correctly)\n",
        "\n",
        "    # grads is an np.array containing the gradient of the loss with respect to the inputs to the max-pooling layer\n",
        "    # Remember to account for the number of input examples!\n",
        "    # WRITE CODE HERE\n",
        "    pass\n",
        "    return grads"
      ],
      "metadata": {
        "id": "nE4N79Gondyy",
        "colab": {
          "base_uri": "https://localhost:8080/"
        },
        "outputId": "c429c45f-976c-4ce9-d284-20adb408106a"
      },
      "execution_count": 75,
      "outputs": [
        {
          "output_type": "stream",
          "name": "stdout",
          "text": [
            "[[[[2.04863103 1.86755507 2.57819173 4.44529977 3.6863929  0.02576482]\n",
            "   [3.47078926 4.59753703 3.5522788  0.88502891 2.41759064 0.70158009]\n",
            "   [1.79497639 4.68558521 4.61652654 1.41418426 1.69815522 3.00106434]\n",
            "   [4.81598648 0.73900667 1.28458322 4.36778414 2.45946116 4.49480546]\n",
            "   [0.92758949 2.66334294 1.63134816 1.5827128  2.23438482 2.16538725]\n",
            "   [1.7867344  4.57485385 3.65872093 3.63773496 1.44956725 2.88854712]]\n",
            "\n",
            "  [[3.89589717 3.97795184 1.7226523  3.85436378 3.67946948 0.70753243]\n",
            "   [4.32972734 2.20660735 2.43205224 2.24184589 2.83923001 3.10584624]\n",
            "   [2.49089783 4.33394272 3.13867378 2.00713975 2.08345878 4.05419308]\n",
            "   [1.74095971 1.05727398 0.29691594 4.38013424 4.59273226 0.60060091]\n",
            "   [1.67236871 0.87686035 0.57949234 4.49933372 0.2843863  4.90242832]\n",
            "   [0.4822543  4.31735325 2.83253053 1.83958744 1.71171188 3.78682072]]]]\n"
          ]
        },
        {
          "output_type": "execute_result",
          "data": {
            "text/plain": [
              "array([[[[4.59753703, 4.44529977, 3.6863929 ],\n",
              "         [4.81598648, 4.61652654, 4.49480546],\n",
              "         [4.57485385, 3.65872093, 2.88854712]],\n",
              "\n",
              "        [[4.32972734, 3.85436378, 3.67946948],\n",
              "         [4.33394272, 4.38013424, 4.59273226],\n",
              "         [4.31735325, 4.49933372, 4.90242832]]]])"
            ]
          },
          "metadata": {},
          "execution_count": 75
        }
      ]
    },
    {
      "cell_type": "code",
      "source": [
        "print()"
      ],
      "metadata": {
        "id": "S6BkW6KVC9Dd"
      },
      "execution_count": null,
      "outputs": []
    },
    {
      "cell_type": "code",
      "source": [
        "conv3x3 = Convolution2dLayer(n_units=2)\n",
        "conv3x3.initialize_weights()\n",
        "\n",
        "imgs = np.random.uniform(1, 2,(1,1,10,10))\n",
        "\n",
        "out = conv3x3.forward(imgs)\n",
        "\n",
        "for k in out.keys():\n",
        "    print(f\"{k}: {out[k].shape}\")\n",
        "\n",
        "maxPooling = MaxPooling2dLayer()\n",
        "out = maxPooling.forward(imgs)\n",
        "for k in out.keys():\n",
        "    print(f\"{k}: {out[k].shape}\")"
      ],
      "metadata": {
        "colab": {
          "base_uri": "https://localhost:8080/"
        },
        "id": "R5_99HVoWdgt",
        "outputId": "82efedc4-7531-4d26-af36-41ae6683e126"
      },
      "execution_count": 7,
      "outputs": [
        {
          "output_type": "stream",
          "name": "stdout",
          "text": [
            "x: (1, 1, 10, 10)\n",
            "out: (1, 2, 8, 8)\n",
            "x: (1, 1, 10, 10)\n",
            "out: (1, 1, 5, 5)\n"
          ]
        }
      ]
    },
    {
      "cell_type": "markdown",
      "source": [
        "## Question 3: Implementing a CNN and comparison with MLPs using PyTorch (50 points)"
      ],
      "metadata": {
        "id": "AUMIWPZVYXp_"
      }
    },
    {
      "cell_type": "code",
      "source": [
        "# DO NOT MODIFY!\n",
        "import torch\n",
        "import torch.nn as nn\n",
        "import torch.nn.functional as F\n",
        "import torch.nn.init as init\n",
        "import torch.optim as optim\n",
        "import torchvision\n",
        "import torchvision.transforms as transforms\n",
        "device = \"cuda\" if torch.cuda.is_available() else \"cpu\"\n",
        "\n",
        "# Fix random seed\n",
        "torch.manual_seed(0)\n",
        "torch.cuda.manual_seed_all(0)\n",
        "torch.cuda.manual_seed(0)\n",
        "torch.backends.cudnn.deterministic = True\n",
        "torch.backends.cudnn.benchmark = False"
      ],
      "metadata": {
        "id": "zWKKIED3CPsC"
      },
      "execution_count": 8,
      "outputs": []
    },
    {
      "cell_type": "code",
      "source": [
        "# from unittest import TestCase\n",
        "# TestCase.maxDiff = None\n",
        "\n",
        "class ResidualBlock(nn.Module):\n",
        "  \"\"\"This class implements the Residual Block used in ResNet-18.\"\"\"\n",
        "\n",
        "  def __init__(self, in_channels, channels, conv_stride=1, activation_str=\"relu\", initialization=\"xavier_normal\"):\n",
        "    \"\"\"\n",
        "      Constructor for the ResidualBlock class.\n",
        "\n",
        "      in_channels: int\n",
        "        Number of channels in the input to the block.\n",
        "      channels: int\n",
        "        Number of output channels for the block, i.e., number of filters.\n",
        "      conv_stride: int, default 1\n",
        "        Stride of the first convolution layer and downsampling convolution (if required).\n",
        "      activation_str: string, default \"relu\"\n",
        "        Activation function to use.\n",
        "      initialization: string, default \"xavier_normal\"\n",
        "        Initialization for convolution layer weights.\n",
        "    \"\"\"\n",
        "    super(ResidualBlock, self).__init__()\n",
        "\n",
        "    self.in_channels = in_channels\n",
        "    self.channels = channels\n",
        "    self.conv_stride = conv_stride\n",
        "    self.activation_str = activation_str\n",
        "    self.initialization = initialization\n",
        "\n",
        "    # Define these members by replacing `None` with the correct definitions\n",
        "    self.conv1 = nn.Conv2d(in_channels, channels, 3, stride=conv_stride, padding=1, bias=False)\n",
        "    self.bn1 = nn.BatchNorm2d(channels)\n",
        "    self.conv2 = nn.Conv2d(channels, channels, 3, stride=1, padding=1, bias=False)\n",
        "    self.bn2 = nn.BatchNorm2d(channels)\n",
        "\n",
        "    self.residual_connection = self.residual(in_channels, channels, conv_stride)\n",
        "\n",
        "    # Initialize weights for conv1 and conv2\n",
        "    if initialization == \"xavier_normal\":\n",
        "      nn.init.xavier_normal_(self.conv1.weight)\n",
        "      nn.init.xavier_normal_(self.conv2.weight)\n",
        "    elif initialization == \"xavier_uniform\":\n",
        "      nn.init.xavier_uniform_(self.conv1.weight)\n",
        "      nn.init.xavier_uniform_(self.conv2.weight)\n",
        "    elif initialization == \"kaiming_normal\":\n",
        "      nn.init.kaiming_normal_(self.conv1.weight)\n",
        "      nn.init.kaiming_normal_(self.conv2.weight)\n",
        "    else:\n",
        "      raise Exception(\"Invalid initialization\")\n",
        "\n",
        "  def activation(self, input):\n",
        "    \"\"\"\n",
        "      input: Tensor\n",
        "        Input on which the activation is applied.\n",
        "\n",
        "      Output: Result of activation function applied on input.\n",
        "        E.g. if self.activation_str is \"relu\", return relu(input).\n",
        "    \"\"\"\n",
        "    if self.activation_str == \"relu\":\n",
        "      return torch.relu(input)\n",
        "    elif self.activation_str == \"tanh\":\n",
        "      return torch.tanh(input)\n",
        "    else:\n",
        "      raise Exception(\"Invalid activation\")\n",
        "\n",
        "  def residual(self, in_channels, channels, conv_stride=1):\n",
        "    \"\"\"\n",
        "      in_channels: int\n",
        "        Number of input channels in the input to the block.\n",
        "      channels: int\n",
        "        Number of output channels for the block, i.e., number of filters.\n",
        "      conv_stride: int, default 1\n",
        "        Stride to use for downsampling 1x1 convolution.\n",
        "\n",
        "      Output: Returns an nn.Sequential object which computes the identity function of the input if stride is 1\n",
        "              and the number of input channels equals the number of output channels. Otherwise, it returns an\n",
        "              nn.Sequential object that downsamples its input using a 1x1-conv of the stride specified and\n",
        "              followed by a BatchNorm2d.\n",
        "    \"\"\"\n",
        "    layers = []\n",
        "    if conv_stride != 1 or in_channels != channels:\n",
        "      layers.append(nn.Conv2d(in_channels, channels, 1, stride=conv_stride, padding=0, bias=False))\n",
        "      layers.append(nn.BatchNorm2d(channels))\n",
        "    return nn.Sequential(*layers)\n",
        "\n",
        "  def forward(self, x):\n",
        "    \"\"\"\n",
        "      x: Tensor\n",
        "        Input to the block.\n",
        "\n",
        "      Outputs: Returns the output of the forward pass of the block.\n",
        "    \"\"\"\n",
        "    # WRITE CODE HERE\n",
        "    identity = x\n",
        "\n",
        "    out = self.conv1(x)\n",
        "    out = self.bn1(out)\n",
        "    out = self.activation(out)\n",
        "\n",
        "    out = self.conv2(out)\n",
        "    out = self.bn2(out)\n",
        "\n",
        "    out += self.residual_connection(identity)\n",
        "    out = self.activation(out)\n",
        "\n",
        "    return out"
      ],
      "metadata": {
        "id": "ntEJKZ2eYgqk"
      },
      "execution_count": 9,
      "outputs": []
    },
    {
      "cell_type": "code",
      "source": [
        "class ResNet18(nn.Module):\n",
        "  \"\"\"This class implements the ResNet-18 architecture from its components.\"\"\"\n",
        "\n",
        "  def __init__(self, activation_str=\"relu\", initialization=\"xavier_normal\"):\n",
        "    \"\"\"\n",
        "      Constructor for the ResNet18 class.\n",
        "\n",
        "      activation_str: string, default \"relu\"\n",
        "        Activation function to use.\n",
        "      initialization: string, default \"xavier_normal\"\n",
        "        Weight initialization to use.\n",
        "    \"\"\"\n",
        "    super(ResNet18, self).__init__()\n",
        "\n",
        "    self.n_classes = 10\n",
        "    self.activation_str = activation_str\n",
        "    self.initialization = initialization\n",
        "\n",
        "    # Define these members by replacing `None` with the correct definitions\n",
        "    self.conv1 = nn.Conv2d(3, 64, 3, stride=1, padding=1, bias=False)\n",
        "    self.bn1 = nn.BatchNorm2d(64)\n",
        "    self.layer1 = self._create_layer(64, 64) \n",
        "    self.layer2 = self._create_layer(64, 128, conv_stride=2)\n",
        "    self.layer3 = self._create_layer(128, 256, conv_stride=2)\n",
        "    self.layer4 = self._create_layer(256, 512, conv_stride=2)  \n",
        "    self.avgpool = nn.AdaptiveAvgPool2d((1,1))\n",
        "    self.linear = nn.Linear(512, 10)\n",
        "  \n",
        "  def activation(self, input):\n",
        "    \"\"\"\n",
        "      input: Tensor\n",
        "        Input on which the activation is applied.\n",
        "\n",
        "      Output: Result of activation function applied on input.\n",
        "        E.g. if self.activation_str is \"relu\", return relu(input).\n",
        "    \"\"\"\n",
        "    if self.activation_str == \"relu\":\n",
        "      return torch.relu(input)\n",
        "    elif self.activation_str == \"tanh\":\n",
        "      return torch.tanh(input)\n",
        "    else:\n",
        "      raise Exception(\"Invalid activation\")\n",
        "\n",
        "  def _create_layer(self, in_channels, channels, conv_stride=1):\n",
        "    \"\"\"\n",
        "      in_channels: int\n",
        "        Number of input channels present in the input to the layer.\n",
        "      out_channels: int\n",
        "        Number of output channels for the layer, i.e., the number of filters.\n",
        "      conv_stride: int, default 1\n",
        "        Stride of the first convolution layer in the block and the downsampling convolution (if required).\n",
        "\n",
        "      Outputs: Returns an nn.Sequential object giving a \"layer\" of the ResNet, consisting of 2 blocks each.\n",
        "    \"\"\"\n",
        "    # Modify the following statement to return an nn.Sequential object containing 2 ResidualBlocks.\n",
        "    # You must make sure that the appropriate channels and conv_stride are provided.\n",
        "    return nn.Sequential(\n",
        "        ResidualBlock(in_channels, channels, conv_stride=conv_stride, activation_str=self.activation_str, initialization=self.initialization),\n",
        "        ResidualBlock(channels, channels, conv_stride=1, activation_str=self.activation_str, initialization=self.initialization)\n",
        "    )\n",
        "\n",
        "  def get_first_conv_layer_filters(self):\n",
        "    \"\"\"\n",
        "      Outputs: Returns the filters in the first convolution layer.\n",
        "    \"\"\"\n",
        "    return self.conv1.weight.clone().cpu().detach().numpy()\n",
        "\n",
        "  def get_last_conv_layer_filters(self):\n",
        "    \"\"\"\n",
        "      Outputs: Returns the filters in the last convolution layer.\n",
        "    \"\"\"\n",
        "    return list(self.layer4.modules())[1].conv2.weight.clone().cpu().detach().numpy()\n",
        "\n",
        "  def forward(self, x):\n",
        "    \"\"\"\n",
        "      x: Tensor\n",
        "        Input to the network.\n",
        "\n",
        "      Outputs: Returns the output of the forward pass of the network.\n",
        "    \"\"\"\n",
        "    out = self.conv1(x)\n",
        "    out = self.bn1(out)\n",
        "    out = self.activation(out)\n",
        "\n",
        "    out = self.layer1(out)\n",
        "    out = self.layer2(out)\n",
        "    out = self.layer3(out)\n",
        "    out = self.layer4(out)\n",
        "    \n",
        "    out = self.avgpool(out)\n",
        "    out = torch.flatten(out, 1)\n",
        "    out = self.linear(out)\n",
        "\n",
        "    return out"
      ],
      "metadata": {
        "id": "o0XI3Qo1nMEq"
      },
      "execution_count": 10,
      "outputs": []
    },
    {
      "cell_type": "code",
      "source": [
        "def get_cifar10():  \n",
        "  transform = transforms.Compose([\n",
        "      transforms.ToTensor()\n",
        "  ])\n",
        "\n",
        "  train_dataset = torchvision.datasets.CIFAR10(\n",
        "      root='./data', train=True, download=True, transform=transform)\n",
        "  train_loader = torch.utils.data.DataLoader(\n",
        "      train_dataset, batch_size=128, shuffle=True, num_workers=2)\n",
        "\n",
        "  val_dataset = torchvision.datasets.CIFAR10(\n",
        "      root='./data', train=False, download=True, transform=transform)\n",
        "  val_loader = torch.utils.data.DataLoader(\n",
        "      val_dataset, batch_size=128, shuffle=False, num_workers=2)\n",
        "  \n",
        "  return train_loader, val_loader\n",
        "\n",
        "def train_loop(epoch, model, train_loader, criterion, optimizer):\n",
        "  \"\"\"\n",
        "    epoch: int\n",
        "      Number of the current training epoch (starting from 0).\n",
        "    model: ResNet18\n",
        "      The model to train, which is an instance of the ResNet18 class.\n",
        "    train_loader: DataLoader\n",
        "      The training dataloader.\n",
        "    criterion: Module\n",
        "      A Module object that evaluates the crossentropy loss.\n",
        "    optimizer: Optimizer\n",
        "      An Optimizer object for the Adam optimizer.\n",
        "\n",
        "    Outputs: Returns average train_acc and train_loss for the current epoch.\n",
        "  \"\"\"\n",
        "  train_acc = 0.\n",
        "  train_loss = 0.\n",
        "  nb_data = 0 \n",
        "\n",
        "  for inputs, labels in train_loader:\n",
        "      # Get input:\n",
        "      inputs, labels = inputs.to(device), labels.to(device)\n",
        "\n",
        "      # Zeros the parameter gradient\n",
        "      optimizer.zero_grad()\n",
        "      \n",
        "      # Foward + backward + optimize\n",
        "      outputs = model(inputs)\n",
        "      loss = criterion(outputs, labels)\n",
        "      loss.backward()\n",
        "      optimizer.step()\n",
        "\n",
        "      # Get stats\n",
        "      train_loss += loss.item()\n",
        "      _, pred = torch.max(outputs.data, 1)\n",
        "      train_acc += (pred == labels).sum().item()\n",
        "      nb_data += labels.size(0)\n",
        "\n",
        "  train_acc = train_acc / nb_data\n",
        "\n",
        "  print(f\"Epoch: {epoch} | Train Acc: {train_acc:.6f} | Train Loss: {train_loss:.6f}\")\n",
        "  return train_acc, train_loss\n",
        "\n",
        "def valid_loop(epoch, model, val_loader, criterion):\n",
        "  \"\"\"\n",
        "    epoch: int\n",
        "      Number of the current epoch (starting from 0).\n",
        "    model: ResNet18\n",
        "      The model to train, which is an instance of the ResNet18 class.\n",
        "    val_loader: DataLoader\n",
        "      The validation dataloader.\n",
        "    criterion: Module\n",
        "      A Module object that evaluates the crossentropy loss.\n",
        "\n",
        "    Outputs: Returns average val_acc and val_loss for the current epoch.\n",
        "  \"\"\"\n",
        "  val_acc = 0.\n",
        "  val_loss = 0.\n",
        "  nb_data = 0\n",
        "\n",
        "  # WRITE CODE HERE\n",
        "\n",
        "  for inputs, labels in val_loader:\n",
        "      # Get input:\n",
        "      inputs, labels = inputs.to(device), labels.to(device)\n",
        "      \n",
        "      # Foward + backward + optimize\n",
        "      outputs = model(inputs)\n",
        "      loss = criterion(outputs, labels)\n",
        "\n",
        "      # Get stats\n",
        "      val_loss += loss.item()\n",
        "      _, pred = torch.max(outputs.data, 1)\n",
        "      val_acc += (pred == labels).sum().item()\n",
        "      nb_data += labels.size(0)\n",
        "\n",
        "  val_acc = val_acc / nb_data\n",
        "\n",
        "  print(f\"Epoch: {epoch} | Val Acc: {val_acc:.6f}   | Val Loss: {val_loss:.6f}\")\n",
        "  return val_acc, val_loss"
      ],
      "metadata": {
        "id": "VTImAF6S7xIU"
      },
      "execution_count": 51,
      "outputs": []
    },
    {
      "cell_type": "code",
      "source": [
        "activation_str = \"relu\"\n",
        "initialization = \"xavier_normal\""
      ],
      "metadata": {
        "id": "8fsB_xpIC1oG"
      },
      "execution_count": 12,
      "outputs": []
    },
    {
      "cell_type": "markdown",
      "source": [
        "### Check image to be sure everything is ok"
      ],
      "metadata": {
        "id": "tFKc9SzLLAUg"
      }
    },
    {
      "cell_type": "code",
      "source": [
        "import matplotlib.pyplot as plt\n",
        "\n",
        "img, label = train_loader.dataset[90]\n",
        "print(f\"Img size: {img.shape}\")\n",
        "print(f\"Label: {label}\")\n",
        "\n",
        "plt.imshow(np.transpose(img.numpy(), (1, 2, 0)))"
      ],
      "metadata": {
        "id": "5eIH06UewP30"
      },
      "execution_count": 28,
      "outputs": []
    },
    {
      "cell_type": "markdown",
      "source": [
        "### Training"
      ],
      "metadata": {
        "id": "NBJ8a460K-h5"
      }
    },
    {
      "cell_type": "code",
      "source": [
        "if __name__ == \"__main__\":\n",
        "  use_cuda = torch.cuda.is_available()\n",
        "  device = torch.device(\"cuda:0\" if use_cuda else \"cpu\")\n",
        "\n",
        "  train_accs, train_losses, val_accs, val_losses = [], [], [], []\n",
        "  n_epochs = 25\n",
        "\n",
        "  model = ResNet18(\n",
        "    activation_str=activation_str,\n",
        "    initialization=initialization\n",
        "  ).to(device)\n",
        "  criterion = nn.CrossEntropyLoss()\n",
        "  optimizer = optim.Adam(model.parameters())\n",
        "\n",
        "  train_loader, val_loader = get_cifar10()\n",
        "  \n",
        "  for epoch in range(n_epochs):\n",
        "    # Training\n",
        "    train_acc, train_loss = train_loop(epoch, model, train_loader, criterion, optimizer)\n",
        "    train_accs.append(train_acc)\n",
        "    train_losses.append(train_loss)\n",
        "\n",
        "    # Validation\n",
        "    val_acc, val_loss = valid_loop(epoch, model, val_loader, criterion)\n",
        "    val_accs.append(val_acc)\n",
        "    val_losses.append(val_loss)"
      ],
      "metadata": {
        "id": "Fr4bZ8W1B6Kc",
        "colab": {
          "base_uri": "https://localhost:8080/"
        },
        "outputId": "b86f22d3-8996-4e52-eb8e-dc3fca623537"
      },
      "execution_count": 76,
      "outputs": [
        {
          "output_type": "stream",
          "name": "stdout",
          "text": [
            "Files already downloaded and verified\n",
            "Files already downloaded and verified\n",
            "Epoch: 0 | Train Acc: 0.553700 | Train Loss: 481.993427\n",
            "Epoch: 0 | Val Acc: 0.705320   | Val Loss: 320.843456\n",
            "Epoch: 1 | Train Acc: 0.741360 | Train Loss: 286.732858\n",
            "Epoch: 1 | Val Acc: 0.804680   | Val Loss: 219.213965\n",
            "Epoch: 2 | Train Acc: 0.811440 | Train Loss: 211.479459\n",
            "Epoch: 2 | Val Acc: 0.861580   | Val Loss: 159.887525\n",
            "Epoch: 3 | Train Acc: 0.854360 | Train Loss: 162.597495\n",
            "Epoch: 3 | Val Acc: 0.894320   | Val Loss: 120.297092\n",
            "Epoch: 4 | Train Acc: 0.889280 | Train Loss: 123.340824\n",
            "Epoch: 4 | Val Acc: 0.924320   | Val Loss: 86.760432\n",
            "Epoch: 5 | Train Acc: 0.917160 | Train Loss: 92.113537\n",
            "Epoch: 5 | Val Acc: 0.945000   | Val Loss: 64.309607\n",
            "Epoch: 6 | Train Acc: 0.937220 | Train Loss: 69.355306\n",
            "Epoch: 6 | Val Acc: 0.961120   | Val Loss: 44.628315\n",
            "Epoch: 7 | Train Acc: 0.955140 | Train Loss: 50.000270\n",
            "Epoch: 7 | Val Acc: 0.975200   | Val Loss: 29.585306\n",
            "Epoch: 8 | Train Acc: 0.967220 | Train Loss: 36.889663\n",
            "Epoch: 8 | Val Acc: 0.974740   | Val Loss: 29.268700\n",
            "Epoch: 9 | Train Acc: 0.971520 | Train Loss: 31.374057\n",
            "Epoch: 9 | Val Acc: 0.981460   | Val Loss: 20.811072\n",
            "Epoch: 10 | Train Acc: 0.976280 | Train Loss: 26.313181\n",
            "Epoch: 10 | Val Acc: 0.985180   | Val Loss: 18.339092\n",
            "Epoch: 11 | Train Acc: 0.979920 | Train Loss: 22.639862\n",
            "Epoch: 11 | Val Acc: 0.985280   | Val Loss: 17.072499\n",
            "Epoch: 12 | Train Acc: 0.981980 | Train Loss: 19.710296\n",
            "Epoch: 12 | Val Acc: 0.983140   | Val Loss: 18.931272\n",
            "Epoch: 13 | Train Acc: 0.981820 | Train Loss: 20.140320\n",
            "Epoch: 13 | Val Acc: 0.984140   | Val Loss: 17.392067\n",
            "Epoch: 14 | Train Acc: 0.986460 | Train Loss: 15.853244\n",
            "Epoch: 14 | Val Acc: 0.979700   | Val Loss: 22.838036\n",
            "Epoch: 15 | Train Acc: 0.985240 | Train Loss: 16.830390\n",
            "Epoch: 15 | Val Acc: 0.988740   | Val Loss: 12.763384\n",
            "Epoch: 16 | Train Acc: 0.987900 | Train Loss: 13.363435\n",
            "Epoch: 16 | Val Acc: 0.988400   | Val Loss: 13.627687\n",
            "Epoch: 17 | Train Acc: 0.989160 | Train Loss: 13.002989\n",
            "Epoch: 17 | Val Acc: 0.987280   | Val Loss: 14.235700\n",
            "Epoch: 18 | Train Acc: 0.986880 | Train Loss: 15.143825\n",
            "Epoch: 18 | Val Acc: 0.984680   | Val Loss: 17.316482\n",
            "Epoch: 19 | Train Acc: 0.987820 | Train Loss: 13.326655\n",
            "Epoch: 19 | Val Acc: 0.992180   | Val Loss: 8.446556\n",
            "Epoch: 20 | Train Acc: 0.988060 | Train Loss: 13.097637\n",
            "Epoch: 20 | Val Acc: 0.992560   | Val Loss: 8.657749\n",
            "Epoch: 21 | Train Acc: 0.992920 | Train Loss: 8.487860\n",
            "Epoch: 21 | Val Acc: 0.993220   | Val Loss: 7.464286\n",
            "Epoch: 22 | Train Acc: 0.991240 | Train Loss: 10.038380\n",
            "Epoch: 22 | Val Acc: 0.990020   | Val Loss: 12.435983\n",
            "Epoch: 23 | Train Acc: 0.987660 | Train Loss: 13.384437\n",
            "Epoch: 23 | Val Acc: 0.991340   | Val Loss: 10.177250\n",
            "Epoch: 24 | Train Acc: 0.994280 | Train Loss: 6.974549\n",
            "Epoch: 24 | Val Acc: 0.995080   | Val Loss: 5.438757\n"
          ]
        }
      ]
    },
    {
      "cell_type": "code",
      "source": [
        "torch.save(model, \"resnet18\")"
      ],
      "metadata": {
        "id": "Bk9gHyJ7RcIR"
      },
      "execution_count": 83,
      "outputs": []
    },
    {
      "cell_type": "markdown",
      "source": [
        "### Questions 3.4, 3.5, 3.6, 3.7, 3.8\n",
        "You may write your own code for these questions below. These will not be autograded and you need not submit code for these, only the report."
      ],
      "metadata": {
        "id": "AAtU_NnOmzl5"
      }
    },
    {
      "cell_type": "markdown",
      "source": [
        "### 3.4"
      ],
      "metadata": {
        "id": "XxJUVm2NJJeG"
      }
    },
    {
      "cell_type": "code",
      "source": [
        "plt.figure(0)\n",
        "plt.ylabel(\"Training loss\")\n",
        "plt.xlabel(\"Epoch\")\n",
        "plt.figure(1)\n",
        "plt.ylabel(\"Training accuracy\")\n",
        "plt.xlabel(\"Epoch\")\n",
        "\n",
        "\n",
        "plt.figure(0)\n",
        "plt.plot(train_losses, label=\"Training\")\n",
        "plt.plot(val_losses, label=\"Validation\")\n",
        "plt.legend(loc=\"lower right\")\n",
        "\n",
        "plt.figure(1)\n",
        "plt.plot(train_accs, label=\"Training\")\n",
        "plt.plot(val_accs, label=\"Validation\")\n",
        "plt.legend(loc=\"lower right\")"
      ],
      "metadata": {
        "id": "yKLupRrwIu_U",
        "outputId": "b26abd29-1f1a-4861-ba3d-8dbfb7f7d3b8",
        "colab": {
          "base_uri": "https://localhost:8080/",
          "height": 560
        }
      },
      "execution_count": 81,
      "outputs": [
        {
          "output_type": "execute_result",
          "data": {
            "text/plain": [
              "<matplotlib.legend.Legend at 0x7f75701fed90>"
            ]
          },
          "metadata": {},
          "execution_count": 81
        },
        {
          "output_type": "display_data",
          "data": {
            "text/plain": [
              "<Figure size 432x288 with 1 Axes>"
            ],
            "image/png": "[encoded data removed]"
          },
          "metadata": {
            "needs_background": "light"
          }
        },
        {
          "output_type": "display_data",
          "data": {
            "text/plain": [
              "<Figure size 432x288 with 1 Axes>"
            ],
            "image/png": "[encoded data removed]"
          },
          "metadata": {
            "needs_background": "light"
          }
        }
      ]
    },
    {
      "cell_type": "code",
      "source": [
        "def print_filter(filters, n_filter_to_display=6):\n",
        "    # Normalize \n",
        "    f_min, f_max = filters.max(), filters.min()\n",
        "    filters = (filters - f_min) / (f_max - f_min)\n",
        "\n",
        "    i_idx = 1\n",
        "    for f_idx in range(n_filter_to_display):\n",
        "        filter = filters[f_idx, :, :, :]\n",
        "        for p_idx in range(3):\n",
        "            ax = plt.subplot(n_filter_to_display, 3, i_idx)\n",
        "            ax.set_xticks([])\n",
        "            ax.set_yticks([])\n",
        "            # Plot\n",
        "            plt.imshow(filter[p_idx,:,:], cmap='gray')\n",
        "            i_idx += 1\n",
        "    plt.show()\n",
        "    \n",
        "\n",
        "print(\"First layer filters\")\n",
        "first_filters = model.get_first_conv_layer_filters()\n",
        "print_filter(first_filters)"
      ],
      "metadata": {
        "id": "6J0DHhq_RpNN",
        "outputId": "114a5aef-920e-474d-c1f4-5ef448c69446",
        "colab": {
          "base_uri": "https://localhost:8080/",
          "height": 269
        }
      },
      "execution_count": 109,
      "outputs": [
        {
          "output_type": "stream",
          "name": "stdout",
          "text": [
            "First layer filters\n"
          ]
        },
        {
          "output_type": "display_data",
          "data": {
            "text/plain": [
              "<Figure size 432x288 with 18 Axes>"
            ],
            "image/png": "[encoded data removed]"
          },
          "metadata": {}
        }
      ]
    },
    {
      "cell_type": "code",
      "source": [
        "print(\"Last layer filters\")\n",
        "last_filters = model.get_last_conv_layer_filters()\n",
        "print_filter(last_filters)"
      ],
      "metadata": {
        "id": "BKC6XstsRxYZ",
        "outputId": "009237a4-c953-415e-8145-863d9cff1962",
        "colab": {
          "base_uri": "https://localhost:8080/",
          "height": 269
        }
      },
      "execution_count": 110,
      "outputs": [
        {
          "output_type": "stream",
          "name": "stdout",
          "text": [
            "Last layer filters\n"
          ]
        },
        {
          "output_type": "display_data",
          "data": {
            "text/plain": [
              "<Figure size 432x288 with 18 Axes>"
            ],
            "image/png": "[encoded data removed]"
          },
          "metadata": {}
        }
      ]
    },
    {
      "cell_type": "code",
      "source": [
        "# For Q 3.6\n",
        "if __name__ == \"__main__\":\n",
        "  vis_image = None\n",
        "  for data, labels in val_loader:\n",
        "    vis_image = data[12].unsqueeze(0)\n",
        "    break"
      ],
      "metadata": {
        "id": "9UcxsPr-hyNH"
      },
      "execution_count": 105,
      "outputs": []
    },
    {
      "cell_type": "code",
      "source": [
        "import pickle\n",
        "vis_image = pickle.load(open(\"vis_image.pkl\", \"rb\")).to(device)\n",
        "plt.imshow(vis_image.squeeze().permute(1, 2, 0).cpu().detach().numpy())"
      ],
      "metadata": {
        "id": "97vOdvgsZ-eN"
      },
      "execution_count": null,
      "outputs": []
    },
    {
      "cell_type": "code",
      "source": [
        "import matplotlib.pyplot as plt\n",
        "plt.imshow(vis_image.squeeze().permute(1, 2, 0).cpu().detach().numpy())"
      ],
      "metadata": {
        "id": "eJpCIBVolmZk",
        "colab": {
          "base_uri": "https://localhost:8080/",
          "height": 283
        },
        "outputId": "b17364af-6a90-4fb6-b495-b9432a957318"
      },
      "execution_count": 106,
      "outputs": [
        {
          "output_type": "execute_result",
          "data": {
            "text/plain": [
              "<matplotlib.image.AxesImage at 0x7f74050a7150>"
            ]
          },
          "metadata": {},
          "execution_count": 106
        },
        {
          "output_type": "display_data",
          "data": {
            "text/plain": [
              "<Figure size 432x288 with 1 Axes>"
            ],
            "image/png": "[encoded data removed]"
          },
          "metadata": {
            "needs_background": "light"
          }
        }
      ]
    },
    {
      "cell_type": "markdown",
      "source": [
        "### Display the feature map"
      ],
      "metadata": {
        "id": "qQg2PjcCaA8v"
      }
    },
    {
      "cell_type": "code",
      "source": [
        "vis_image.shape"
      ],
      "metadata": {
        "colab": {
          "base_uri": "https://localhost:8080/"
        },
        "id": "iUX8i72Q1yZL",
        "outputId": "07ce033d-8759-44b0-c972-d6ff771de2ae"
      },
      "execution_count": 108,
      "outputs": [
        {
          "output_type": "execute_result",
          "data": {
            "text/plain": [
              "torch.Size([1, 3, 32, 32])"
            ]
          },
          "metadata": {},
          "execution_count": 108
        }
      ]
    },
    {
      "cell_type": "code",
      "source": [
        "first_filters.shape"
      ],
      "metadata": {
        "id": "chaLpRn8aRbC",
        "outputId": "9c6c31c2-799a-45eb-cd45-8841db10bf73",
        "colab": {
          "base_uri": "https://localhost:8080/"
        }
      },
      "execution_count": 113,
      "outputs": [
        {
          "output_type": "execute_result",
          "data": {
            "text/plain": [
              "(64, 3, 3, 3)"
            ]
          },
          "metadata": {},
          "execution_count": 113
        }
      ]
    },
    {
      "cell_type": "code",
      "source": [
        "# Fin output size\n",
        "nb_img, channel, dim_x_img, dim_y_img = vis_image.shape\n",
        "dim_out = (dim_x_img-3)//1 + 1\n",
        "\n",
        "\"\"\" This oculd be speed up with matrix multiplication ... \"\"\"\n",
        "# For each filter\n",
        "\n",
        "output = np.zeros((64, dim_out, dim_out))\n",
        "\n",
        "for filter_idx in range(first_filters.shape[0]):\n",
        "    filter = first_filters[filter_idx]\n",
        "\n",
        "    for channel_i in range(filter.shape[0]):\n",
        "        # Apply kernel\n",
        "        kernel = filter[channel_i]\n",
        "        img = vis_image[0, channel_i].numpy()\n",
        "        for i in range(0, dim_out):\n",
        "            for j in range(0, dim_out):\n",
        "                # Select part of the img\n",
        "                img_patch = img[i:i+3, j:j+3]\n",
        "                # Apply kernel\n",
        "                kernel_output = np.multiply(img_patch, kernel)\n",
        "                kernel_output = np.sum(kernel_output)\n",
        "                # Save output\n",
        "                output[filter_idx, i, j] = kernel_output\n",
        "\n",
        "output.shape\n",
        "plt.imshow(output[0])\n",
        "i_idx = 1\n",
        "nb_filter = 6 # output.shape[0]\n",
        "for p_idx in range(nb_filter):\n",
        "    ax = plt.subplot(nb_filter, 3, i_idx)\n",
        "    ax.set_xticks([])\n",
        "    ax.set_yticks([])\n",
        "    # Plot\n",
        "    plt.imshow(output[p_idx,:,:], cmap='gray')\n",
        "    i_idx += 1\n",
        "plt.show()"
      ],
      "metadata": {
        "id": "2pMxVzvNak0G",
        "outputId": "482054fe-c051-45f7-9528-0ac6b0e14228",
        "colab": {
          "base_uri": "https://localhost:8080/",
          "height": 103
        }
      },
      "execution_count": 141,
      "outputs": [
        {
          "output_type": "display_data",
          "data": {
            "text/plain": [
              "<Figure size 432x288 with 6 Axes>"
            ],
            "image/png": "[encoded data removed]"
          },
          "metadata": {}
        }
      ]
    },
    {
      "cell_type": "code",
      "source": [],
      "metadata": {
        "id": "2OvPkdIpgpIY"
      },
      "execution_count": null,
      "outputs": []
    }
  ]
}